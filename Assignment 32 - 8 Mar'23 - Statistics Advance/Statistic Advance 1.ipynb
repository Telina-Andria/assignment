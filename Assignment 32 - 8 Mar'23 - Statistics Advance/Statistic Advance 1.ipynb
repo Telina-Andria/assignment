{
 "cells": [
  {
   "cell_type": "markdown",
   "id": "186a8bc0",
   "metadata": {},
   "source": [
    "# Q1. What is the Probability density function?"
   ]
  },
  {
   "cell_type": "markdown",
   "id": "80ae21c8",
   "metadata": {},
   "source": [
    "Probability Density Function is a probability function that define the density of a continious random variable within a range of value. In other word , it determine the likelihood of a continious random variable."
   ]
  },
  {
   "cell_type": "markdown",
   "id": "28318ad5",
   "metadata": {},
   "source": [
    "# Q2. What are the types of Probability distribution?\n"
   ]
  },
  {
   "cell_type": "markdown",
   "id": "8e94a346",
   "metadata": {},
   "source": [
    "There are two types of random variables: discrete and continuous random variables. Discrete random variables are those that can only take on a finite or countably infinite number of values. The most common distributions for discrete random variables are:\n",
    "1. Bernoulli distribution: This distribution models a single trial of a binary experiment with probability of success p. The random variable takes on the value 1 if the experiment is successful and 0 otherwise.\n",
    "\n",
    "                                                E[X] = p , Var[X] = p(1-p)\n",
    "<img src=\"img/ber2.svg\">\n",
    "\n",
    "\n",
    "2. Binomial distribution: This distribution models the number of successes in n independent and identically distributed Bernoulli trials, each with probability of success p. The random variable takes on values from 0 to n.\n",
    "<img src=\"img/bin2.svg\"><img src=\"img/bin1.svg\"> \n",
    "\n",
    "3. Poisson distribution: This distribution models the number of events that occur in a fixed interval of time or space, given that the events occur independently and at a constant rate. The random variable takes on values from 0 to infinity.\n",
    "                                                 \n",
    "                                                 E[X] =  λ , Var[X] =  λ\n",
    "<img src=\"img/poi2.svg\">\n",
    "\n",
    "4. Geometric distribution: This distribution models the number of trials needed to obtain the first success in a sequence of independent Bernoulli trials, each with probability of success p. The random variable takes on values from 1 to infinity.\n",
    "<img src=\"img/geo1.svg\"><img src=\"img/geo2.svg\">\n",
    "\n",
    "Continuous random variables are those that can take on any value within a certain range. The most common distributions for continuous random variables are:\n",
    "1. Uniform distribution: This distribution models a continuous random variable that is equally likely to take on any value within a specified range. For uniform within range [a,b] : \n",
    "\n",
    "                                                  E[X] = (a+b)/2 , Var[X] = (b-a)^2/12 \n",
    "<img src=\"img/uni2.svg\"> \n",
    "<img src=\"img/uniform.png\" width=450>\n",
    "\n",
    "2. Exponential distribution: This distribution models the time between events that occur independently and at a constant rate. The random variable takes on values from 0 to infinity.\n",
    "<img src=\"img/expo1.svg\">\n",
    "<img src=\"img/expo3.svg\">\n",
    "<img src=\"img/expo2.svg\">\n",
    "<img src=\"img/expo.png\" width=450>\n",
    "\n",
    "3. Cauchy distribution: This distribution has heavy tails and no mean or variance. It is often used in Bayesian statistics and in modeling extreme events.It has no esperance and no standard deviation.\n",
    "<img src=\"img/cauchy1.svg\">\n",
    "<img src=\"img/cauchy2.png\" width=\"450\">\n",
    "\n",
    "4. Normal distribution: This distribution is often called the bell curve and is used to model many natural phenomena. It is characterized by its mean and standard deviation.\n",
    "\n",
    "                                                   E[X] = μ , Var[X] = σ^2\n",
    "<img src=\"img/normal2.svg\">\n",
    "<img src=\"img/normal3.png\" width=\"450\" >\n",
    " \n",
    " \n",
    "5. Standard normal distribution: This is a special case of the normal distribution with mean 0 and standard deviation 1.\n",
    "                                                   \n",
    "                                                   E[X] = 0 , Var[X] = 1\n",
    "                                                   \n",
    "\n",
    "6. Student's t-distribution: This distribution is used in hypothesis testing when the sample size is small and the population standard deviation is unknown.\n",
    "\n",
    "<img src=\"img/student1.svg\">\n",
    "        where v (nu)  is the number of degrees of freedom and Γ (Gamma)  is the gamma function.\n",
    "<img src=\"img/student.png\" width =450>\n",
    "\n",
    "\n",
    "7. Chi-squared distribution: This distribution arises in hypothesis testing for the variance of a normal population and in goodness-of-fit tests.\n",
    "\n",
    "<img src=\"img/chi1.svg\">\n",
    "        where Γ (Gamma)  is the gamma function.\n",
    "<img src=\"img/chi2.png\" width=450>"
   ]
  },
  {
   "cell_type": "markdown",
   "id": "84a9016d",
   "metadata": {},
   "source": [
    "# Q3. Write a Python function to calculate the probability density function of a normal distribution with given mean and standard deviation at a given point.\n"
   ]
  },
  {
   "cell_type": "markdown",
   "id": "0741bb62",
   "metadata": {},
   "source": [
    "Pdf of normal distribution is given by:\n",
    "<img src=\"img/normal2.svg\">"
   ]
  },
  {
   "cell_type": "code",
   "execution_count": 1,
   "id": "f1435114",
   "metadata": {},
   "outputs": [],
   "source": [
    "import math\n",
    "\n",
    "def normal_pdf(x, mu, sigma):\n",
    "    \"\"\"\n",
    "    Calculates the PDF of a normal distribution with mean mu and standard deviation sigma\n",
    "    at a given point x.\n",
    "    \"\"\"\n",
    "    coeff = 1 / (sigma * math.sqrt(2 * math.pi))\n",
    "    exponent = -1 / 2 * ((x - mu) / sigma) ** 2\n",
    "    pdf = coeff * math.exp(exponent)\n",
    "    return pdf"
   ]
  },
  {
   "cell_type": "code",
   "execution_count": 2,
   "id": "0cb19e5c",
   "metadata": {},
   "outputs": [
    {
     "data": {
      "text/plain": [
       "0.10934004978399577"
      ]
     },
     "execution_count": 2,
     "metadata": {},
     "output_type": "execute_result"
    }
   ],
   "source": [
    "normal_pdf( 5,3,1.5 )"
   ]
  },
  {
   "cell_type": "markdown",
   "id": "3c0d5ccb",
   "metadata": {},
   "source": [
    "# Q4. What are the properties of Binomial distribution? Give two examples of events where binomial distribution can be applied.\n"
   ]
  },
  {
   "cell_type": "markdown",
   "id": "a3af2d3d",
   "metadata": {},
   "source": [
    "_The binomial distribution models the number of successes in a fixed number of independent and identical trials.\n",
    "\n",
    "_Each trial can only have two possible outcomes (success or failure).\n",
    "\n",
    "_The probability of success is constant across all trials.\n",
    "\n",
    "_The trials are independent of each other.\n",
    "\n",
    "Two examples of events where the binomial distribution can be applied are:\n",
    "\n",
    "1. Flipping a coin: The binomial distribution can be used to model the number of heads obtained when flipping a coin a fixed number of times. Each flip is a trial, and the outcome of each flip is either heads or tails (success or failure).\n",
    "2. Quality control: The binomial distribution can be used to model the number of defective items in a sample of a fixed size from a production line. Each item is a trial, and the outcome of each trial is either defective or non-defective (success or failure)."
   ]
  },
  {
   "cell_type": "markdown",
   "id": "66429c16",
   "metadata": {},
   "source": [
    "# Q5. Generate a random sample of size 1000 from a binomial distribution with probability of success 0.4 and plot a histogram of the results using matplotlib.\n"
   ]
  },
  {
   "cell_type": "code",
   "execution_count": 5,
   "id": "085fbc82",
   "metadata": {},
   "outputs": [],
   "source": [
    "import numpy as np\n",
    "import matplotlib.pyplot as plt"
   ]
  },
  {
   "cell_type": "code",
   "execution_count": 51,
   "id": "aefa38bb",
   "metadata": {},
   "outputs": [
    {
     "data": {
      "image/png": "[encoded data removed]",
      "text/plain": [
       "<Figure size 640x480 with 1 Axes>"
      ]
     },
     "metadata": {},
     "output_type": "display_data"
    }
   ],
   "source": [
    "sample = np.random.binomial( n=1000, p = 0.4, size = 1000 )\n",
    "\n",
    "plt.hist( x=sample )\n",
    "plt.title('Histogram of Random Sample from Binomial Distribution')\n",
    "plt.ylabel(\"Frequency\")\n",
    "plt.grid()\n",
    "plt.show()\n"
   ]
  },
  {
   "cell_type": "markdown",
   "id": "812a9e2b",
   "metadata": {},
   "source": [
    "# Q6. Write a Python function to calculate the cumulative distribution function of a Poisson distribution with given mean at a given point.\n"
   ]
  },
  {
   "cell_type": "markdown",
   "id": "e0dc2902",
   "metadata": {},
   "source": [
    "Pdf of poisson distribution is:\n",
    "<img src=\"img/poi2.svg\">"
   ]
  },
  {
   "cell_type": "code",
   "execution_count": 16,
   "id": "e8dbf983",
   "metadata": {},
   "outputs": [],
   "source": [
    "import math"
   ]
  },
  {
   "cell_type": "code",
   "execution_count": 17,
   "id": "1f82a4a2",
   "metadata": {},
   "outputs": [],
   "source": [
    "def poisson_cdf( k,mean ):\n",
    "    \"\"\"This function calculate the cdf of poisson distribution at a given point\"\"\"\n",
    "    cdf = 0\n",
    "    for i in range(0,k+1):\n",
    "        cdf += pow(mean,i) *math.exp(-mean)  / (math.factorial(i))\n",
    "    \n",
    "    return cdf"
   ]
  },
  {
   "cell_type": "code",
   "execution_count": 21,
   "id": "db37024e",
   "metadata": {},
   "outputs": [
    {
     "data": {
      "text/plain": [
       "0.8571234604985472"
      ]
     },
     "execution_count": 21,
     "metadata": {},
     "output_type": "execute_result"
    }
   ],
   "source": [
    "poisson_cdf( 3, 2 )"
   ]
  },
  {
   "cell_type": "markdown",
   "id": "774aad3f",
   "metadata": {},
   "source": [
    "# Q7. How Binomial distribution different from Poisson distribution?\n"
   ]
  },
  {
   "cell_type": "markdown",
   "id": "04a021f4",
   "metadata": {},
   "source": [
    "The binomial distribution models the number of successes in a fixed number of independent trials, where each trial has the same probability of success. Each trial is a Bernoulli trial. On other hand ,Poisson distribution models the number of occurences of an event in a fixed interval of time.\n",
    "\n",
    "Note:  As the number of trials in a binomial distribution becomes very large, and the probability of success in each trial becomes very small, the distribution approaches a Poisson distribution. This is known as the Poisson limit theorem for the binomial distribution."
   ]
  },
  {
   "cell_type": "markdown",
   "id": "5dba8cb2",
   "metadata": {},
   "source": [
    "# Q8. Generate a random sample of size 1000 from a Poisson distribution with mean 5 and calculate the sample mean and variance.\n"
   ]
  },
  {
   "cell_type": "code",
   "execution_count": 49,
   "id": "2b5bb322",
   "metadata": {},
   "outputs": [],
   "source": [
    "sample = np.random.poisson( lam = 5, size = 1000 )"
   ]
  },
  {
   "cell_type": "code",
   "execution_count": 50,
   "id": "56d514f2",
   "metadata": {},
   "outputs": [
    {
     "name": "stdout",
     "output_type": "stream",
     "text": [
      "Mean: 5.028\n",
      "Variance 5.272488488488489\n"
     ]
    }
   ],
   "source": [
    "sample_mean = np.mean( sample )\n",
    "variance = np.var( sample, ddof = 1 )\n",
    "print( f\"Mean: {sample_mean}\\nVariance {variance}\" )"
   ]
  },
  {
   "cell_type": "markdown",
   "id": "6b234cd1",
   "metadata": {},
   "source": [
    "# Q9. How mean and variance are related in Binomial distribution and Poisson distribution?\n"
   ]
  },
  {
   "cell_type": "markdown",
   "id": "6b44dbf6",
   "metadata": {},
   "source": [
    "In a binomial distribution, the mean and variance are related by the formula:\n",
    "\n",
    "mean = n * p\n",
    "\n",
    "variance = n * p * (1 - p)\n",
    "\n",
    "where n is the number of trials and p is the probability of success in each trial.\n",
    "\n",
    "In a Poisson distribution, the mean and variance are equal and are given by:\n",
    "\n",
    "mean = variance = lambda\n",
    "\n",
    "where lambda is the rate parameter, which represents the expected number of occurrences of the event per unit of time or space."
   ]
  },
  {
   "cell_type": "markdown",
   "id": "590b7cf7",
   "metadata": {},
   "source": [
    "# Q10. In normal distribution with respect to mean position, where does the least frequent data appear?"
   ]
  },
  {
   "cell_type": "markdown",
   "id": "ba6c0c9e",
   "metadata": {},
   "source": [
    "In a normal distribution, the least frequent data appear at the tails of the distribution, which are the areas furthest away from the mean. The most frequent data appear in the middle of the distribution, which is the area around the mean.\n",
    "\n",
    "This is because the normal distribution is symmetrical, with the mean, median, and mode all being equal. This means that there is an equal amount of data on either side of the mean. The further away from the mean a data point is, the less frequent it will be.\n",
    "\n",
    "In general, about 68% of the data in a normal distribution will fall within one standard deviation of the mean. This means that about 32% of the data will fall outside of one standard deviation of the mean. The least frequent data will be found in the tails of the distribution, which are the areas furthest away from the mean\n",
    "\n",
    "<img src=\"img/normal.png\" width = 450>"
   ]
  },
  {
   "cell_type": "markdown",
   "id": "b3d05687",
   "metadata": {},
   "source": []
  }
 ],
 "metadata": {
  "kernelspec": {
   "display_name": "Python 3 (ipykernel)",
   "language": "python",
   "name": "python3"
  },
  "language_info": {
   "codemirror_mode": {
    "name": "ipython",
    "version": 3
   },
   "file_extension": ".py",
   "mimetype": "text/x-python",
   "name": "python",
   "nbconvert_exporter": "python",
   "pygments_lexer": "ipython3",
   "version": "3.9.16"
  }
 },
 "nbformat": 4,
 "nbformat_minor": 5
}
