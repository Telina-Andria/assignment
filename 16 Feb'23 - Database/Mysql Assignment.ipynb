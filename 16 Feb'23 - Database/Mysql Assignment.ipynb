{
 "cells": [
  {
   "cell_type": "markdown",
   "id": "642def0f",
   "metadata": {},
   "source": [
    "## Q1. What is a database? Differentiate between SQL and NoSQL databases"
   ]
  },
  {
   "cell_type": "markdown",
   "id": "93842dcf",
   "metadata": {},
   "source": [
    "A database is a structured set of data held in a computer and accessible in a various ways. SQL are relational databases that use Structured Query Lanquage to manage and manipulate data. NoSQL databases are non relational databases that do not use SQL and are designed for handling large-scale ,unstructured or semi-structured data."
   ]
  },
  {
   "cell_type": "markdown",
   "id": "4c161fa8",
   "metadata": {},
   "source": [
    "## Q2. What is DDL? Explain why CREATE, DROP, ALTER, and TRUNCATE are used with an example"
   ]
  },
  {
   "cell_type": "markdown",
   "id": "c57af7f2",
   "metadata": {},
   "source": [
    "DDL stands for Data Definition Language, which is a set of SQL commands used to define and manage structure of a database.\n",
    "Suppose we have a table named \"Products\" with columns \"Name\", \"Price\", and \"Quantity\". We can use the following SQL commands:"
   ]
  },
  {
   "cell_type": "code",
   "execution_count": null,
   "id": "fac24f76",
   "metadata": {},
   "outputs": [],
   "source": [
    "CREATE TABLE Products (\n",
    "  Nom VARCHAR(50),\n",
    "  Prix DECIMAL(10,2),\n",
    "  Quantité INT\n",
    ");\n",
    "\n",
    "\n",
    "#ALTER to add new column Description with a string datatype to Produits\n",
    "ALTER TABLE Products\n",
    "ADD COLUMN Description VARCHAR(200);\n",
    "\n",
    "# TRUNCATE to delete all data from a table while keeping its structure intact.\n",
    "TRUNCATE TABLE Products;\n",
    "\n",
    "#DROP delete the table\n",
    "DROP TABLE Products;"
   ]
  },
  {
   "cell_type": "markdown",
   "id": "a5e4dabf",
   "metadata": {},
   "source": [
    "## Q3. What is DML? Explain INSERT, UPDATE, and DELETE with an example.\n"
   ]
  },
  {
   "cell_type": "markdown",
   "id": "bff10f29",
   "metadata": {},
   "source": [
    "DML stands for Data Manipulation Language,which is set of SQL commands used to manipulate data stored in a database. Suppose we have a table named \"Students\" with columns \"Name\", \"Age\", and \"Grade\". We can use DML commands as follows:"
   ]
  },
  {
   "cell_type": "code",
   "execution_count": null,
   "id": "899a4d3c",
   "metadata": {},
   "outputs": [],
   "source": [
    "# INSERT\n",
    "INSERT INTO Students (Name, Age, Grade)\n",
    "VALUES ('John', 20, 'A');\n",
    "\n",
    "#UPDATE\n",
    "UPDATE Students\n",
    "SET Grade = 'B'\n",
    "WHERE Name = 'John';\n",
    "\n",
    "#DELETE\n",
    "DELETE FROM Students\n",
    "WHERE Name = 'John';"
   ]
  },
  {
   "cell_type": "markdown",
   "id": "25be88cc",
   "metadata": {},
   "source": [
    "## Q4. What is DQL? Explain SELECT with an example.\n"
   ]
  },
  {
   "cell_type": "markdown",
   "id": "bc1d3e7f",
   "metadata": {},
   "source": [
    "DQL stands for Data Query Language, which is a set of SQL commands used to retrieve data from a database.Suppose we have a table named \"Customers\" with columns \"Name\", \"Email\", and \"Phone\". We can use the SELECT command as follows:"
   ]
  },
  {
   "cell_type": "code",
   "execution_count": null,
   "id": "759af93d",
   "metadata": {},
   "outputs": [],
   "source": [
    "# SELECT all column from the Customers\n",
    "SELECT * FROM Customers;\n",
    "\n",
    "#Retrieve specic columns from the Customers\n",
    "SELECT Name,Email FROM Customers;"
   ]
  },
  {
   "cell_type": "markdown",
   "id": "3af37de5",
   "metadata": {},
   "source": [
    "## Q5. Explain Primary Key and Foreign Key."
   ]
  },
  {
   "cell_type": "markdown",
   "id": "e429bf38",
   "metadata": {},
   "source": [
    "1) Primary Key: A primary key is a column or a set of columns in a table that uniquely identifies each row in the table. \n",
    "2) Foreign Key: A foreign key is a column or a set of columns in a table that refers to the primary key of another table. "
   ]
  },
  {
   "cell_type": "markdown",
   "id": "52eab9b7",
   "metadata": {},
   "source": [
    "## Q6. Write a python code to connect MySQL to python. Explain the cursor() and execute() method.\n"
   ]
  },
  {
   "cell_type": "code",
   "execution_count": 2,
   "id": "acce334a",
   "metadata": {},
   "outputs": [],
   "source": [
    "import mysql.connector\n",
    "\n",
    "mydb = mysql.connector.connect(\n",
    "  host=\"localhost\",\n",
    "  user=\"yourusername\",\n",
    "  password=\"yourpassword\"\n",
    ")"
   ]
  },
  {
   "cell_type": "markdown",
   "id": "3a309e0d",
   "metadata": {},
   "source": [
    "1) cursor(): The cursor() method is used to create a cursor object, which is used to execute SQL statements and fetch data from the database. \n",
    "2) execute(): The execute() method is used to execute an SQL statement or a parameterized query using the cursor object."
   ]
  },
  {
   "cell_type": "markdown",
   "id": "6508ac4a",
   "metadata": {},
   "source": [
    "## Q7. Give the order of execution of SQL clauses in an SQL query."
   ]
  },
  {
   "cell_type": "markdown",
   "id": "a6a6b7b3",
   "metadata": {},
   "source": [
    "The order of execution of sql clauses in a sql query is:\n",
    "1) FROM\n",
    "2) JOIN\n",
    "3) WHERE\n",
    "4) GROUP BY\n",
    "5) HAVING \n",
    "6) SELECT\n",
    "7) DISTINCT\n",
    "8) ORDER BY\n",
    "9) LIMIT"
   ]
  },
  {
   "cell_type": "code",
   "execution_count": null,
   "id": "8507527f",
   "metadata": {},
   "outputs": [],
   "source": []
  }
 ],
 "metadata": {
  "kernelspec": {
   "display_name": "Python 3 (ipykernel)",
   "language": "python",
   "name": "python3"
  },
  "language_info": {
   "codemirror_mode": {
    "name": "ipython",
    "version": 3
   },
   "file_extension": ".py",
   "mimetype": "text/x-python",
   "name": "python",
   "nbconvert_exporter": "python",
   "pygments_lexer": "ipython3",
   "version": "3.9.16"
  }
 },
 "nbformat": 4,
 "nbformat_minor": 5
}
