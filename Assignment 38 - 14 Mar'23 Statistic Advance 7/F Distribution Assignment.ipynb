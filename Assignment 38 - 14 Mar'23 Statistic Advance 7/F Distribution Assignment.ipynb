{
 "cells": [
  {
   "cell_type": "markdown",
   "id": "621bb011",
   "metadata": {},
   "source": [
    "# Q1. Write a Python function that takes in two arrays of data and calculates the F-value for a variance ratio test. The function should return the F-value and the corresponding p-value for the test.\n"
   ]
  },
  {
   "cell_type": "code",
   "execution_count": 1,
   "id": "36a7b855",
   "metadata": {},
   "outputs": [],
   "source": [
    "from scipy.stats import f\n",
    "import math\n",
    "import numpy as np"
   ]
  },
  {
   "cell_type": "code",
   "execution_count": 2,
   "id": "e639c7d8",
   "metadata": {},
   "outputs": [],
   "source": [
    "def variance_ratio_test( sample1, sample2 ):\n",
    "    \"This function take two arrays of data and calculate the F-value for a variance ratio test\"\n",
    "    #sample standard deviation\n",
    "    var1 = np.var( sample1, ddof = 1 )\n",
    "    var2 = np.var( sample2, ddof = 1 )\n",
    "    \n",
    "    #f value\n",
    "    if var1 >= var2:\n",
    "        f_value = var1/var2\n",
    "        dfn = len(sample1)-1\n",
    "        dfd = len(sample2)-1\n",
    "    else :\n",
    "        f_value = var2/var1\n",
    "        dfn = len(sample2)-1\n",
    "        dfd = len(sample1)-1\n",
    "    \n",
    "    #p value\n",
    "    p_value =  1 - f.cdf( f_value, dfn = dfn, dfd = dfd )\n",
    "    \n",
    "    return f_value, p_value"
   ]
  },
  {
   "cell_type": "code",
   "execution_count": 3,
   "id": "6409e1cf",
   "metadata": {},
   "outputs": [
    {
     "name": "stdout",
     "output_type": "stream",
     "text": [
      "F value and p value for two random sample using f test are\n"
     ]
    },
    {
     "data": {
      "text/plain": [
       "(1.0012391573729862, 0.49927919244216246)"
      ]
     },
     "execution_count": 3,
     "metadata": {},
     "output_type": "execute_result"
    }
   ],
   "source": [
    "print(\"F value and p value for two random sample using f test are\")\n",
    "variance_ratio_test( np.random.randint(10,30,10), np.random.randint(10,30,10) )"
   ]
  },
  {
   "cell_type": "markdown",
   "id": "0c4331f0",
   "metadata": {},
   "source": [
    "# Q2. Given a significance level of 0.05 and the degrees of freedom for the numerator and denominator of an F-distribution, write a Python function that returns the critical F-value for a two-tailed test."
   ]
  },
  {
   "cell_type": "code",
   "execution_count": 4,
   "id": "81e22727",
   "metadata": {},
   "outputs": [],
   "source": [
    "def variance_ratio_crit( dfn, dfd ):\n",
    "    \"This function return critical value for a two-tailed test\"\n",
    "    #significance level\n",
    "    alpha = 0.05\n",
    "    # decision bondary\n",
    "    f_crit1 = f.ppf( q = alpha/2, dfn = dfn, dfd = dfd)\n",
    "    f_crit2 = f.ppf( q = 1 - alpha/2, dfn = dfn, dfd = dfd )\n",
    "    \n",
    "    return f_crit1, f_crit2"
   ]
  },
  {
   "cell_type": "code",
   "execution_count": 5,
   "id": "a9843fc7",
   "metadata": {},
   "outputs": [
    {
     "name": "stdout",
     "output_type": "stream",
     "text": [
      "Critical value for (5,7) of degree of freedom with 0.05 significance level are\n"
     ]
    },
    {
     "data": {
      "text/plain": [
       "(0.14591988388835198, 5.285236851504277)"
      ]
     },
     "execution_count": 5,
     "metadata": {},
     "output_type": "execute_result"
    }
   ],
   "source": [
    "print(\"Critical value for (5,7) of degree of freedom with 0.05 significance level are\")\n",
    "variance_ratio_crit( 5,7)"
   ]
  },
  {
   "cell_type": "markdown",
   "id": "fc44be13",
   "metadata": {},
   "source": [
    "# Q3. Write a Python program that generates random samples from two normal distributions with known variances and uses an F-test to determine if the variances are equal. The program should output the Fvalue, degrees of freedom, and p-value for the test.\n"
   ]
  },
  {
   "cell_type": "code",
   "execution_count": 6,
   "id": "5a5582e0",
   "metadata": {},
   "outputs": [
    {
     "name": "stdout",
     "output_type": "stream",
     "text": [
      "Sample 1: Mean1= 10.177525253477778, Variance1 = 8.624817642782604, dof = 29\n",
      "Sample 2: Mean2= 10.303628386417323, Variance2 = 7.876141853010648, dof = 29\n",
      "_F-value = 1.0950561586807601\n",
      "_F_crit1 = 0.4759647743100316, F_crit2 = 2.100995817284211\n",
      "_p-value = 0.8084995728624329\n",
      "Fail to reject Ho. Variance of two samples are similar\n"
     ]
    }
   ],
   "source": [
    "sample1 = np.random.normal( 10, 2, 30)\n",
    "sample2 = np.random.normal( 10, 2.7, 30 )\n",
    "\n",
    "Ho = \"Variance of two samples are similar\"\n",
    "Ha = \"Variance of two samples are different\"\n",
    "\n",
    "#significance value\n",
    "alpha = 0.05\n",
    "#degree of freedom\n",
    "dfn = len(sample1)-1\n",
    "dfd = len(sample2)-1\n",
    "#standard deviation\n",
    "var1 = np.var(sample1, ddof = 1 )\n",
    "var2 = np.var(sample2, ddof = 1)\n",
    "\n",
    "print(f\"Sample 1: Mean1= {np.mean(sample1)}, Variance1 = {var1}, dof = {dfn}\")\n",
    "print(f\"Sample 2: Mean2= {np.mean(sample2)}, Variance2 = {var2}, dof = {dfd}\" )\n",
    "\n",
    "#f test statistic\n",
    "f_test = var1/var2\n",
    "#decision bondary\n",
    "f_crit1 = f.ppf( alpha/2, dfn, dfd )\n",
    "f_crit2 = f.ppf( 1-alpha/2, dfn, dfd )\n",
    "#p value\n",
    "p_value = 2*min( f.cdf(f_test, dfn, dfd), 1 - f.cdf(f_test, dfn, dfd))\n",
    "\n",
    "print(f\"_F-value = {f_test}\")\n",
    "print(f\"_F_crit1 = {f_crit1}, F_crit2 = {f_crit2}\")\n",
    "print(f\"_p-value = {p_value}\")\n",
    "if f_test < f_crit1 or f_test > f_crit2:\n",
    "    print(\"Reject Ho.\", Ha)\n",
    "else:\n",
    "    print(\"Fail to reject Ho.\", Ho)\n"
   ]
  },
  {
   "cell_type": "markdown",
   "id": "7b619503",
   "metadata": {},
   "source": [
    "# Q4.The variances of two populations are known to be 10 and 15. A sample of 12 observations is taken from each population. Conduct an F-test at the 5% significance level to determine if the variances are significantly different.\n"
   ]
  },
  {
   "cell_type": "code",
   "execution_count": 7,
   "id": "172b23e3",
   "metadata": {},
   "outputs": [
    {
     "name": "stdout",
     "output_type": "stream",
     "text": [
      "_F-value = 1.5\n",
      "_F_crit1 = 0.28787755798459863, F_crit2 = 3.473699051085809\n",
      "_p-value = 0.5123897987357999\n",
      "Fail to reject Ho. Variance are similar\n"
     ]
    }
   ],
   "source": [
    "Ho = \"Variance are similar\"\n",
    "Ha = \"Variance are different\"\n",
    "\n",
    "#variance of sample\n",
    "var1 = 10\n",
    "var2 = 15\n",
    "#sample size\n",
    "n1 = n2 = 12\n",
    "#significance level\n",
    "alpha = 0.05\n",
    "#f test\n",
    "f_test = var2/var1\n",
    "#degree of freedom\n",
    "df = n1-1\n",
    "#critical value\n",
    "f_crit1 = f.ppf( alpha/2, df, df)\n",
    "f_crit2 = f.ppf( 1-alpha/2, df, df )\n",
    "# Calculate the p-value\n",
    "p_value = 2 * min( f.cdf(f_test, df, df), 1 - f.cdf( f_test, df, df) ) \n",
    "\n",
    "\n",
    "print(f\"_F-value = {f_test}\")\n",
    "print(f\"_F_crit1 = {f_crit1}, F_crit2 = {f_crit2}\")\n",
    "print(f\"_p-value = {p_value}\")\n",
    "if f_test < f_crit1 or f_test > f_crit2:\n",
    "    print(\"Reject Ho.\",Ha)\n",
    "else:\n",
    "    print(\"Fail to reject Ho.\",Ho)\n",
    "\n",
    "    "
   ]
  },
  {
   "cell_type": "markdown",
   "id": "6e8d1bbf",
   "metadata": {},
   "source": [
    "# Q5. A manufacturer claims that the variance of the diameter of a certain product is 0.005. A sample of 25 products is taken, and the sample variance is found to be 0.006. Conduct an F-test at the 1% significance level to determine if the claim is justified.\n",
    " "
   ]
  },
  {
   "cell_type": "code",
   "execution_count": 8,
   "id": "f815c2da",
   "metadata": {},
   "outputs": [
    {
     "name": "stdout",
     "output_type": "stream",
     "text": [
      "_F-value = 1.2\n",
      "_F_crit1 = 0.3370701342685674, F_crit2 = 2.966741631292762\n",
      "_p-value = 0.6587309365634488\n",
      "Fail to reject Ho. The claim is justified\n"
     ]
    }
   ],
   "source": [
    "Ho = \"The claim is justified\"\n",
    "Ha = \"The calim is injustified\"\n",
    "\n",
    "#variance of sample\n",
    "var1 = 0.006\n",
    "var2 = 0.005\n",
    "#sample size\n",
    "n1 = n2 = 25\n",
    "#significance level\n",
    "alpha = 0.01\n",
    "#f test\n",
    "f_test = var1/var2\n",
    "#degree of freedom\n",
    "df = n1-1\n",
    "#critical value\n",
    "f_crit1 = f.ppf( alpha/2, df, df)\n",
    "f_crit2 = f.ppf( 1-alpha/2, df, df )\n",
    "# Calculate the p-value\n",
    "p_value = 2 * min( f.cdf(f_test, df, df), 1 - f.cdf( f_test, df, df) ) \n",
    "\n",
    "\n",
    "print(f\"_F-value = {f_test}\")\n",
    "print(f\"_F_crit1 = {f_crit1}, F_crit2 = {f_crit2}\")\n",
    "print(f\"_p-value = {p_value}\")\n",
    "if f_test < f_crit1 or f_test > f_crit2:\n",
    "    print(\"Reject Ho.\",Ha)\n",
    "else:\n",
    "    print(\"Fail to reject Ho.\",Ho)\n",
    "\n",
    "    "
   ]
  },
  {
   "cell_type": "markdown",
   "id": "4a9d83a5",
   "metadata": {},
   "source": [
    "# Q6. Write a Python function that takes in the degrees of freedom for the numerator and denominator of an F-distribution and calculates the mean and variance of the distribution. The function should return the mean and variance as a tuple.\n",
    " "
   ]
  },
  {
   "cell_type": "markdown",
   "id": "99cb7887",
   "metadata": {},
   "source": [
    "* for degree of freedom of denominator greater than 2, the mean is \n",
    "<img src=\"img/esp.svg\">\n",
    "\n",
    "* for degree of freedom of denominator greater than 4, variance is given by\n",
    "<img src=\"img/var.svg\">"
   ]
  },
  {
   "cell_type": "code",
   "execution_count": 9,
   "id": "05a8025f",
   "metadata": {},
   "outputs": [],
   "source": [
    "def mean_var( dfn, dfd ):\n",
    "    \"\"\"This function take degree of freedom for the numerator and denominator of an F-distribution and calculates the mean\n",
    "    and variance\"\"\"\n",
    "    # for d > 2\n",
    "    mean = dfd / (dfd - 2)\n",
    "    \n",
    "    # for d > 4 \n",
    "    variance = (2 * (dfd ** 2) * (dfn + dfd - 2)) / ((dfn * (dfd - 2) ** 2 * (dfd - 4)))\n",
    "    \n",
    "    return (mean, variance)\n",
    "    "
   ]
  },
  {
   "cell_type": "code",
   "execution_count": 10,
   "id": "b5aad602",
   "metadata": {},
   "outputs": [
    {
     "data": {
      "text/plain": [
       "(1.25, 0.7291666666666666)"
      ]
     },
     "execution_count": 10,
     "metadata": {},
     "output_type": "execute_result"
    }
   ],
   "source": [
    "mean_var( 20,10 )"
   ]
  },
  {
   "cell_type": "markdown",
   "id": "d4c865b5",
   "metadata": {},
   "source": [
    "# Q7. A random sample of 10 measurements is taken from a normal population with unknown variance. The sample variance is found to be 25. Another random sample of 15 measurements is taken from another normal population with unknown variance, and the sample variance is found to be 20. Conduct an F-test at the 10% significance level to determine if the variances are significantly different.\n",
    "  \n"
   ]
  },
  {
   "cell_type": "code",
   "execution_count": 11,
   "id": "b18d604a",
   "metadata": {},
   "outputs": [
    {
     "name": "stdout",
     "output_type": "stream",
     "text": [
      "_F-value = 1.25\n",
      "_F_crit1 = 0.3305268601412525, F_crit2 = 2.6457907352338195\n",
      "_p-value = 0.6832194382585952\n",
      "Fail to reject Ho. Variance of two samples are similar\n"
     ]
    }
   ],
   "source": [
    "Ho = \"Variance of two samples are similar\"\n",
    "Ha = \"Variance of two samples are different\"\n",
    "\n",
    "#sample variance\n",
    "var1 = 25\n",
    "var2 = 20\n",
    "#sample size\n",
    "n1 = 10\n",
    "n2 = 15\n",
    "#significance level\n",
    "alpha = 0.1\n",
    "#f test\n",
    "f_test = var1/var2\n",
    "#degree of freedom\n",
    "dfn = n1-1\n",
    "dfd = n2-1\n",
    "#critical value\n",
    "f_crit1 = f.ppf( alpha/2, dfn, dfd)\n",
    "f_crit2 = f.ppf( 1-alpha/2, dfn ,dfd)\n",
    "#p value\n",
    "p_value = 2 * min( f.cdf(f_test, dfn, dfd), 1 - f.cdf( f_test, dfn, dfd ) ) \n",
    "\n",
    "print(f\"_F-value = {f_test}\")\n",
    "print(f\"_F_crit1 = {f_crit1}, F_crit2 = {f_crit2}\")\n",
    "print(f\"_p-value = {p_value}\")\n",
    "if f_test < f_crit1 or f_test > f_crit2:\n",
    "    print(\"Reject Ho.\",Ha)\n",
    "else:\n",
    "    print(\"Fail to reject Ho.\",Ho)\n",
    "\n"
   ]
  },
  {
   "cell_type": "markdown",
   "id": "8e014340",
   "metadata": {},
   "source": [
    "# Q8. The following data represent the waiting times in minutes at two different restaurants on a Saturday night: Restaurant A: 24, 25, 28, 23, 22, 20, 27; Restaurant B: 31, 33, 35, 30, 32, 36. Conduct an F-test at the 5% significance level to determine if the variances are significantly different.\n",
    " \n"
   ]
  },
  {
   "cell_type": "code",
   "execution_count": 12,
   "id": "5f4ad537",
   "metadata": {},
   "outputs": [
    {
     "name": "stdout",
     "output_type": "stream",
     "text": [
      "_F-value = 1.4551907719609583\n",
      "_F_crit1 = 0.16701279718024772, F_crit2 = 6.977701858535566\n",
      "_p-value = 0.6974815747937484\n",
      "Fail to reject Ho. Variance of two samples are similar\n"
     ]
    }
   ],
   "source": [
    "Ho = \"Variance of two samples are similar\"\n",
    "Ha = \"Variance of two samples are different\"\n",
    "\n",
    "restA = [24, 25, 28, 23, 22, 20, 27]\n",
    "restB = [31, 33, 35, 30, 32, 36]\n",
    "\n",
    "#variance\n",
    "var1 = np.var(restA, ddof = 1)\n",
    "var2 = np.var(restB, ddof = 1)\n",
    "#size\n",
    "n1 = len(restA)\n",
    "n2 = len(restB)\n",
    "#f test and dof \n",
    "if var1 >= var2 :\n",
    "    f_test = var1/var2\n",
    "    dfn = n1-1\n",
    "    dfd = n2-1\n",
    "else:\n",
    "    f_test = var2/var1\n",
    "    dfn = n2-1\n",
    "    dfd = n1-1\n",
    "    \n",
    "#alpha\n",
    "alpha = 0.05\n",
    "#critical value\n",
    "f_crit1 = f.ppf( alpha/2, dfn, dfd)\n",
    "f_crit2 = f.ppf( 1-alpha/2, dfn, dfd)\n",
    "#p value\n",
    "p_value = 2*min( f.cdf(f_test, dfn, dfd), 1-f.cdf(f_test, dfn, dfd) )\n",
    "\n",
    "print(f\"_F-value = {f_test}\")\n",
    "print(f\"_F_crit1 = {f_crit1}, F_crit2 = {f_crit2}\")\n",
    "print(f\"_p-value = {p_value}\")\n",
    "if f_test < f_crit1 or f_test > f_crit2:\n",
    "    print(\"Reject Ho.\",Ha)\n",
    "else:\n",
    "    print(\"Fail to reject Ho.\",Ho)"
   ]
  },
  {
   "cell_type": "markdown",
   "id": "94163c39",
   "metadata": {},
   "source": [
    "# Q9. The following data represent the test scores of two groups of students: Group A: 80, 85, 90, 92, 87, 83; Group B: 75, 78, 82, 79, 81, 84. Conduct an F-test at the 1% significance level to determine if the variances are significantly different. "
   ]
  },
  {
   "cell_type": "code",
   "execution_count": 13,
   "id": "4bfbc863",
   "metadata": {},
   "outputs": [
    {
     "name": "stdout",
     "output_type": "stream",
     "text": [
      "_F-value = 1.9442622950819677\n",
      "_F_crit1 = 0.06693617195469603, F_crit2 = 14.939605459912219\n",
      "_p-value = 0.4831043549070688\n",
      "Fail to reject Ho. Variance of two samples are similar\n"
     ]
    }
   ],
   "source": [
    "Ho = \"Variance of two samples are similar\"\n",
    "Ha = \"Variance of two samples are different\"\n",
    "\n",
    "groupA = [80,85,90,92,87,83]\n",
    "groupB = [75,78,82,79,81,84]\n",
    "\n",
    "#variance\n",
    "var1 = np.var(groupA, ddof = 1)\n",
    "var2 = np.var(groupB, ddof = 1)\n",
    "#size\n",
    "n1 = len(groupA)\n",
    "n2 = len(groupB)\n",
    "#f test \n",
    "f_test = var1/var2 if var1/var2 >= 1 else var2/var1\n",
    "#degree of freedom\n",
    "dfn = dfd = n1-1\n",
    "#alpha\n",
    "alpha = 0.01\n",
    "#critical value\n",
    "f_crit1 = f.ppf( alpha/2, dfn, dfd)\n",
    "f_crit2 = f.ppf( 1-alpha/2, dfn, dfd)\n",
    "#p value\n",
    "p_value = 2*min( f.cdf(f_test, dfn, dfd), 1-f.cdf(f_test, dfn, dfd) )\n",
    "\n",
    "print(f\"_F-value = {f_test}\")\n",
    "print(f\"_F_crit1 = {f_crit1}, F_crit2 = {f_crit2}\")\n",
    "print(f\"_p-value = {p_value}\")\n",
    "if f_test < f_crit1 or f_test > f_crit2:\n",
    "    print(\"Reject Ho.\",Ha)\n",
    "else:\n",
    "    print(\"Fail to reject Ho.\",Ho)"
   ]
  }
 ],
 "metadata": {
  "kernelspec": {
   "display_name": "Python 3 (ipykernel)",
   "language": "python",
   "name": "python3"
  },
  "language_info": {
   "codemirror_mode": {
    "name": "ipython",
    "version": 3
   },
   "file_extension": ".py",
   "mimetype": "text/x-python",
   "name": "python",
   "nbconvert_exporter": "python",
   "pygments_lexer": "ipython3",
   "version": "3.9.16"
  }
 },
 "nbformat": 4,
 "nbformat_minor": 5
}
