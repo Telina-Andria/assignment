{
 "cells": [
  {
   "cell_type": "markdown",
   "id": "4aef56a3",
   "metadata": {},
   "source": [
    "# Q1. What are the three measures of central tendency?\n"
   ]
  },
  {
   "cell_type": "markdown",
   "id": "a2844f4d",
   "metadata": {},
   "source": [
    "There are three measures of central tendency :\n",
    "\n",
    "Mean: The average of all the values in a data set.\n",
    "\n",
    "Median: The middle value in a data set when it is ordered from least to greatest.\n",
    "\n",
    "Mode: The most frequent value in a data set."
   ]
  },
  {
   "cell_type": "markdown",
   "id": "51824a53",
   "metadata": {},
   "source": [
    "# Q2. What is the difference between the mean, median, and mode? How are they used to measure the central tendency of a dataset?\n"
   ]
  },
  {
   "cell_type": "markdown",
   "id": "335bd786",
   "metadata": {},
   "source": [
    "Mean is the average of all the values in a data set. It is calculated by adding all the values and dividing by the number of values.\n",
    "\n",
    "Median is the middle value in a data set when it is ordered from least to greatest. If there is an even number of values, the median is the average of the two middlemost values.\n",
    "\n",
    "Mode is the most frequent value in a data set.\n",
    "\n",
    "Each measure of central tendency has its own strengths and weaknesses. The mean is the most commonly used measure of central tendency, but it can be misleading if there are outliers in the data set. The median is more resistant to outliers, but it does not take into account all the values in the data set. The mode is the least affected by outliers, but it can be misleading if there are multiple modes in the data set.\n",
    "\n",
    "The best measure of central tendency to use depends on the specific data set and the purpose of the analysis.\n",
    "\n",
    "Here are some examples of when to use each measure of central tendency:\n",
    "\n",
    "Use the mean to get a general sense of the center of the data set.\n",
    "Use the median if there are outliers in the data set.\n",
    "Use the mode if you are interested in the most common value in the data set."
   ]
  },
  {
   "cell_type": "markdown",
   "id": "ca8fa41a",
   "metadata": {},
   "source": [
    "# Q3. Measure the three measures of central tendency for the given height data:\n",
    "\n",
    "[178,177,176,177,178.2,178,175,179,180,175,178.9,176.2,177,172.5,178,176.5]\n"
   ]
  },
  {
   "cell_type": "code",
   "execution_count": 6,
   "id": "d864adce",
   "metadata": {},
   "outputs": [],
   "source": [
    "import numpy as np\n",
    "from scipy import stats\n",
    "\n",
    "data = [178,177,176,177,178.2,178,175,179,180,175,178.9,176.2,177,172.5,178,176.5]"
   ]
  },
  {
   "cell_type": "code",
   "execution_count": 5,
   "id": "7b295160",
   "metadata": {},
   "outputs": [],
   "source": [
    "# mean\n",
    "mean = np.mean(data)\n",
    "\n",
    "# median\n",
    "median = np.median(data)\n",
    "\n",
    "# mode\n",
    "mode = stats.mode(data)"
   ]
  },
  {
   "cell_type": "code",
   "execution_count": 6,
   "id": "ac900963",
   "metadata": {},
   "outputs": [
    {
     "name": "stdout",
     "output_type": "stream",
     "text": [
      "Mean: 177.01875\n",
      "Median: 177.0\n",
      "Mode: ModeResult(mode=177.0, count=3)\n"
     ]
    }
   ],
   "source": [
    "print( f\"Mean: {mean}\\nMedian: {median}\\nMode: {mode}\" )"
   ]
  },
  {
   "cell_type": "markdown",
   "id": "eb9d7bc7",
   "metadata": {},
   "source": [
    "# Q4. Find the standard deviation for the given data:\n",
    "\n",
    "[178,177,176,177,178.2,178,175,179,180,175,178.9,176.2,177,172.5,178,176.5]\n"
   ]
  },
  {
   "cell_type": "code",
   "execution_count": 7,
   "id": "aa9577d6",
   "metadata": {},
   "outputs": [],
   "source": [
    "data = [178,177,176,177,178.2,178,175,179,180,175,178.9,176.2,177,172.5,178,176.5]"
   ]
  },
  {
   "cell_type": "markdown",
   "id": "714b5fed",
   "metadata": {},
   "source": [
    "1st Method"
   ]
  },
  {
   "cell_type": "code",
   "execution_count": 8,
   "id": "772efd1b",
   "metadata": {},
   "outputs": [
    {
     "name": "stdout",
     "output_type": "stream",
     "text": [
      "variance: 3.199023437500001\n",
      "standard deviation: 1.7885814036548633\n"
     ]
    }
   ],
   "source": [
    "var = np.var(data)\n",
    "std = np.sqrt(var)\n",
    "\n",
    "print(f\"variance: {var}\\nstandard deviation: {std}\")"
   ]
  },
  {
   "cell_type": "markdown",
   "id": "016fdd79",
   "metadata": {},
   "source": [
    "2nd Method"
   ]
  },
  {
   "cell_type": "code",
   "execution_count": 9,
   "id": "41838bc4",
   "metadata": {},
   "outputs": [
    {
     "name": "stdout",
     "output_type": "stream",
     "text": [
      "Standard deviation: 1.7885814036548633\n"
     ]
    }
   ],
   "source": [
    "std = np.std(data)\n",
    "print( f\"Standard deviation: {std}\")"
   ]
  },
  {
   "cell_type": "markdown",
   "id": "1ddcb677",
   "metadata": {},
   "source": [
    "# Q5. How are measures of dispersion such as range, variance, and standard deviation used to describe the spread of a dataset? Provide an example.\n"
   ]
  },
  {
   "cell_type": "markdown",
   "id": "d73c978c",
   "metadata": {},
   "source": [
    "The range is the difference between the largest and smallest values in a dataset. It is a simple measure of dispersion that can be calculated quickly, but it can be influenced by outliers.\n",
    "\n",
    "Variance is a more sophisticated measure of dispersion that takes into account how far each value is from the mean. It is calculated by taking the average of the squared differences between each value and the mean. A higher variance indicates that the values are more spread out from the mean.\n",
    "\n",
    "Standard deviation is the square root of the variance. It is a commonly used measure of dispersion that is useful for interpreting the spread of data in relation to the mean. A higher standard deviation indicates that the values are more spread out from the mean."
   ]
  },
  {
   "cell_type": "code",
   "execution_count": 22,
   "id": "5bdd6341",
   "metadata": {},
   "outputs": [
    {
     "name": "stdout",
     "output_type": "stream",
     "text": [
      "Range: 7.5\n",
      "Variance: 3.199023437500001\n",
      "Standard deviation: 1.7885814036548633\n"
     ]
    }
   ],
   "source": [
    "#for example\n",
    "data = [178,177,176,177,178.2,178,175,179,180,175,178.9,176.2,177,172.5,178,176.5]\n",
    "\n",
    "range_ = max(data) - min(data)\n",
    "variance = np.var(data)\n",
    "std = np.std(data)\n",
    "\n",
    "print(f\"Range: {range_}\\nVariance: {variance}\\nStandard deviation: {std}\")"
   ]
  },
  {
   "cell_type": "markdown",
   "id": "4ae6d210",
   "metadata": {},
   "source": [
    "# Q6. What is a Venn diagram?\n"
   ]
  },
  {
   "cell_type": "markdown",
   "id": "c99be614",
   "metadata": {},
   "source": [
    "A Venn diagram is a diagram that shows the logical relationships between a finite collection of different sets. Venn diagrams are typically used to compare and contrast two or more sets. The sets are represented by circles, and the overlaps between the circles represent the elements that are common to two or more sets.\n",
    "\n",
    "For example, a Venn diagram could be used to show the relationships between the sets of students, athletes, and musicians. The circle for students would include all students, regardless of whether they are athletes or musicians. The circle for athletes would include all athletes, regardless of whether they are students or musicians. And the circle for musicians would include all musicians, regardless of whether they are students or athletes.\n",
    "\n",
    "The overlaps between the circles would represent the students who are also athletes, the athletes who are also musicians, and the students who are also musicians.\n",
    "\n",
    "<img src=\"VENN.gif\" >"
   ]
  },
  {
   "cell_type": "markdown",
   "id": "083398c1",
   "metadata": {},
   "source": [
    "# Q7. For the two given sets A = (2,3,4,5,6,7) & B = (0,2,6,8,10). Find:\n",
    "\n",
    "(i) \tA n B\n",
    "\n",
    "\n",
    "(ii)\tA ⋃  B\n"
   ]
  },
  {
   "cell_type": "code",
   "execution_count": 18,
   "id": "7f9f14c9",
   "metadata": {},
   "outputs": [],
   "source": [
    "A = {2,3,4,5,6,7}\n",
    "B = {0,2,6,8,10}"
   ]
  },
  {
   "cell_type": "code",
   "execution_count": 19,
   "id": "c32efb15",
   "metadata": {},
   "outputs": [],
   "source": [
    "intersection = A.intersection(B)\n",
    "union = A.union(B)"
   ]
  },
  {
   "cell_type": "code",
   "execution_count": 20,
   "id": "05ff5a45",
   "metadata": {},
   "outputs": [
    {
     "name": "stdout",
     "output_type": "stream",
     "text": [
      "A:  {2, 3, 4, 5, 6, 7} \n",
      "B:  {0, 2, 6, 8, 10} \n",
      "Intersection:  {2, 6} \n",
      "Union:  {0, 2, 3, 4, 5, 6, 7, 8, 10}\n"
     ]
    }
   ],
   "source": [
    "print(\"A: \",A,\"\\nB: \",B,\"\\nIntersection: \",intersection, \"\\nUnion: \",union)"
   ]
  },
  {
   "cell_type": "markdown",
   "id": "b69db88c",
   "metadata": {},
   "source": [
    "# Q8. What do you understand about skewness in data?\n"
   ]
  },
  {
   "cell_type": "markdown",
   "id": "c6cf2c55",
   "metadata": {},
   "source": [
    "Skewness is a measure of the asymmetry of a distribution. A distribution is asymmetrical when its left and right side are not mirror images. Skewness can be positive, negative, or zero.\n",
    "\n",
    "_Positive skewness indicates that the tail of the distribution is longer on the right side, meaning that there are more data points with higher values than lower values. This is often seen in data sets that contain outliers, such as the distribution of income.\n",
    "\n",
    "_Negative skewness indicates that the tail of the distribution is longer on the left side, meaning that there are more data points with lower values than higher values. This is often seen in data sets that are heavily skewed towards zero, such as the distribution of temperatures in a cold climate.\n",
    "\n",
    "_Zero skewness indicates that the distribution is symmetrical, meaning that the left and right tails are of equal length. This is often seen in data sets that are normally distributed, such as the distribution of heights in a population.\n",
    "\n",
    "<img src=\"sk1.png\">"
   ]
  },
  {
   "cell_type": "markdown",
   "id": "4ac06a8c",
   "metadata": {},
   "source": [
    "# Q9. If a data is right skewed then what will be the position of median with respect to mean?\n"
   ]
  },
  {
   "cell_type": "markdown",
   "id": "425a2e48",
   "metadata": {},
   "source": [
    "If the data is right-skewed, there will be more data on the right side so the mean will surpass the median due to the longer tail on the right side of the distribution."
   ]
  },
  {
   "cell_type": "markdown",
   "id": "cce3ea31",
   "metadata": {},
   "source": [
    "# Q10. Explain the difference between covariance and correlation. How are these measures used in statistical analysis?\n"
   ]
  },
  {
   "cell_type": "markdown",
   "id": "ad6fa930",
   "metadata": {},
   "source": [
    "Covariance and correlation are both measures of the relationship between two variables. However, they have different interpretations and uses.\n",
    "\n",
    "_Covariance measures strength of the relationship between two variables. When two variables have a strong relationship, they tend to change together in a predictable way. It can have a positive, negative, or zero value, indicating whether the two variables are directly or inversely proportional.The covariance formula determines data points in a dataset from their average value. For instance, you can compute the Covariance between two random variables, X and Y, using the following formula:\n",
    "<img src=\"cov2.png\">\n",
    "<img src=\"cov.png\" >\n",
    "\n",
    "\n",
    "_Correlation is a standardized version of covariance. It takes into account the scale of the two variables, so it is not affected by changes in units. The correlation can also be positive, negative, or zero.\n",
    "A correlation of 1 indicates a perfect positive linear relationship between the two variables.\n",
    "A correlation of -1 indicates a perfect negative linear relationship between the two variables.\n",
    "A correlation of 0 indicates no linear relationship between the two variables.\n",
    "Here is the formula :\n",
    "<img src=\"cor.svg\">\n",
    "\n"
   ]
  },
  {
   "cell_type": "markdown",
   "id": "50905fc3",
   "metadata": {},
   "source": [
    "# Q11. What is the formula for calculating the sample mean? Provide an example calculation for a dataset.\n"
   ]
  },
  {
   "cell_type": "code",
   "execution_count": 1,
   "id": "6a699dd7",
   "metadata": {},
   "outputs": [],
   "source": [
    "data = [178,177,176,177,178.2,178,175,179,180,175,178.9,176.2,177,172.5,178,176.5]"
   ]
  },
  {
   "cell_type": "markdown",
   "id": "d02a614e",
   "metadata": {},
   "source": [
    "The formula for calculating the sample mean is:\n",
    "\n",
    "x̄ = (x₁ + x₂ + ... + xn) / n\n",
    "\n",
    "where x̄ is the sample mean, xi are the individual data points in the sample, and n is the sample size. For example:"
   ]
  },
  {
   "cell_type": "code",
   "execution_count": 2,
   "id": "c8e3950d",
   "metadata": {},
   "outputs": [
    {
     "name": "stdout",
     "output_type": "stream",
     "text": [
      "The mean of data is 177.01875\n"
     ]
    }
   ],
   "source": [
    "mean = sum(data)/len(data)\n",
    "print( f\"The mean of data is {mean}\" )"
   ]
  },
  {
   "cell_type": "markdown",
   "id": "d28bce38",
   "metadata": {},
   "source": [
    "# Q12. For a normal distribution data what is the relationship between its measure of central tendency?\n"
   ]
  },
  {
   "cell_type": "markdown",
   "id": "16d46df0",
   "metadata": {},
   "source": [
    "For data that follows a normal distribution, the three measures of central tendency (mean, median, and mode) are equal. This is because the normal distribution is symmetrical around its mean, and the mean, median, and mode all fall at the center of the distribution."
   ]
  },
  {
   "cell_type": "markdown",
   "id": "8dcfe150",
   "metadata": {},
   "source": [
    "# Q13. How is covariance different from correlation?\n"
   ]
  },
  {
   "cell_type": "markdown",
   "id": "ad7588f4",
   "metadata": {},
   "source": [
    "1. Interpretation and Scale of Values:\n",
    "\n",
    "_The change in scale changes the value of Covariance. A higher number in Covariance means higher dependency. Interpreting Covariance is difficult.\n",
    "On the contrary, the correlation value remains unaffected by the change in scale. The correlation coefficients range from -1 to 1, which allows for a more straightforward interpretation, unlike Covariance.\n",
    "\n",
    "2. Standardization and Comparison Across Datasets\n",
    "\n",
    "_Since Covariance doesn’t have standardization, comparing covariances across various datasets is challenging. While correlation coefficients are standardized. Therefore, comparing it directly across variables, datasets, or contexts is easy. The range of covariance is from negative infinity to positive infinity, while correlation values lie between -1 and +1.\n",
    "\n",
    "3. Robustness to Outliers\n",
    "\n",
    "_Outlier hugely impacts the value of Covariance. Hence, it is sensitive to the presence of outliers. On the contrary, correlation coefficients offer a more robust standard of the relationship between variables, as correlation coefficients are less susceptible to outliers."
   ]
  },
  {
   "cell_type": "markdown",
   "id": "15f34e0a",
   "metadata": {},
   "source": [
    "# Q14. How do outliers affect measures of central tendency and dispersion? Provide an example."
   ]
  },
  {
   "cell_type": "markdown",
   "id": "716dee3b",
   "metadata": {},
   "source": [
    "Outliers can have a significant impact on measures of central tendency and dispersion.\n",
    "\n",
    "For measures of central tendency, outliers can pull the mean away from the center of the distribution, making it an unreliable measure of the \"typical\" value. The median is less affected by outliers, as it is not influenced by extreme values. The mode may also be affected if the outlier is the most frequently occurring value in the dataset.\n",
    "\n",
    "For measures of dispersion, outliers can greatly affect the range and standard deviation of the dataset. The range, which is the difference between the largest and smallest values in the dataset, can be greatly increased by a single outlier. The standard deviation, which measures the amount of variation in the dataset, can also be greatly affected by outliers.\n",
    "\n",
    "For example, consider a dataset of test scores for a class of students:"
   ]
  },
  {
   "cell_type": "code",
   "execution_count": 12,
   "id": "d3e81fb8",
   "metadata": {},
   "outputs": [
    {
     "name": "stdout",
     "output_type": "stream",
     "text": [
      "Mean: 87.5\n",
      "Median: 87.5\n"
     ]
    }
   ],
   "source": [
    "data = [70,75,80,85,90,95,100,105]\n",
    "print(f\"Mean: {np.mean(data)}\\nMedian: {np.median(data)}\")"
   ]
  },
  {
   "cell_type": "markdown",
   "id": "73d564d3",
   "metadata": {},
   "source": [
    "If we add an outlier of 300 to the dataset:"
   ]
  },
  {
   "cell_type": "code",
   "execution_count": 13,
   "id": "10122abe",
   "metadata": {},
   "outputs": [
    {
     "name": "stdout",
     "output_type": "stream",
     "text": [
      "Mean: 111.11111111111111\n",
      "Median: 90.0\n"
     ]
    }
   ],
   "source": [
    "data = [70,75,80,85,90,95,100,105,300]\n",
    "print(f\"Mean: {np.mean(data)}\\nMedian: {np.median(data)}\")"
   ]
  },
  {
   "cell_type": "code",
   "execution_count": null,
   "id": "dbf7007f",
   "metadata": {},
   "outputs": [],
   "source": [
    "np"
   ]
  },
  {
   "cell_type": "markdown",
   "id": "3e4a789e",
   "metadata": {},
   "source": [
    "The mean score is now 111.111, which is significantly higher than the \"typical\" score for the class. The median score, on the other hand, is 90, which is a more accurate representation of the center of the distribution."
   ]
  }
 ],
 "metadata": {
  "kernelspec": {
   "display_name": "Python 3 (ipykernel)",
   "language": "python",
   "name": "python3"
  },
  "language_info": {
   "codemirror_mode": {
    "name": "ipython",
    "version": 3
   },
   "file_extension": ".py",
   "mimetype": "text/x-python",
   "name": "python",
   "nbconvert_exporter": "python",
   "pygments_lexer": "ipython3",
   "version": "3.9.16"
  }
 },
 "nbformat": 4,
 "nbformat_minor": 5
}
