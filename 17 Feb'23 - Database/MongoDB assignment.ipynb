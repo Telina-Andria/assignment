{
 "cells": [
  {
   "cell_type": "markdown",
   "id": "43b3d9aa",
   "metadata": {},
   "source": [
    "## Q1. What is MongoDB? Explain non-relational databases in short. In which scenarios it is preferred to use MongoDB over SQL databases?\n"
   ]
  },
  {
   "cell_type": "markdown",
   "id": "003b133b",
   "metadata": {},
   "source": [
    "_MongoDB is a document database.It store data in type of JSON.\n",
    "\n",
    "_Non-relational databases don'use the tabular scheme of row and column but instead , they use specific type of storage that is optimized for specific type of data.\n",
    "\n",
    "_MongoDb is preferred over SQL databases in a scenario that:\n",
    "1) you work with unstructured data .It store it in form of document which makes it more flexible and easier to work\n",
    "2) you work with a large dataset .It allows faster and more efficient querying of data\n",
    "3) you need to perform complex query that require aggregation, filtering,sorting of large datasets\n",
    "4) you need to support rapid application development and deployment\n"
   ]
  },
  {
   "cell_type": "markdown",
   "id": "dbaf3f1e",
   "metadata": {},
   "source": [
    "## Q2. State and Explain the features of MongoDB"
   ]
  },
  {
   "cell_type": "markdown",
   "id": "4eadb301",
   "metadata": {},
   "source": [
    "1_ Document-based data model: MongoDB uses a document-based data model, which means that data is stored in flexible, JSON-like documents, rather than in tables with fixed columns and rows. This makes it easier to work with unstructured and semi-structured data.\n",
    "\n",
    "\n",
    "2_ Scalability: MongoDB is designed to scale horizontally across multiple servers, which means that it can handle large amounts of data and traffic without sacrificing performance.\n",
    "\n",
    "3_ Flexible schema: Because MongoDB uses a document-based data model, it does not require a fixed schema, which means that you can easily add or remove fields from your documents as your application evolves.\n",
    "\n",
    "4_ Rich query language: MongoDB provides a rich query language that supports complex queries, including aggregation, filtering, sorting, and geospatial queries.\n",
    "\n",
    "5_ Indexing: MongoDB supports indexing for fast query performance, including text search and geospatial indexing.\n",
    "\n",
    "6_ High availability and automatic failover: MongoDB supports replica sets, which provide automatic failover and high availability in the event of a node failure.\n",
    "\n",
    "7_ Real-time analytics and reporting: MongoDB supports real-time analytics and reporting through its aggregation framework, which allows you to perform complex analytics on large datasets in real-time.\n",
    "\n",
    "8_ Rapid application development: MongoDB's flexible schema and document-based data model make it easy to develop and deploy applications quickly and efficiently."
   ]
  },
  {
   "cell_type": "markdown",
   "id": "9bff3084",
   "metadata": {},
   "source": [
    "## Q3. Write a code to connect MongoDB to Python. Also, create a database and a collection in MongoDB.\n"
   ]
  },
  {
   "cell_type": "code",
   "execution_count": 26,
   "id": "996919fb",
   "metadata": {},
   "outputs": [],
   "source": [
    "import pymongo\n",
    "\n",
    "#creating a new db\n",
    "client= pymongo.MongoClient(\"mongodb+srv://username:<password>@cluster0.gpnxoem.mongodb.net/\")\n",
    "db = client[\"myDb\"]"
   ]
  },
  {
   "cell_type": "code",
   "execution_count": 27,
   "id": "8b6dd0a9",
   "metadata": {},
   "outputs": [
    {
     "data": {
      "text/plain": [
       "Database(MongoClient(host=['ac-xg3cp0f-shard-00-00.gpnxoem.mongodb.net:27017', 'ac-xg3cp0f-shard-00-01.gpnxoem.mongodb.net:27017', 'ac-xg3cp0f-shard-00-02.gpnxoem.mongodb.net:27017'], document_class=dict, tz_aware=False, connect=True, authsource='admin', replicaset='atlas-6l82bg-shard-0', tls=True), 'myDb')"
      ]
     },
     "execution_count": 27,
     "metadata": {},
     "output_type": "execute_result"
    }
   ],
   "source": [
    "db"
   ]
  },
  {
   "cell_type": "code",
   "execution_count": 4,
   "id": "3df140f2",
   "metadata": {},
   "outputs": [],
   "source": [
    "#creating a new collection\n",
    "coll_0 = db[\"coll_0\"]"
   ]
  },
  {
   "cell_type": "markdown",
   "id": "accccb56",
   "metadata": {},
   "source": [
    "## Q4. Using the database and the collection created in question number 3, write a code to insert one record, and insert many records. Use the find() and find_one() methods to print the inserted record.\n"
   ]
  },
  {
   "cell_type": "code",
   "execution_count": 28,
   "id": "768539ae",
   "metadata": {},
   "outputs": [
    {
     "name": "stdout",
     "output_type": "stream",
     "text": [
      "type : object\n",
      "required : ['status', 'statusText', 'httpVersion', 'cookies', 'headers', 'content', 'redirectURL', 'headersSize', 'bodySize']\n",
      "properties : {'status': {'type': 'integer'}, 'statusText': {'type': 'string'}, 'httpVersion': {'type': 'string'}, 'cookies': {'type': 'array', 'items': {'$ref': '#cookie'}}, 'headers': {'type': 'array', 'items': {'$ref': '#record'}}, 'content': {'$ref': '#content'}, 'redirectURL': {'type': 'string'}, 'headersSize': {'type': 'integer'}, 'bodySize': {'type': 'integer'}, 'comment': {'type': 'string'}}\n"
     ]
    }
   ],
   "source": [
    "# let's import data\n",
    "import json\n",
    "with open(\"response.json\",\"r\") as f:\n",
    "    data=json.load(f)\n",
    "\n",
    "for i ,j in data.items():\n",
    "    print(i,\":\",j)"
   ]
  },
  {
   "cell_type": "code",
   "execution_count": 34,
   "id": "09eb8177",
   "metadata": {},
   "outputs": [
    {
     "data": {
      "text/plain": [
       "<pymongo.results.InsertOneResult at 0x1af24918ac0>"
      ]
     },
     "execution_count": 34,
     "metadata": {},
     "output_type": "execute_result"
    }
   ],
   "source": [
    "#insert one record\n",
    "coll_0.insert_one(data)"
   ]
  },
  {
   "cell_type": "code",
   "execution_count": 36,
   "id": "2960f91e",
   "metadata": {},
   "outputs": [
    {
     "data": {
      "text/plain": [
       "<pymongo.results.InsertManyResult at 0x1af249cd670>"
      ]
     },
     "execution_count": 36,
     "metadata": {},
     "output_type": "execute_result"
    }
   ],
   "source": [
    "#insert many records\n",
    "dts = [\n",
    "    {\n",
    "        \"required\" : ['status', 'statusText', 'httpVersion', 'cookies', 'headers', 'content', 'redirectURL', 'headersSize', 'bodySize'],\n",
    "        \"properties\" : {'status': {'type': 'integer'}, 'statusText': {'type': 'string'}, 'httpVersion': {'type': 'string'}}\n",
    "    },\n",
    "    {\n",
    "        \"required\" : ['status', 'statusText', 'httpVersion', 'cookies', 'headers', 'content', 'redirectURL', 'headersSize', 'bodySize'],\n",
    "        \"properties\" : {'status': {'type': 'integer'}, 'statusText': {'type': 'string'}, 'httpVersion': {'type': 'string'}}\n",
    "    },\n",
    "    {\n",
    "        \"required\" : ['status', 'statusText', 'httpVersion', 'cookies', 'headers', 'content', 'redirectURL', 'headersSize', 'bodySize'],\n",
    "        \"properties\" : {'status': {'type': 'integer'}, 'statusText': {'type': 'string'}, 'httpVersion': {'type': 'string'}}\n",
    "    },{\n",
    "        \"required\" : ['status', 'statusText', 'httpVersion', 'cookies', 'headers', 'content', 'redirectURL', 'headersSize', 'bodySize'],\n",
    "        \"properties\" : {'status': {'type': 'integer'}, 'statusText': {'type': 'string'}, 'httpVersion': {'type': 'string'}}\n",
    "    }\n",
    "]\n",
    "coll_0.insert_many(dts)\n"
   ]
  },
  {
   "cell_type": "code",
   "execution_count": 29,
   "id": "7f54b981",
   "metadata": {},
   "outputs": [
    {
     "name": "stdout",
     "output_type": "stream",
     "text": [
      "{'_id': ObjectId('64b8f713ebd691d2c8706086'), 'key1': 'value1', 'key2': 'value2'}\n",
      "{'_id': ObjectId('64b8f89cebd691d2c8706087'), 'type': 'object', 'required': ['status', 'statusText', 'httpVersion', 'cookies', 'headers', 'content', 'redirectURL', 'headersSize', 'bodySize'], 'properties': {'status': {'type': 'integer'}, 'statusText': {'type': 'string'}, 'httpVersion': {'type': 'string'}, 'cookies': {'type': 'array', 'items': {'$ref': '#cookie'}}, 'headers': {'type': 'array', 'items': {'$ref': '#record'}}, 'content': {'$ref': '#content'}, 'redirectURL': {'type': 'string'}, 'headersSize': {'type': 'integer'}, 'bodySize': {'type': 'integer'}, 'comment': {'type': 'string'}}}\n",
      "{'_id': ObjectId('64b8f98cebd691d2c8706088'), 'required': ['status', 'statusText', 'httpVersion', 'cookies', 'headers', 'content', 'redirectURL', 'headersSize', 'bodySize'], 'properties': {'status': {'type': 'integer'}, 'statusText': {'type': 'string'}, 'httpVersion': {'type': 'string'}}}\n",
      "{'_id': ObjectId('64b8f98cebd691d2c8706089'), 'required': ['status', 'statusText', 'httpVersion', 'cookies', 'headers', 'content', 'redirectURL', 'headersSize', 'bodySize'], 'properties': {'status': {'type': 'integer'}, 'statusText': {'type': 'string'}, 'httpVersion': {'type': 'string'}}}\n",
      "{'_id': ObjectId('64b8f98cebd691d2c870608a'), 'required': ['status', 'statusText', 'httpVersion', 'cookies', 'headers', 'content', 'redirectURL', 'headersSize', 'bodySize'], 'properties': {'status': {'type': 'integer'}, 'statusText': {'type': 'string'}, 'httpVersion': {'type': 'string'}}}\n",
      "{'_id': ObjectId('64b8f98cebd691d2c870608b'), 'required': ['status', 'statusText', 'httpVersion', 'cookies', 'headers', 'content', 'redirectURL', 'headersSize', 'bodySize'], 'properties': {'status': {'type': 'integer'}, 'statusText': {'type': 'string'}, 'httpVersion': {'type': 'string'}}}\n",
      "{'_id': ObjectId('64b8fe40ebd691d2c870608c'), 'companyName': 'iNeuron', 'product': 'Affordable AI', 'courseOffered': 'Machine Learning with Deployment'}\n",
      "{'_id': ObjectId('64b8fe40ebd691d2c870608d'), 'companyName': 'iNeuron', 'product': 'Affordable AI', 'courseOffered': 'Deep Learning for NLP and Computer vision'}\n",
      "{'_id': ObjectId('64b8fe40ebd691d2c870608e'), 'companyName': 'iNeuron', 'product': 'Master Program', 'courseOffered': 'Data Science Masters Program'}\n"
     ]
    }
   ],
   "source": [
    "#find\n",
    "for i in coll_0.find():\n",
    "    print(i)\n"
   ]
  },
  {
   "cell_type": "code",
   "execution_count": 30,
   "id": "fbe99bd4",
   "metadata": {},
   "outputs": [
    {
     "name": "stdout",
     "output_type": "stream",
     "text": [
      "{'_id': ObjectId('64b8f713ebd691d2c8706086'), 'key1': 'value1', 'key2': 'value2'}\n"
     ]
    }
   ],
   "source": [
    "#using find_one \n",
    "one_query = coll_0.find_one()\n",
    "print(one_query)"
   ]
  },
  {
   "cell_type": "markdown",
   "id": "fa6cf04a",
   "metadata": {},
   "source": [
    "## Q5. Explain how you can use the find() method to query the MongoDB database. Write a simple code to demonstrate this.\n"
   ]
  },
  {
   "cell_type": "markdown",
   "id": "eb46db42",
   "metadata": {},
   "source": [
    "To select data from a collection in mongoDB, we can use find. It return all occurences in the selection"
   ]
  },
  {
   "cell_type": "code",
   "execution_count": 43,
   "id": "c1f1121c",
   "metadata": {},
   "outputs": [
    {
     "data": {
      "text/plain": [
       "<pymongo.results.InsertManyResult at 0x1af249bbc70>"
      ]
     },
     "execution_count": 43,
     "metadata": {},
     "output_type": "execute_result"
    }
   ],
   "source": [
    "#let's add some data to our collection\n",
    "list_of_records = [\n",
    "    {'companyName': 'iNeuron',\n",
    "     'product': 'Affordable AI',\n",
    "     'courseOffered': 'Machine Learning with Deployment'},\n",
    "    \n",
    "    {'companyName': 'iNeuron',\n",
    "     'product': 'Affordable AI',\n",
    "     'courseOffered': 'Deep Learning for NLP and Computer vision'},\n",
    "    \n",
    "    {'companyName': 'iNeuron',\n",
    "     'product': 'Master Program',\n",
    "     'courseOffered': 'Data Science Masters Program'}\n",
    "]\n",
    "coll_0.insert_many(list_of_records)\n"
   ]
  },
  {
   "cell_type": "code",
   "execution_count": 31,
   "id": "9b3c4af0",
   "metadata": {},
   "outputs": [
    {
     "name": "stdout",
     "output_type": "stream",
     "text": [
      "{'_id': ObjectId('64b8f713ebd691d2c8706086'), 'key1': 'value1', 'key2': 'value2'}\n",
      "{'_id': ObjectId('64b8f89cebd691d2c8706087'), 'type': 'object', 'required': ['status', 'statusText', 'httpVersion', 'cookies', 'headers', 'content', 'redirectURL', 'headersSize', 'bodySize'], 'properties': {'status': {'type': 'integer'}, 'statusText': {'type': 'string'}, 'httpVersion': {'type': 'string'}, 'cookies': {'type': 'array', 'items': {'$ref': '#cookie'}}, 'headers': {'type': 'array', 'items': {'$ref': '#record'}}, 'content': {'$ref': '#content'}, 'redirectURL': {'type': 'string'}, 'headersSize': {'type': 'integer'}, 'bodySize': {'type': 'integer'}, 'comment': {'type': 'string'}}}\n",
      "{'_id': ObjectId('64b8f98cebd691d2c8706088'), 'required': ['status', 'statusText', 'httpVersion', 'cookies', 'headers', 'content', 'redirectURL', 'headersSize', 'bodySize'], 'properties': {'status': {'type': 'integer'}, 'statusText': {'type': 'string'}, 'httpVersion': {'type': 'string'}}}\n",
      "{'_id': ObjectId('64b8f98cebd691d2c8706089'), 'required': ['status', 'statusText', 'httpVersion', 'cookies', 'headers', 'content', 'redirectURL', 'headersSize', 'bodySize'], 'properties': {'status': {'type': 'integer'}, 'statusText': {'type': 'string'}, 'httpVersion': {'type': 'string'}}}\n",
      "{'_id': ObjectId('64b8f98cebd691d2c870608a'), 'required': ['status', 'statusText', 'httpVersion', 'cookies', 'headers', 'content', 'redirectURL', 'headersSize', 'bodySize'], 'properties': {'status': {'type': 'integer'}, 'statusText': {'type': 'string'}, 'httpVersion': {'type': 'string'}}}\n",
      "{'_id': ObjectId('64b8f98cebd691d2c870608b'), 'required': ['status', 'statusText', 'httpVersion', 'cookies', 'headers', 'content', 'redirectURL', 'headersSize', 'bodySize'], 'properties': {'status': {'type': 'integer'}, 'statusText': {'type': 'string'}, 'httpVersion': {'type': 'string'}}}\n",
      "{'_id': ObjectId('64b8fe40ebd691d2c870608c'), 'companyName': 'iNeuron', 'product': 'Affordable AI', 'courseOffered': 'Machine Learning with Deployment'}\n",
      "{'_id': ObjectId('64b8fe40ebd691d2c870608d'), 'companyName': 'iNeuron', 'product': 'Affordable AI', 'courseOffered': 'Deep Learning for NLP and Computer vision'}\n",
      "{'_id': ObjectId('64b8fe40ebd691d2c870608e'), 'companyName': 'iNeuron', 'product': 'Master Program', 'courseOffered': 'Data Science Masters Program'}\n"
     ]
    }
   ],
   "source": [
    "for i in coll_0.find():\n",
    "    print(i)"
   ]
  },
  {
   "cell_type": "markdown",
   "id": "2391cc14",
   "metadata": {},
   "source": [
    "we can also specify the key and value that we want"
   ]
  },
  {
   "cell_type": "code",
   "execution_count": 32,
   "id": "a754ba07",
   "metadata": {},
   "outputs": [
    {
     "name": "stdout",
     "output_type": "stream",
     "text": [
      "{'_id': ObjectId('64b8fe40ebd691d2c870608c'), 'companyName': 'iNeuron', 'product': 'Affordable AI', 'courseOffered': 'Machine Learning with Deployment'}\n",
      "{'_id': ObjectId('64b8fe40ebd691d2c870608d'), 'companyName': 'iNeuron', 'product': 'Affordable AI', 'courseOffered': 'Deep Learning for NLP and Computer vision'}\n"
     ]
    }
   ],
   "source": [
    "for i in coll_0.find( {\"product\":\"Affordable AI\"} ):\n",
    "    print(i)\n"
   ]
  },
  {
   "cell_type": "markdown",
   "id": "6d32a32f",
   "metadata": {},
   "source": [
    "## Q6. Explain the sort() method. Give an example to demonstrate sorting in MongoDB.\n"
   ]
  },
  {
   "cell_type": "markdown",
   "id": "9b8582b7",
   "metadata": {},
   "source": [
    "The sort method sort the result by a key and in ascending direction by default."
   ]
  },
  {
   "cell_type": "code",
   "execution_count": 34,
   "id": "ace05648",
   "metadata": {},
   "outputs": [
    {
     "data": {
      "text/plain": [
       "<pymongo.results.InsertManyResult at 0x23467f9cd00>"
      ]
     },
     "execution_count": 34,
     "metadata": {},
     "output_type": "execute_result"
    }
   ],
   "source": [
    "# let's create a  new collection and let's add some data inside\n",
    "coll_1 = db[\"collection 1\"]\n",
    "data2 = [{'_id': 12, 'name': 'William', 'address': 'Central st 954'},\n",
    "{'_id': 14, 'name': 'Viola', 'address': 'Sideway 1633'},\n",
    "{'_id': 10, 'name': 'Vicky', 'address': 'Yellow Garden 2'},\n",
    "{'_id': 9, 'name': 'Susan', 'address': 'One way 98'},\n",
    "{'_id': 6, 'name': 'Sandy', 'address': 'Ocean blvd 2'},\n",
    "{'_id': 8, 'name': 'Richard', 'address': 'Sky st 331'},\n",
    "{'_id': 2, 'name': 'Peter', 'address': 'Lowstreet 27'},\n",
    "{'_id': 5, 'name': 'Michael', 'address': 'Valley 345'},\n",
    "{'_id': 1, 'name': 'John', 'address': 'Highway37'},\n",
    "{'_id': 4, 'name': 'Hannah', 'address': 'Mountain 21'},\n",
    "{'_id': 13, 'name': 'Chuck', 'address': 'Main Road 989'},\n",
    "{'_id': 7, 'name': 'Betty', 'address': 'Green Grass 1'},\n",
    "{'_id': 11, 'name': 'Ben', 'address': 'Park Lane 38'},\n",
    "{'_id': 3, 'name': 'Amy', 'address': 'Apple st 652'}]\n",
    "coll_1.insert_many(data2)"
   ]
  },
  {
   "cell_type": "code",
   "execution_count": 35,
   "id": "6d6d9513",
   "metadata": {},
   "outputs": [
    {
     "name": "stdout",
     "output_type": "stream",
     "text": [
      "{'_id': 3, 'name': 'Amy', 'address': 'Apple st 652'}\n",
      "{'_id': 11, 'name': 'Ben', 'address': 'Park Lane 38'}\n",
      "{'_id': 7, 'name': 'Betty', 'address': 'Green Grass 1'}\n",
      "{'_id': 13, 'name': 'Chuck', 'address': 'Main Road 989'}\n",
      "{'_id': 4, 'name': 'Hannah', 'address': 'Mountain 21'}\n",
      "{'_id': 1, 'name': 'John', 'address': 'Highway37'}\n",
      "{'_id': 5, 'name': 'Michael', 'address': 'Valley 345'}\n",
      "{'_id': 2, 'name': 'Peter', 'address': 'Lowstreet 27'}\n",
      "{'_id': 8, 'name': 'Richard', 'address': 'Sky st 331'}\n",
      "{'_id': 6, 'name': 'Sandy', 'address': 'Ocean blvd 2'}\n",
      "{'_id': 9, 'name': 'Susan', 'address': 'One way 98'}\n",
      "{'_id': 10, 'name': 'Vicky', 'address': 'Yellow Garden 2'}\n",
      "{'_id': 14, 'name': 'Viola', 'address': 'Sideway 1633'}\n",
      "{'_id': 12, 'name': 'William', 'address': 'Central st 954'}\n"
     ]
    }
   ],
   "source": [
    "for i in coll_1.find().sort(\"name\"):\n",
    "    print(i)"
   ]
  },
  {
   "cell_type": "markdown",
   "id": "3b4789fb",
   "metadata": {},
   "source": [
    "## Q7. Explain why delete_one(), delete_many(), and drop() is used."
   ]
  },
  {
   "cell_type": "code",
   "execution_count": 36,
   "id": "4a84dc94",
   "metadata": {},
   "outputs": [
    {
     "name": "stdout",
     "output_type": "stream",
     "text": [
      "{'_id': 12, 'name': 'William', 'address': 'Central st 954'}\n",
      "{'_id': 14, 'name': 'Viola', 'address': 'Sideway 1633'}\n",
      "{'_id': 10, 'name': 'Vicky', 'address': 'Yellow Garden 2'}\n",
      "{'_id': 9, 'name': 'Susan', 'address': 'One way 98'}\n",
      "{'_id': 6, 'name': 'Sandy', 'address': 'Ocean blvd 2'}\n",
      "{'_id': 8, 'name': 'Richard', 'address': 'Sky st 331'}\n",
      "{'_id': 2, 'name': 'Peter', 'address': 'Lowstreet 27'}\n",
      "{'_id': 5, 'name': 'Michael', 'address': 'Valley 345'}\n",
      "{'_id': 1, 'name': 'John', 'address': 'Highway37'}\n",
      "{'_id': 4, 'name': 'Hannah', 'address': 'Mountain 21'}\n",
      "{'_id': 13, 'name': 'Chuck', 'address': 'Main Road 989'}\n",
      "{'_id': 7, 'name': 'Betty', 'address': 'Green Grass 1'}\n",
      "{'_id': 11, 'name': 'Ben', 'address': 'Park Lane 38'}\n",
      "{'_id': 3, 'name': 'Amy', 'address': 'Apple st 652'}\n"
     ]
    }
   ],
   "source": [
    "for i in coll1.find():\n",
    "    print(i)"
   ]
  },
  {
   "cell_type": "code",
   "execution_count": 37,
   "id": "2f710bcb",
   "metadata": {},
   "outputs": [
    {
     "data": {
      "text/plain": [
       "<pymongo.results.DeleteResult at 0x23467f9c280>"
      ]
     },
     "execution_count": 37,
     "metadata": {},
     "output_type": "execute_result"
    }
   ],
   "source": [
    "# delete_one is used to delete one row \n",
    "coll1.delete_one({\"_id\":12})"
   ]
  },
  {
   "cell_type": "code",
   "execution_count": 41,
   "id": "e4ec4084",
   "metadata": {},
   "outputs": [],
   "source": [
    "#row id:12 is empty now\n",
    "for i in coll1.find({\"_id\":12}):\n",
    "    print(i)"
   ]
  },
  {
   "cell_type": "code",
   "execution_count": 51,
   "id": "c30448eb",
   "metadata": {},
   "outputs": [
    {
     "data": {
      "text/plain": [
       "<pymongo.results.DeleteResult at 0x23467f9c9a0>"
      ]
     },
     "execution_count": 51,
     "metadata": {},
     "output_type": "execute_result"
    }
   ],
   "source": [
    "# delete_many is used to deletes multiples rows\n",
    "deletes={\"_id\": { \"$in\": [14,10,9,11]}}\n",
    "\n",
    "coll1.delete_many(deletes)"
   ]
  },
  {
   "cell_type": "code",
   "execution_count": 52,
   "id": "ea6cbb8a",
   "metadata": {},
   "outputs": [
    {
     "name": "stdout",
     "output_type": "stream",
     "text": [
      "{'_id': 6, 'name': 'Sandy', 'address': 'Ocean blvd 2'}\n",
      "{'_id': 8, 'name': 'Richard', 'address': 'Sky st 331'}\n",
      "{'_id': 2, 'name': 'Peter', 'address': 'Lowstreet 27'}\n",
      "{'_id': 5, 'name': 'Michael', 'address': 'Valley 345'}\n",
      "{'_id': 1, 'name': 'John', 'address': 'Highway37'}\n",
      "{'_id': 4, 'name': 'Hannah', 'address': 'Mountain 21'}\n",
      "{'_id': 13, 'name': 'Chuck', 'address': 'Main Road 989'}\n",
      "{'_id': 7, 'name': 'Betty', 'address': 'Green Grass 1'}\n",
      "{'_id': 3, 'name': 'Amy', 'address': 'Apple st 652'}\n"
     ]
    }
   ],
   "source": [
    "for i in coll1.find():\n",
    "    print(i)"
   ]
  },
  {
   "cell_type": "code",
   "execution_count": 53,
   "id": "5cb75522",
   "metadata": {},
   "outputs": [],
   "source": [
    "# drop is used to delete an entire collection\n",
    "coll1.drop()"
   ]
  },
  {
   "cell_type": "code",
   "execution_count": 56,
   "id": "63e62868",
   "metadata": {},
   "outputs": [],
   "source": [
    "#there is nothing inside it now\n",
    "for i in coll1.find():\n",
    "    print(i)"
   ]
  }
 ],
 "metadata": {
  "kernelspec": {
   "display_name": "Python 3 (ipykernel)",
   "language": "python",
   "name": "python3"
  },
  "language_info": {
   "codemirror_mode": {
    "name": "ipython",
    "version": 3
   },
   "file_extension": ".py",
   "mimetype": "text/x-python",
   "name": "python",
   "nbconvert_exporter": "python",
   "pygments_lexer": "ipython3",
   "version": "3.9.16"
  }
 },
 "nbformat": 4,
 "nbformat_minor": 5
}
