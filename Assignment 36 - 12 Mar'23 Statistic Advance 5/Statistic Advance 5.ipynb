{
 "cells": [
  {
   "cell_type": "markdown",
   "id": "8ae862d8",
   "metadata": {},
   "source": [
    "# Q1. Calculate the 95% confidence interval for a sample of data with a mean of 50 and a standard deviation of 5 using Python. Interpret the results"
   ]
  },
  {
   "cell_type": "code",
   "execution_count": 1,
   "id": "4156b094",
   "metadata": {},
   "outputs": [],
   "source": [
    "from scipy.stats import t\n",
    "from scipy.stats import chisquare\n",
    "from scipy.stats import chi2\n",
    "from scipy.stats import chi2_contingency\n",
    "from scipy.stats import norm\n",
    "import scipy.stats as stats\n",
    "import numpy as np\n",
    "import pandas as pd\n",
    "import matplotlib.pyplot as plt\n",
    "import math"
   ]
  },
  {
   "cell_type": "code",
   "execution_count": 7,
   "id": "b20c123e",
   "metadata": {},
   "outputs": [
    {
     "name": "stdout",
     "output_type": "stream",
     "text": [
      "95% confidence interval for a sample data with mean of 50, standard deviation of 5 and sample size of 30: \n",
      " (48.1329693162095, 51.8670306837905)\n"
     ]
    }
   ],
   "source": [
    "#sample\n",
    "mean = 50\n",
    "std = 5\n",
    "n = 30\n",
    "\n",
    "alpha = 0.05\n",
    "\n",
    "#bondary\n",
    "t_crit = t.ppf(1-alpha/2, n-1)\n",
    "\n",
    "#margin error\n",
    "margin_error = t_crit * std/math.sqrt(n)\n",
    "\n",
    "lower_bound = mean - margin_error\n",
    "upper_bound = mean + margin_error\n",
    "\n",
    "print(\"95% confidence interval for a sample data with mean of 50, standard deviation of 5 and sample size of 30: \\n\",(lower_bound,upper_bound))"
   ]
  },
  {
   "cell_type": "markdown",
   "id": "89272a32",
   "metadata": {},
   "source": [
    "# Q2. Conduct a chi-square goodness of fit test to determine if the distribution of colors of M&Ms in a bag matches the expected distribution of 20% blue, 20% orange, 20% green, 10% yellow, 10% red, and 20% brown. Use Python to perform the test with a significance level of 0.05.\n"
   ]
  },
  {
   "cell_type": "code",
   "execution_count": 28,
   "id": "e224cc6b",
   "metadata": {},
   "outputs": [
    {
     "name": "stdout",
     "output_type": "stream",
     "text": [
      "Chi-square statistic: 3.1\n",
      "Chi2 critical: 128.4219886438403\n",
      "p-value: 0.6845720146699825\n",
      "Fail to reject null hypothesis. The distribution of colors in the sample matches the expected distribution.\n"
     ]
    }
   ],
   "source": [
    "Ho = \"The distribution of colors in the sample matches the expected distribution.\"\n",
    "Ha = \"The distribution of colors in the sample does not match the expected distribution.\"\n",
    "\n",
    "# Observed frequencies of colors in the bag\n",
    "observed_freq = np.array([25, 15, 20, 12, 10, 18])  # Blue, Orange, Green, Yellow, Red, Brown\n",
    "\n",
    "# Expected frequencies based on the given distribution\n",
    "expected_freq = np.array([0.2, 0.2, 0.2, 0.1, 0.1, 0.2]) * np.sum(observed_freq)\n",
    "\n",
    "# Perform the chi-square test\n",
    "chi2_stat, p_value = chisquare(observed_freq, expected_freq)\n",
    "\n",
    "#decision bondary\n",
    "chi2_crit = chi2.ppf( 1-0.05/2, np.sum(observed_freq)-1)\n",
    "\n",
    "# Print the results\n",
    "print(\"Chi-square statistic:\", chi2_stat)\n",
    "print(\"Chi2 critical:\", chi2_crit)\n",
    "print(\"p-value:\", p_value)\n",
    "\n",
    "if p_value < 0.05:\n",
    "    print(\"Reject null hypothesis.\",Ha)\n",
    "else:\n",
    "    print(\"Fail to reject null hypothesis.\",Ho)"
   ]
  },
  {
   "cell_type": "markdown",
   "id": "d5a9d3a9",
   "metadata": {},
   "source": [
    "# Q3. Use Python to calculate the chi-square statistic and p-value for a contingency table with the following data:\n"
   ]
  },
  {
   "cell_type": "code",
   "execution_count": 37,
   "id": "39706ad7",
   "metadata": {},
   "outputs": [
    {
     "data": {
      "text/html": [
       "<div>\n",
       "<style scoped>\n",
       "    .dataframe tbody tr th:only-of-type {\n",
       "        vertical-align: middle;\n",
       "    }\n",
       "\n",
       "    .dataframe tbody tr th {\n",
       "        vertical-align: top;\n",
       "    }\n",
       "\n",
       "    .dataframe thead th {\n",
       "        text-align: right;\n",
       "    }\n",
       "</style>\n",
       "<table border=\"1\" class=\"dataframe\">\n",
       "  <thead>\n",
       "    <tr style=\"text-align: right;\">\n",
       "      <th></th>\n",
       "      <th>Groupe A</th>\n",
       "      <th>Groupe B</th>\n",
       "    </tr>\n",
       "  </thead>\n",
       "  <tbody>\n",
       "    <tr>\n",
       "      <th>Outcome 1</th>\n",
       "      <td>20</td>\n",
       "      <td>15</td>\n",
       "    </tr>\n",
       "    <tr>\n",
       "      <th>Outcome 2</th>\n",
       "      <td>10</td>\n",
       "      <td>25</td>\n",
       "    </tr>\n",
       "    <tr>\n",
       "      <th>Outcome 3</th>\n",
       "      <td>15</td>\n",
       "      <td>20</td>\n",
       "    </tr>\n",
       "  </tbody>\n",
       "</table>\n",
       "</div>"
      ],
      "text/plain": [
       "           Groupe A  Groupe B\n",
       "Outcome 1        20        15\n",
       "Outcome 2        10        25\n",
       "Outcome 3        15        20"
      ]
     },
     "execution_count": 37,
     "metadata": {},
     "output_type": "execute_result"
    }
   ],
   "source": [
    "data = pd.DataFrame( {\"Groupe A\": [20,10,15], \"Groupe B\" :[15,25,20]}, index=[\"Outcome 1\",\"Outcome 2\",\"Outcome 3\"] )\n",
    "data"
   ]
  },
  {
   "cell_type": "code",
   "execution_count": 29,
   "id": "6fd63d19",
   "metadata": {},
   "outputs": [
    {
     "name": "stdout",
     "output_type": "stream",
     "text": [
      "Chi-square statistic: 13.393665158371041\n",
      "Decision bondary: 7.377758908227871\n",
      "P value:  0.0012348168997745915\n",
      "Degrees of freedom: 2\n",
      "Reject Ho. The outcomes are Dependent on the groups.\n"
     ]
    }
   ],
   "source": [
    "Ho = \"The outcomes are independent of the groups.\"\n",
    "Ha = \"The outcomes are Dependent on the groups.\"\n",
    "    \n",
    "# Create a contingency table from the DataFrame\n",
    "contingency_table = data.values\n",
    "\n",
    "# Calculate the chi-square statistic, p-value, degrees of freedom, and expected frequencies\n",
    "chisq, p, dof, expected = chi2_contingency(contingency_table)\n",
    "\n",
    "#bondary\n",
    "chi2_crit = chi2.ppf(1-0.05/2, dof)\n",
    "\n",
    "print(\"Chi-square statistic:\", chisq)\n",
    "print(\"Decision bondary:\", chi2_crit)\n",
    "print(\"P value: \",p)\n",
    "print(\"Degrees of freedom:\", dof)\n",
    "\n",
    "if chisq > chi2_crit :\n",
    "    print( \"Reject Ho.\", Ha )\n",
    "else:\n",
    "    print( \"Fail to reject Ho.\", Ho)"
   ]
  },
  {
   "cell_type": "markdown",
   "id": "ce9a1d69",
   "metadata": {},
   "source": [
    "# Q4. A study of the prevalence of smoking in a population of 500 individuals found that 60 individuals smoked. Use Python to calculate the 95% confidence interval for the true proportion of individuals in the population who smoke.\n"
   ]
  },
  {
   "cell_type": "markdown",
   "id": "7deaeaee",
   "metadata": {},
   "source": [
    "We are giving confidence interval for a proportion, so we will use Z-test."
   ]
  },
  {
   "cell_type": "code",
   "execution_count": 69,
   "id": "3005205b",
   "metadata": {},
   "outputs": [
    {
     "name": "stdout",
     "output_type": "stream",
     "text": [
      "95% confidence interval for proportion of smoker\n",
      " (9.15%, 14.85%)\n"
     ]
    }
   ],
   "source": [
    "#sample size \n",
    "n = 500\n",
    "\n",
    "#smoker\n",
    "x = 60\n",
    "\n",
    "#proportion of smoker\n",
    "p = x/n\n",
    "\n",
    "#alpha\n",
    "alpha = 0.05\n",
    "\n",
    "# Standard error of proportion\n",
    "se = math.sqrt((p*(1-p))/n)\n",
    "\n",
    "#margin error for a two tailed 95% confidence interval \n",
    "margin_error = norm.ppf(1-alpha/2)*se\n",
    "\n",
    "lower_bound = p - margin_error\n",
    "upper_bound = p + margin_error\n",
    "\n",
    "print(f\"95% confidence interval for proportion of smoker\\n ({lower_bound*100:.2f}%, {upper_bound*100:.2f}%)\" )\n"
   ]
  },
  {
   "cell_type": "markdown",
   "id": "f09fd1e1",
   "metadata": {},
   "source": [
    "# Q5. Calculate the 90% confidence interval for a sample of data with a mean of 75 and a standard deviation of 12 using Python. Interpret the results.\n"
   ]
  },
  {
   "cell_type": "code",
   "execution_count": 73,
   "id": "729d7840",
   "metadata": {},
   "outputs": [
    {
     "name": "stdout",
     "output_type": "stream",
     "text": [
      "90% confidence interval for a mean 75 and standard deviation of 12\n",
      " (71.28,78.72)\n"
     ]
    }
   ],
   "source": [
    "#sample mean\n",
    "mean = 75\n",
    "#sample standard deviation\n",
    "std = 12\n",
    "#sample size\n",
    "n = 30\n",
    "#alpha\n",
    "alpha = 0.1\n",
    "#standard error\n",
    "se = std/ math.sqrt(n)\n",
    "#margin error\n",
    "me = t.ppf(1-alpha/2, n-1) * se\n",
    "\n",
    "lower_bound = mean - me\n",
    "upper_bound = mean + me\n",
    "\n",
    "print(f\"90% confidence interval for a mean 75 and standard deviation of 12\\n ({lower_bound:.2f},{upper_bound:.2f})\")"
   ]
  },
  {
   "cell_type": "markdown",
   "id": "83b69766",
   "metadata": {},
   "source": [
    "# Q6. Use Python to plot the chi-square distribution with 10 degrees of freedom. Label the axes and shade the area corresponding to a chi-square statistic of 15.\n"
   ]
  },
  {
   "cell_type": "code",
   "execution_count": 75,
   "id": "28318794",
   "metadata": {},
   "outputs": [
    {
     "data": {
      "image/png": "[encoded data removed]",
      "text/plain": [
       "<Figure size 640x480 with 1 Axes>"
      ]
     },
     "metadata": {},
     "output_type": "display_data"
    }
   ],
   "source": [
    "# Degrees of freedom\n",
    "df = 10\n",
    "\n",
    "# Generate x values for the plot\n",
    "x = np.linspace(0, 30, 500)\n",
    "\n",
    "# Calculate the chi-square probability density function\n",
    "chi2_pdf = stats.chi2.pdf(x, df)\n",
    "\n",
    "# Plot the chi-square distribution\n",
    "plt.plot(x, chi2_pdf, label=f\"df = {df}\")\n",
    "plt.fill_between(x, chi2_pdf, where=(x >= 0) & (x <= 15), color='blue', alpha=0.3, label=\"Chi-Square <= 15\")\n",
    "\n",
    "# Add labels and title\n",
    "plt.xlabel('Chi-Square Statistic')\n",
    "plt.ylabel('Probability Density')\n",
    "plt.title('Chi-Square Distribution')\n",
    "plt.legend()\n",
    "\n",
    "# Show the plot\n",
    "plt.show()\n"
   ]
  },
  {
   "cell_type": "markdown",
   "id": "c786e5e4",
   "metadata": {},
   "source": [
    "# Q7. A random sample of 1000 people was asked if they preferred Coke or Pepsi. Of the sample, 520 preferred Coke. Calculate a 99% confidence interval for the true proportion of people in the population who prefer Coke.\n"
   ]
  },
  {
   "cell_type": "code",
   "execution_count": 85,
   "id": "3f076bf6",
   "metadata": {},
   "outputs": [
    {
     "name": "stdout",
     "output_type": "stream",
     "text": [
      "99% confidence interval for true proportion of people in population who prefer Coke\n",
      "(47.93%,56.07%)\n"
     ]
    }
   ],
   "source": [
    "#sample size\n",
    "n = 1000\n",
    "#people who prefer coke\n",
    "x = 520\n",
    "#proportion of people that prefer coke\n",
    "p = x/n\n",
    "#alpha\n",
    "alpha = 0.01\n",
    "\n",
    "#standard error for a proportion\n",
    "se = math.sqrt( p*(1-p)/n )\n",
    "#margin error\n",
    "me = norm.ppf( 1-alpha/2 )*se\n",
    "#CI\n",
    "lower_bound = p - me\n",
    "upper_bound = p + me\n",
    "  \n",
    "print(f\"99% confidence interval for true proportion of people in population who prefer Coke\\n({lower_bound*100:.2f}%,{upper_bound*100:.2f}%)\")"
   ]
  },
  {
   "cell_type": "markdown",
   "id": "bf3f8f57",
   "metadata": {},
   "source": [
    "# Q8. A researcher hypothesizes that a coin is biased towards tails. They flip the coin 100 times and observe 45 tails. Conduct a chi-square goodness of fit test to determine if the observed frequencies match the expected frequencies of a fair coin. Use a significance level of 0.05.\n"
   ]
  },
  {
   "cell_type": "markdown",
   "id": "6a7d80b8",
   "metadata": {},
   "source": [
    "first method"
   ]
  },
  {
   "cell_type": "code",
   "execution_count": 24,
   "id": "9ce2e813",
   "metadata": {},
   "outputs": [
    {
     "name": "stdout",
     "output_type": "stream",
     "text": [
      "Chi-square statistic: 1.00\n",
      "Chi2 critical: 123.23\n",
      "Fail to reject Ho. The coin is fair\n"
     ]
    }
   ],
   "source": [
    "Ho = \"The coin is fair\"\n",
    "Ha = \"The coin is unfair\"\n",
    "\n",
    "#sample size\n",
    "n = 100\n",
    "#number of times tails apear\n",
    "x = 45\n",
    "#alpha\n",
    "alpha = 0.05\n",
    "#decision bondary\n",
    "chi2_crit = chi2.ppf(1-alpha, n-1)\n",
    "#chi2 stat\n",
    "chi2_stat = (45-50)**2/50 + (55-50)**2/50\n",
    "\n",
    "# Print the results\n",
    "print(f\"Chi-square statistic: {chi2_stat:.2f}\")\n",
    "print(f\"Chi2 critical: {chi2_crit:.2f}\")\n",
    "if chi2_val > chi2_crit:\n",
    "    print(\"Reject Ho.\",Ha)\n",
    "else:\n",
    "    print(\"Fail to reject Ho.\",Ho)"
   ]
  },
  {
   "cell_type": "markdown",
   "id": "e6da530c",
   "metadata": {},
   "source": [
    "second method"
   ]
  },
  {
   "cell_type": "code",
   "execution_count": 25,
   "id": "c24fce93",
   "metadata": {},
   "outputs": [
    {
     "name": "stdout",
     "output_type": "stream",
     "text": [
      "Chi-square statistic: 1.00\n",
      "P-value: 0.3173\n",
      "Fail to reject Ho. The coin is fair\n"
     ]
    }
   ],
   "source": [
    "Ho = \"The coin is fair\"\n",
    "Ha = \"The coin is unfair\"\n",
    "\n",
    "# Observed frequencies of heads and tails\n",
    "observed_freq = np.array([55, 45])\n",
    "\n",
    "# Expected frequencies based on a fair coin\n",
    "expected_freq = np.array([50, 50])\n",
    "\n",
    "# Perform the chi-square goodness of fit test\n",
    "chi2_stat, p_value = chisquare(observed_freq, expected_freq)\n",
    "\n",
    "# Print the results\n",
    "print(f\"Chi-square statistic: {chi2_stat:.2f}\")\n",
    "print(f\"P-value: {p_value:.4f}\")\n",
    "\n",
    "if p_value < 0.05:\n",
    "    print(\"Reject Ho.\",Ha)\n",
    "else:\n",
    "    print(\"Fail to reject Ho.\",Ho)\n"
   ]
  },
  {
   "cell_type": "markdown",
   "id": "4c824ef6",
   "metadata": {},
   "source": [
    "# Q9. A study was conducted to determine if there is an association between smoking status (smoker or non-smoker) and lung cancer diagnosis (yes or no). The results are shown in the contingency table below. Conduct a chi-square test for independence to determine if there is a significant association between smoking status and lung cancer diagnosis. Use a significance level of 0.05.\n"
   ]
  },
  {
   "cell_type": "code",
   "execution_count": 2,
   "id": "97308b4a",
   "metadata": {},
   "outputs": [
    {
     "data": {
      "text/html": [
       "<div>\n",
       "<style scoped>\n",
       "    .dataframe tbody tr th:only-of-type {\n",
       "        vertical-align: middle;\n",
       "    }\n",
       "\n",
       "    .dataframe tbody tr th {\n",
       "        vertical-align: top;\n",
       "    }\n",
       "\n",
       "    .dataframe thead th {\n",
       "        text-align: right;\n",
       "    }\n",
       "</style>\n",
       "<table border=\"1\" class=\"dataframe\">\n",
       "  <thead>\n",
       "    <tr style=\"text-align: right;\">\n",
       "      <th></th>\n",
       "      <th>Lung Cancer: Yes</th>\n",
       "      <th>Lung Cancer: No</th>\n",
       "    </tr>\n",
       "  </thead>\n",
       "  <tbody>\n",
       "    <tr>\n",
       "      <th>Smoker</th>\n",
       "      <td>60</td>\n",
       "      <td>140</td>\n",
       "    </tr>\n",
       "    <tr>\n",
       "      <th>Non-smoker</th>\n",
       "      <td>30</td>\n",
       "      <td>170</td>\n",
       "    </tr>\n",
       "  </tbody>\n",
       "</table>\n",
       "</div>"
      ],
      "text/plain": [
       "            Lung Cancer: Yes  Lung Cancer: No\n",
       "Smoker                    60              140\n",
       "Non-smoker                30              170"
      ]
     },
     "execution_count": 2,
     "metadata": {},
     "output_type": "execute_result"
    }
   ],
   "source": [
    "data = pd.DataFrame( { \"Lung Cancer: Yes\": [60,30], \"Lung Cancer: No\":[140,170] } , index = [\"Smoker\" ,\"Non-smoker\"] )\n",
    "data"
   ]
  },
  {
   "cell_type": "code",
   "execution_count": 6,
   "id": "1ba6256e",
   "metadata": {},
   "outputs": [
    {
     "name": "stdout",
     "output_type": "stream",
     "text": [
      "Chi2 value: 12.057347670250895\n",
      "Chi2 critic = 3.841458820694124\n",
      "p-value = 0.0005158863863703744\n",
      "Reject Ho. Smoking status and lung cancer are dependent\n"
     ]
    }
   ],
   "source": [
    "Ho = \"Smoking status and lung cancer are independent\"\n",
    "Ha = \"Smoking status and lung cancer are dependent\"\n",
    "\n",
    "#alpha\n",
    "alpha = 0.05\n",
    "\n",
    "#contigency table\n",
    "cont_table = data.values\n",
    "#chi2 stats\n",
    "chi2_stats, p_val, df, expected_freq = chi2_contingency(cont_table)\n",
    "\n",
    "#bondary decision\n",
    "chi2_crit = chi2.ppf( 1-alpha, df)\n",
    "\n",
    "print(f\"Chi2 value: {chi2_stats}\\nChi2 critic = {chi2_crit}\\np-value = {p_val}\")\n",
    "if chi2_stats > chi2_crit:\n",
    "    print(\"Reject Ho.\",Ha)\n",
    "else:\n",
    "    print(\"Fail to reject Ho.\",Ho)\n"
   ]
  },
  {
   "cell_type": "markdown",
   "id": "6addb02c",
   "metadata": {},
   "source": [
    "# Q10. A study was conducted to determine if the proportion of people who prefer milk chocolate, dark chocolate, or white chocolate is different in the U.S. versus the U.K. A random sample of 500 people from the U.S. and a random sample of 500 people from the U.K. were surveyed. The results are shown in the contingency table below. Conduct a chi-square test for independence to determine if there is a significant association between chocolate preference and country of origin. Use a significance level of 0.01"
   ]
  },
  {
   "cell_type": "code",
   "execution_count": 9,
   "id": "180dab2f",
   "metadata": {},
   "outputs": [
    {
     "data": {
      "text/html": [
       "<div>\n",
       "<style scoped>\n",
       "    .dataframe tbody tr th:only-of-type {\n",
       "        vertical-align: middle;\n",
       "    }\n",
       "\n",
       "    .dataframe tbody tr th {\n",
       "        vertical-align: top;\n",
       "    }\n",
       "\n",
       "    .dataframe thead th {\n",
       "        text-align: right;\n",
       "    }\n",
       "</style>\n",
       "<table border=\"1\" class=\"dataframe\">\n",
       "  <thead>\n",
       "    <tr style=\"text-align: right;\">\n",
       "      <th></th>\n",
       "      <th>Milk Chocolate</th>\n",
       "      <th>Dark Chocolate</th>\n",
       "      <th>White Chocolate</th>\n",
       "    </tr>\n",
       "  </thead>\n",
       "  <tbody>\n",
       "    <tr>\n",
       "      <th>U.S (n=500)</th>\n",
       "      <td>200</td>\n",
       "      <td>150</td>\n",
       "      <td>150</td>\n",
       "    </tr>\n",
       "    <tr>\n",
       "      <th>U.K (n=500)</th>\n",
       "      <td>225</td>\n",
       "      <td>175</td>\n",
       "      <td>100</td>\n",
       "    </tr>\n",
       "  </tbody>\n",
       "</table>\n",
       "</div>"
      ],
      "text/plain": [
       "             Milk Chocolate  Dark Chocolate  White Chocolate\n",
       "U.S (n=500)             200             150              150\n",
       "U.K (n=500)             225             175              100"
      ]
     },
     "execution_count": 9,
     "metadata": {},
     "output_type": "execute_result"
    }
   ],
   "source": [
    "data = pd.DataFrame( {\"Milk Chocolate\":[200,225] , \"Dark Chocolate\": [150,175] , \"White Chocolate\": [150,100]}, index = [\"U.S (n=500)\", \"U.K (n=500)\"] )\n",
    "data"
   ]
  },
  {
   "cell_type": "code",
   "execution_count": 11,
   "id": "e4b1d66e",
   "metadata": {},
   "outputs": [
    {
     "name": "stdout",
     "output_type": "stream",
     "text": [
      "Chi2 stat = 13.393665158371041\n",
      "Chi2 critical = 9.21034037197618\n",
      "p-value = 0.0012348168997745915\n",
      "Reject Ho. There is association between chocolate preference and country of origin\n"
     ]
    }
   ],
   "source": [
    "Ho = \"There is no association between chocolate preference and country of origin\"\n",
    "Ha = \"There is association between chocolate preference and country of origin\"\n",
    "\n",
    "#alpha\n",
    "alpha = 0.01\n",
    "#contingency table\n",
    "cont_table = data.values\n",
    "#chi2 stats, pvalue, degree of freedom\n",
    "chi2_stat, p_val, df, exp = chi2_contingency(cont_table)\n",
    "#chi2 critical value\n",
    "chi2_crit = chi2.ppf( 1-alpha,df)\n",
    "\n",
    "print( f\"Chi2 stat = {chi2_stat}\\nChi2 critical = {chi2_crit}\\np-value = {p_val}\")\n",
    "if chi2_stat > chi2_crit:\n",
    "    print(\"Reject Ho.\", Ha)\n",
    "else:\n",
    "    print(\"Fail to reject Ho.\", Ho)\n"
   ]
  },
  {
   "cell_type": "markdown",
   "id": "4858d90f",
   "metadata": {},
   "source": [
    "# Q11. A random sample of 30 people was selected from a population with an unknown mean and standard deviation. The sample mean was found to be 72 and the sample standard deviation was found to be 10. Conduct a hypothesis test to determine if the population mean is significantly different from 70. Use a significance level of 0.05."
   ]
  },
  {
   "cell_type": "code",
   "execution_count": 18,
   "id": "7d3f8319",
   "metadata": {},
   "outputs": [
    {
     "name": "stdout",
     "output_type": "stream",
     "text": [
      "critical value = 2.045229642132703\n",
      "t value = 1.0954451150103321\n",
      "p value = 0.28233623728606977\n",
      "Fail to reject Ho. The population mean is equal to 70\n"
     ]
    }
   ],
   "source": [
    "Ho = \"The population mean is equal to 70\"\n",
    "Ha = \"The population mean is different to 70\"\n",
    "\n",
    "#first we assume that the null hypotheses is correct\n",
    "µ = 70\n",
    "#sample mean\n",
    "mean = 72\n",
    "#sample standard deviation\n",
    "std = 10\n",
    "#sample size\n",
    "n = 30\n",
    "#alpha\n",
    "alpha = 0.05\n",
    "\n",
    "#critical value\n",
    "t_crit = t.ppf( 1-alpha/2, n-1)\n",
    "#t statistic\n",
    "t_stat = (mean-µ)/(std/math.sqrt(n))\n",
    "#p value\n",
    "p_val = 2*t.sf(t_stat, n-1)\n",
    " \n",
    "print(f\"critical value = {t_crit}\\nt value = {t_stat}\\np value = {p_val}\")\n",
    "if t_stat > t_crit or t_stat < -t_crit:\n",
    "    print(\"Reject Ho.\",Ha)\n",
    "else:\n",
    "    print(\"Fail to reject Ho.\",Ho)"
   ]
  },
  {
   "cell_type": "code",
   "execution_count": null,
   "id": "c1e7ad06",
   "metadata": {},
   "outputs": [],
   "source": []
  }
 ],
 "metadata": {
  "kernelspec": {
   "display_name": "Python 3 (ipykernel)",
   "language": "python",
   "name": "python3"
  },
  "language_info": {
   "codemirror_mode": {
    "name": "ipython",
    "version": 3
   },
   "file_extension": ".py",
   "mimetype": "text/x-python",
   "name": "python",
   "nbconvert_exporter": "python",
   "pygments_lexer": "ipython3",
   "version": "3.9.16"
  }
 },
 "nbformat": 4,
 "nbformat_minor": 5
}
