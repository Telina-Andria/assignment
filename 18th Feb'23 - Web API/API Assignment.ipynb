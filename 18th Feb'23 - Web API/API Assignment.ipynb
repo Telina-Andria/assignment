{
 "cells": [
  {
   "cell_type": "markdown",
   "id": "e9e2617c",
   "metadata": {},
   "source": [
    "## Q1. What is an API? Give an example, where an API is used in real life."
   ]
  },
  {
   "cell_type": "markdown",
   "id": "06009e83",
   "metadata": {},
   "source": [
    "An API is a tool used to establish communication between two applications, even if they are using different programming languages.This is made possible with the help of different protocols. For example, the Google Maps API is used to display maps and location information inside your web or mobile application"
   ]
  },
  {
   "cell_type": "markdown",
   "id": "4085ce80",
   "metadata": {},
   "source": [
    "## Q2. Give advantages and disadvantages of using API. "
   ]
  },
  {
   "cell_type": "markdown",
   "id": "4738c12c",
   "metadata": {},
   "source": [
    "_Advantages of using API are:\n",
    "1) You don't need to store all of your data on your server, which increases the speed of your application.\n",
    "2) You don't need to create something from scratch because someone may have already created an API for the task that you are interested in.\n",
    "3) You can have access to a large source of data.\n",
    "4) It facilitate collaboration between developers and teams.\n",
    "5) It can help you to stay up to date with latest technologies. For example, you can leverage the latest innovations in areas such as machine learning,artificial intelligence to enhance the functionality of your application."
   ]
  },
  {
   "cell_type": "markdown",
   "id": "108d1e0b",
   "metadata": {},
   "source": [
    "_Disadvantage of using API are:\n",
    "1) APIs can be a gateway for hackers looking to gain control of your server.\n",
    "2) You only have access to what the API allows you to access. If the API does not provide the data or functionality you need, you may need to find another solution or develop your own API.\n",
    "3) APIs can be subject to changes. If the API provider decides to change or remove certain features, it can break the functionality of your application.\n",
    "4) APIs can be unreliable. If the API provider experiences downtime or other issues, it can impact the functionality of your application. Additionally, if the API provider goes out of business or decides to discontinue the API, it can leave you without a solution.\n",
    "5) API can be costly"
   ]
  },
  {
   "cell_type": "markdown",
   "id": "d17dc21e",
   "metadata": {},
   "source": [
    "## Q3. What is a Web API? Differentiate between API and Web API."
   ]
  },
  {
   "cell_type": "markdown",
   "id": "7ec066f0",
   "metadata": {},
   "source": [
    "Web API is a type of API that use HTTP protocol to establish communication between client and server over the internet.It is designed for a web based application."
   ]
  },
  {
   "cell_type": "markdown",
   "id": "2b0f0149",
   "metadata": {},
   "source": [
    "Difference are:\n",
    "1) Protocol: Web API use HTTP protocol while API can use various type of protocols such as TCP,SMTP,HTTP,UDP,FTP\n",
    "2) Web API is designed for web based application while general API can be used for wide range of application including desktop and mobile application.\n",
    "3) Web API often used standard format such as JSON,XML to transmit data ,while general API may use a wide range of format."
   ]
  },
  {
   "cell_type": "markdown",
   "id": "fdfa30ea",
   "metadata": {},
   "source": [
    "## Q4. Explain REST and SOAP Architecture. Mention shortcomings of SOAP."
   ]
  },
  {
   "cell_type": "markdown",
   "id": "ab90d265",
   "metadata": {},
   "source": [
    "REST is a architercture that useS HTTP protocols to establish communication between client and server.Message sent by REST are typically in JSON format.It is designed to be simple ,lightweight and scalable.\n",
    "\n",
    "SOAP is an architecture that uses protocols such as TCP,SMTP,HTTP to establishe communication between client and server.Message sent by SOAP are typically in XML.It is designed to be highly extensible and support advanced features such as security and reliatbility."
   ]
  },
  {
   "cell_type": "markdown",
   "id": "bd5fd32e",
   "metadata": {},
   "source": [
    "## Q5. Differentiate between REST and SOAP"
   ]
  },
  {
   "cell_type": "markdown",
   "id": "ebd6ff07",
   "metadata": {},
   "source": [
    "Difference between REST and SOAP are:\n",
    "1) Structure of the message: REST uses the HTTP protocol and sends messages in a lightweight and easily readable data format, such as JSON or XML. This makes the messages simple and straightforward, which is ideal for lightweight and simple web applications. On the other hand, SOAP architecture uses protocols such as TCP, SMTP, and HTTP to establish communication between the client and server. Messages sent by SOAP are typically in XML format, a structured and text-based data format. This makes them more complex and secure than REST messages, which makes them more suitable for more complex web applications that require advanced features such as security and reliability.\n",
    "\n",
    "2) Statelessness: REST: REST is stateless, meaning each request from a client to a server must contain all the information needed to understand and process that request. The server does not retain any information about the client's state between requests. SOAP, by itself, does not inherently enforce statelessness\n",
    "3) Standards and Contracts: REST: REST does not prescribe a specific set of standards or contracts for communication between clients and servers. SOAP, on the other hand, is based on a set of rigid standards and requires a formal contract (WSDL - Web Services Description Language) that defines the operations, data types, and endpoints. This contract needs to be agreed upon by both the client and server before communication can occur.\n",
    "4) Flexibility: REST is known for its flexibility and simplicity, making it easier to develop and understand. It allows for a wide range of data formats and supports various authentication methods, including token-based authentication and OAuth. SOAP's strict standards and contract-based approach can make it less flexible in some cases. However, it offers more built-in security features like WS-Security, which can be essential in certain enterprise-level scenarios."
   ]
  },
  {
   "cell_type": "code",
   "execution_count": null,
   "id": "b365b894",
   "metadata": {},
   "outputs": [],
   "source": []
  }
 ],
 "metadata": {
  "kernelspec": {
   "display_name": "Python 3 (ipykernel)",
   "language": "python",
   "name": "python3"
  },
  "language_info": {
   "codemirror_mode": {
    "name": "ipython",
    "version": 3
   },
   "file_extension": ".py",
   "mimetype": "text/x-python",
   "name": "python",
   "nbconvert_exporter": "python",
   "pygments_lexer": "ipython3",
   "version": "3.9.16"
  }
 },
 "nbformat": 4,
 "nbformat_minor": 5
}
