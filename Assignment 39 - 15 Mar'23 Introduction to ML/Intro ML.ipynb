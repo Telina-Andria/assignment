{
 "cells": [
  {
   "cell_type": "markdown",
   "id": "a631a474",
   "metadata": {},
   "source": [
    "# Q1: Explain the following with an example:\n",
    "\n",
    "1. Artificial Intelligence\n",
    "2. Machine Learning\n",
    "3. Deep Learning"
   ]
  },
  {
   "cell_type": "markdown",
   "id": "10f384a7",
   "metadata": {},
   "source": [
    "Artificial Intelligence are programs that can perform tasks without the assistance of humans. AI systems are designed to mimic human intelligence and can be applied to various domains. For example, a self-driving car is an AI system that can navigate and make decisions on the road without a human driver. Another example are virtual assistants, medical diagnosis tools.\n",
    "\n",
    "Machine Learning is a subset of AI that uses statistical techniques to identify patterns in data and make predictions or decisions based on that data. For example, Netflix uses ML algorithms to recommend movies to its users based on their viewing history and preferences. Another example are spam filters, fraud detection systems.\n",
    "\n",
    "Deep Learning is a subset of ML that is based on the logic of the human brain and uses artificial neural networks to model and solve complex problems. An example of DL is the generation of music using a neural network trained on existing music compositions. Another example is image recognition software that can accurately identify objects in images by analyzing millions of labeled images."
   ]
  },
  {
   "cell_type": "markdown",
   "id": "729d3de0",
   "metadata": {},
   "source": [
    "# Q2. What is supervised learning? List some examples of supervised learning."
   ]
  },
  {
   "cell_type": "markdown",
   "id": "20515fde",
   "metadata": {},
   "source": [
    "Supervised learning is a type of machine learning algorithm that involves training a model on labeled data. The model takes something as input and gives something as output based on the patterns it learns from the labeled data. \n",
    "\n",
    "Examples of supervised learning include classification, where the model predicts a categorical label for the input data, and regression, where the model predicts a continuous numerical value for the input data.\n"
   ]
  },
  {
   "cell_type": "markdown",
   "id": "972f2d58",
   "metadata": {},
   "source": [
    "# Q3. What is unsupervised learning ? List some examples of unsupervised learning"
   ]
  },
  {
   "cell_type": "markdown",
   "id": "ccf22373",
   "metadata": {},
   "source": [
    "Unsupervised learning is a type of machine learning algorithm that involves training a model on unlabeled data. The model identifies patterns or structures in the data and groups similar data points together, without any prior knowledge of what the groups should be.\n",
    "\n",
    "Examples of unsupervised learning include clustering, where the model creates clusters or groups of similar data points, and dimensionality reduction techniques like PCA (Principal Component Analysis), which reduce the number of features in a dataset while retaining the most important information."
   ]
  },
  {
   "cell_type": "markdown",
   "id": "c4f69281",
   "metadata": {},
   "source": [
    "# Q4. What is the difference between AI, ML, DL and DS ?"
   ]
  },
  {
   "cell_type": "markdown",
   "id": "9f3138c5",
   "metadata": {},
   "source": [
    "Here is a comparison of Artificial Intelligence, Machine Learning, Deep Learning, and Data Science in a tabular format:\n",
    "\n",
    "| Key Aspect | Artificial Intelligence | Machine Learning | Deep Learning | Data Science |\n",
    "|---|---|---|---|---|\n",
    "Definition\t| AI stands for Artificial Intelligence, and is basically the study/process which enables machines to mimic human behaviour through particular algorithm.|\tML stands for Machine Learning, and is the study that uses statistical methods enabling machines to improve with experience.|DL stands for Deep Learning, and is the study that makes use of Neural Networks(similar to neurons present in human brain) to imitate functionality just like a human brain. |\tInterdisciplinary field that uses various techniques to extract insights from data.|\n",
    "Applications |\tRobotics, Natural Language Processing, Computer Vision, Expert Systems.|\tImage recognition, Speech recognition, Recommender systems, Fraud detection.|\tImage and speech recognition, Natural Language Processing, Robotics, Game AI.|\tBusiness intelligence, Predictive analytics, Data mining, Machine learning.\n",
    "Examples|\tTesla self Driving car ,Chat GPT, Siri, Robotics.|\tSpam filtering, Image recognition, Predictive analytics.|\tSpeech recognition, Computer vision, Natural Language Processing.|\tNetflix recommendation engine, Facebook Insights, Google Analytics.\n",
    "Tools|\tTensorFlow, Keras, PyTorch, OpenCV.|\tScikit-learn, TensorFlow, Keras, PyTorch.|\tTensorFlow, Keras, PyTorch.|\tR, Python, SQL, Tableau, Excel.\n",
    "\n",
    "Here is the scheme that shows connections between them.\n",
    "<img src=\"img/q4.png\">"
   ]
  },
  {
   "cell_type": "markdown",
   "id": "2c1bbf0f",
   "metadata": {},
   "source": [
    "# Q5. What are the main differences between supervised, unsupervised and semi-supervised learning ?"
   ]
  },
  {
   "cell_type": "markdown",
   "id": "388df277",
   "metadata": {},
   "source": [
    "* Supervised learning involves training a model on labeled data, where the input data is paired with corresponding output labels. The goal of supervised learning is to learn a mapping function from the input to the output, so that the model can accurately predict the output for new, unseen data.\n",
    "* Unsupervised learning involves training a model on unlabeled data, where the goal is to identify patterns or structures in the data without any prior knowledge of what the groups should be. Unsupervised learning algorithms are used to identify clusters or groups of similar data points, or to reduce the dimensionality of the data while retaining the most important information.\n",
    "* Semi-supervised learning is a combination of supervised and unsupervised learning, where some of the training data is labeled and some is unlabeled. The goal of semi-supervised learning is to leverage the unlabeled data to improve the performance of the model on the labeled data."
   ]
  },
  {
   "cell_type": "markdown",
   "id": "6732a8cb",
   "metadata": {},
   "source": [
    "# Q6. What is train, test and validation split? Explain the importance of each term."
   ]
  },
  {
   "cell_type": "markdown",
   "id": "ae24eafd",
   "metadata": {},
   "source": [
    "In machine learning, the train-test-validation split is a common technique used to evaluate the performance of a machine learning model.\n",
    "\n",
    "1. Training set: This is a subset of the dataset that is used to train the machine learning model.\n",
    "2. Test set: This is a subset of the dataset that is used to evaluate the performance of the machine learning model after it has been trained on the training set. \n",
    "3. Validation set: This is a subset of the dataset that is used to tune the hyperparameters of the machine learning model. Hyperparameters are parameters that are not learned from the data, but rather set by the user before training. "
   ]
  },
  {
   "cell_type": "markdown",
   "id": "e3d2a43c",
   "metadata": {},
   "source": [
    "# Q7. How can unsupervised learning be used in anomaly detection?"
   ]
  },
  {
   "cell_type": "markdown",
   "id": "3c53cdad",
   "metadata": {},
   "source": []
  },
  {
   "cell_type": "markdown",
   "id": "efd30762",
   "metadata": {},
   "source": [
    "\n",
    "Unsupervised learning can be used in anomaly detection by identifying data points that are significantly different from the rest of the data. This can be done by modeling the distribution of the normal data and then identifying points that fall outside of this distribution.\n",
    "\n",
    "There are a number of different unsupervised anomaly detection techniques, including:\n",
    "* Isolation forest: This technique builds a set of decision trees to isolate anomalies. Anomalies are those data points that are easily separated from the rest of the data by the decision trees.\n",
    "* One-class support vector machines (OCSVM): This technique builds a hyperplane that separates the normal data from the rest of the data. Anomalies are those data points that fall outside of the hyperplane.\n",
    "* Gaussian mixture models (GMMs): This technique assumes that the normal data follows a Gaussian distribution. Anomalies are those data points that do not follow the Gaussian distribution.\n",
    "* Autoencoders: This technique is a neural network that is trained to reconstruct the input data. Anomalies are those data points that cannot be reconstructed by the autoencoder.\n",
    "\n",
    "The choice of unsupervised anomaly detection technique depends on the specific application. For example, isolation forest is a good choice for applications where the data is high-dimensional, while OCSVM is a good choice for applications where the data is linearly separable."
   ]
  },
  {
   "cell_type": "markdown",
   "id": "34229883",
   "metadata": {},
   "source": [
    "# Q8. List down some commonly used supervised learning algorithms and unsupervised learning algorithms."
   ]
  },
  {
   "cell_type": "markdown",
   "id": "3286599e",
   "metadata": {},
   "source": [
    "Here are some commonly used algorithms in supervised and unsupervised learning:\n",
    "\n",
    "1. Supervised Learning Algorithms:\n",
    "\n",
    "    * Linear Regression\n",
    "    * Logistic Regression\n",
    "    * Decision Trees\n",
    "    * Random Forest\n",
    "    * Support Vector Machines (SVM)\n",
    "    * Naive Bayes\n",
    "    * K-Nearest Neighbors (KNN)\n",
    "    * Neural Networks (Multi-Layer Perceptron)\n",
    "\n",
    "2. Unsupervised Learning Algorithms:\n",
    "\n",
    "    * K-Means Clustering\n",
    "    * Hierarchical Clustering\n",
    "    * Principal Component Analysis (PCA)\n",
    "    * t-Distributed Stochastic Neighbor Embedding (t-SNE)\n",
    "    * Association Rule Mining (Apriori Algorithm)\n",
    "    * Gaussian Mixture Models (GMM)\n",
    "    * Self-Organizing Maps (SOM)"
   ]
  }
 ],
 "metadata": {
  "kernelspec": {
   "display_name": "Python 3 (ipykernel)",
   "language": "python",
   "name": "python3"
  },
  "language_info": {
   "codemirror_mode": {
    "name": "ipython",
    "version": 3
   },
   "file_extension": ".py",
   "mimetype": "text/x-python",
   "name": "python",
   "nbconvert_exporter": "python",
   "pygments_lexer": "ipython3",
   "version": "3.9.16"
  }
 },
 "nbformat": 4,
 "nbformat_minor": 5
}
