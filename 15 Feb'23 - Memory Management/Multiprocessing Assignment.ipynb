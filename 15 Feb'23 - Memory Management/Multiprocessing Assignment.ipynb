{
 "cells": [
  {
   "cell_type": "markdown",
   "id": "99f68217",
   "metadata": {},
   "source": [
    "## Q1. What is multiprocessing in python? Why is it useful? \n"
   ]
  },
  {
   "cell_type": "markdown",
   "id": "3671159b",
   "metadata": {},
   "source": [
    "Multiprocessing is the concept of dividing a program into multiple processes or threads, which allows for multiple instances of the program to run on different cores of the CPU in parallel. This can improve performance and the processes or threads can share data as needed."
   ]
  },
  {
   "cell_type": "markdown",
   "id": "ebcba8eb",
   "metadata": {},
   "source": [
    "## Q2. What are the differences between multiprocessing and multithreading?\n"
   ]
  },
  {
   "cell_type": "markdown",
   "id": "dc3f2dcb",
   "metadata": {},
   "source": [
    "In multiprocessing, threads run on different cores of the CPU in parallel, rather than on the same core. In multithreading, threads can run on different cores or on the same core, depending on the design of the program."
   ]
  },
  {
   "cell_type": "markdown",
   "id": "224f5fbd",
   "metadata": {},
   "source": [
    "## Q3. Write a python code to create a process using the multiprocessing module.\n"
   ]
  },
  {
   "cell_type": "code",
   "execution_count": 10,
   "id": "59567de1",
   "metadata": {},
   "outputs": [
    {
     "name": "stdout",
     "output_type": "stream",
     "text": [
      "This is a child multiprocessing\n",
      "This is the main process\n"
     ]
    }
   ],
   "source": [
    "import multiprocessing\n",
    "\n",
    "def print_child():\n",
    "    print(\"This is a child multiprocessing\")\n",
    "\n",
    "if __name__==\"__main__\":\n",
    "    m = multiprocessing.Process(target=print_child())\n",
    "    print(\"This is the main process\")\n",
    "    m.start()\n",
    "    m.join()\n",
    "    "
   ]
  },
  {
   "cell_type": "markdown",
   "id": "809545e6",
   "metadata": {},
   "source": [
    "## Q4. What is a multiprocessing pool in python? Why is it used?\n"
   ]
  },
  {
   "cell_type": "markdown",
   "id": "93bcdd9a",
   "metadata": {},
   "source": [
    "multiprocessing is a concept in Python that divide the program into multiple threads and running them in parralle on different core of the cpu. This can be achieved using Pool class that manage a pool of worker threads to execute tasks in parrallel."
   ]
  },
  {
   "cell_type": "markdown",
   "id": "5132dfdb",
   "metadata": {},
   "source": [
    "## Q5. How can we create a pool of worker processes in python using the multiprocessing module?"
   ]
  },
  {
   "cell_type": "code",
   "execution_count": 1,
   "id": "77da2c61",
   "metadata": {},
   "outputs": [],
   "source": [
    "import multiprocessing\n",
    "\n",
    "def sqrt(n):\n",
    "    return n**0.5\n",
    "if __name__ == '__main__':\n",
    "    with multiprocessing.Pool(processes=5) as pool :\n",
    "        result =pool.map(sqrt , [4,9,16,25,36,49,64,81])\n",
    "        print(result)\n",
    "    "
   ]
  },
  {
   "cell_type": "markdown",
   "id": "52de3018",
   "metadata": {},
   "source": [
    "## Q6. Write a python program to create 4 processes, each process should print a different number using the multiprocessing module in python"
   ]
  },
  {
   "cell_type": "code",
   "execution_count": 4,
   "id": "be7d4959",
   "metadata": {},
   "outputs": [
    {
     "name": "stdout",
     "output_type": "stream",
     "text": [
      "Sequence number0 = 73\n",
      "Sequence number1 = 25\n",
      "Sequence number2 = 61\n",
      "Sequence number3 = 23\n",
      "Sequence number4 = 5\n"
     ]
    }
   ],
   "source": [
    "import multiprocessing\n",
    "import random\n",
    "\n",
    "def new_number(i):\n",
    "    random_number = random.randint(1,100)\n",
    "    print(\"Sequence number{} = {}\".format(i,random_number))\n",
    "\n",
    "if __name__==\"__main__\":\n",
    "    processes=[]\n",
    "    for i in range(5):\n",
    "        pool = multiprocessing.Process(target=new_number(i) )\n",
    "        processes.append(pool)\n",
    "        pool.start()\n",
    "        \n",
    "    for p in processes:\n",
    "        p.join()"
   ]
  }
 ],
 "metadata": {
  "kernelspec": {
   "display_name": "Python 3 (ipykernel)",
   "language": "python",
   "name": "python3"
  },
  "language_info": {
   "codemirror_mode": {
    "name": "ipython",
    "version": 3
   },
   "file_extension": ".py",
   "mimetype": "text/x-python",
   "name": "python",
   "nbconvert_exporter": "python",
   "pygments_lexer": "ipython3",
   "version": "3.9.16"
  }
 },
 "nbformat": 4,
 "nbformat_minor": 5
}
