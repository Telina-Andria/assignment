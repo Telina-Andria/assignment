{
 "cells": [
  {
   "cell_type": "markdown",
   "id": "9c27d13c",
   "metadata": {},
   "source": [
    "# Q1. What is multithreading in python? Why is it used ? Name the module used to handale threads in python."
   ]
  },
  {
   "cell_type": "markdown",
   "id": "af97acc7",
   "metadata": {},
   "source": [
    "Multithreading is the concept of running multiple threads simultaneously within the same process to optimize program performance. threading is the name of the module that handle threads in python."
   ]
  },
  {
   "cell_type": "markdown",
   "id": "5646dbc2",
   "metadata": {},
   "source": [
    "# Q2. Why threading module used ? Write the use of the following functions:\n",
    "1) activeCount() ,2)currentThread(), 3)enumerate()"
   ]
  },
  {
   "cell_type": "markdown",
   "id": "3b3afc25",
   "metadata": {},
   "source": [
    "It is used to implement multithreading in python allowing multiple threads to run simultaniously within the same process.\n",
    "\n",
    "activeCount() : return the number of thread object that are currently active.\n",
    "\n",
    "currentThread() : return a thread object representing the current thread of execution\n",
    "\n",
    "enumerate() : return enumerate object which is an iterator that generate sequence of tuples containing index and values of each element in a iterable.\n"
   ]
  },
  {
   "cell_type": "markdown",
   "id": "0190434c",
   "metadata": {},
   "source": [
    "# Q3. Explain the following functions:\n",
    "1) run() \n",
    "2)start() \n",
    "3)join()\n",
    "4)isAlive()"
   ]
  },
  {
   "cell_type": "markdown",
   "id": "6addf258",
   "metadata": {},
   "source": [
    "1) run() method is called when the start() method in a thread object is called\n",
    "\n",
    "2) start() method is used to start a new thread \n",
    "\n",
    "3) join() sometimes, the program may end without waiting for the complete the execution of all threads. To ensure that all threads have completed before the program ends, you can use the join() method on each thread object.\n",
    "\n",
    "4) isAlive() : it is used to check whether a thread object is currently executing.\n"
   ]
  },
  {
   "cell_type": "markdown",
   "id": "6fc031ad",
   "metadata": {},
   "source": [
    "# Q4. Write a python program to create two threads. Thread one must print the list of squares and thread two must print the list of cubes."
   ]
  },
  {
   "cell_type": "code",
   "execution_count": 15,
   "id": "0f2f22b5",
   "metadata": {},
   "outputs": [],
   "source": [
    "import threading\n",
    "import time\n",
    "\n",
    "def square():\n",
    "    for i in range(10):\n",
    "        print(i**2)\n",
    "        \n",
    "def cube():\n",
    "    for i in range(10):\n",
    "        print(i*i*i)"
   ]
  },
  {
   "cell_type": "code",
   "execution_count": 16,
   "id": "107462ec",
   "metadata": {},
   "outputs": [
    {
     "name": "stdout",
     "output_type": "stream",
     "text": [
      "0\n",
      "1\n",
      "4\n",
      "9\n",
      "16\n",
      "25\n",
      "36\n",
      "49\n",
      "64\n",
      "81\n",
      "0\n",
      "1\n",
      "8\n",
      "27\n",
      "64\n",
      "125\n",
      "216\n",
      "343\n",
      "512\n",
      "729\n"
     ]
    }
   ],
   "source": [
    "thread1 = threading.Thread(target=square)\n",
    "thread2 = threading.Thread(target=cube)\n",
    "threads = [thread1, thread2]\n",
    "\n",
    "for t in threads:\n",
    "    t.start()"
   ]
  },
  {
   "cell_type": "markdown",
   "id": "c9429ab5",
   "metadata": {},
   "source": [
    "# Q5. State advantages and disadvantages of multithreading"
   ]
  },
  {
   "cell_type": "markdown",
   "id": "8743e261",
   "metadata": {},
   "source": [
    "Advantage are: \n",
    "1) Multithreading allow program to perform multiple task simultaniously so the ressouces available are utilize more effectively.\n",
    "2) When there is an I/O operation, running additional threads in the background allows for efficient CPU utilization.\n",
    "3) When the user is interacting with the GUI, running separate threads for time-consuming computations in the background helps to ensure a smooth user experience.\n",
    "\n",
    "Disadvantage are:\n",
    "1) Potential for increased complexity and difficulty.\n",
    "2) Synchronisation issues such as race conditions and deadlocks "
   ]
  },
  {
   "cell_type": "markdown",
   "id": "f947123c",
   "metadata": {},
   "source": [
    "# Q6. Explain deadlocks and race conditions."
   ]
  },
  {
   "cell_type": "markdown",
   "id": "c882b20e",
   "metadata": {},
   "source": [
    "1) Deadlocks : A deadlock occurs when two or more threads are blocked forever because each is waiting for a resource that another thread holds.\n",
    "\n",
    "2) A race condition occurs when multiple threads access and manipulate shared data concurrently, and the final outcome of the program depends on the specific timing and interleaving of their execution."
   ]
  }
 ],
 "metadata": {
  "kernelspec": {
   "display_name": "Python 3 (ipykernel)",
   "language": "python",
   "name": "python3"
  },
  "language_info": {
   "codemirror_mode": {
    "name": "ipython",
    "version": 3
   },
   "file_extension": ".py",
   "mimetype": "text/x-python",
   "name": "python",
   "nbconvert_exporter": "python",
   "pygments_lexer": "ipython3",
   "version": "3.9.16"
  }
 },
 "nbformat": 4,
 "nbformat_minor": 5
}
