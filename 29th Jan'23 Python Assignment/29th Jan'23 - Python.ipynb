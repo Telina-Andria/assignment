{
 "cells": [
  {
   "cell_type": "markdown",
   "id": "a417fc3a",
   "metadata": {},
   "source": [
    "## Q1. Who developed python programming language ?"
   ]
  },
  {
   "cell_type": "markdown",
   "id": "21479e45",
   "metadata": {},
   "source": [
    "Guido Van Rossum (Dutch) is the creator of the Python programming language."
   ]
  },
  {
   "cell_type": "markdown",
   "id": "5f2d9e7a",
   "metadata": {},
   "source": [
    "## Q2. Which type of programming does python support ?"
   ]
  },
  {
   "cell_type": "markdown",
   "id": "00e74143",
   "metadata": {},
   "source": [
    "Python support multiple programming paradigms, including:\n",
    "_procedural programming,\n",
    "_object-oriented programming,\n",
    "_functionnal programming,\n",
    "_imperative programming,\n",
    "_event-driven programming,\n",
    "_metaprogramming\n"
   ]
  },
  {
   "cell_type": "markdown",
   "id": "ffd95844",
   "metadata": {},
   "source": [
    "## Q3. Is python case sensitive when dealing with identifiers ?"
   ]
  },
  {
   "cell_type": "markdown",
   "id": "2e55f883",
   "metadata": {},
   "source": [
    "Python is a case-sensitive language, which means that it distinguishes between uppercase and lowercase letters when dealing with identifiers."
   ]
  },
  {
   "cell_type": "markdown",
   "id": "6c92b437",
   "metadata": {},
   "source": [
    "## Q4. What is correct extension of python file ?"
   ]
  },
  {
   "cell_type": "markdown",
   "id": "871b97a0",
   "metadata": {},
   "source": [
    "The standard file extension for Python files is \".py\", while Jupyter Notebook files use the \".ipynb\" extension."
   ]
  },
  {
   "cell_type": "markdown",
   "id": "8a0f6abb",
   "metadata": {},
   "source": [
    "## Q5. Is python code compiled or interpreted ?"
   ]
  },
  {
   "cell_type": "markdown",
   "id": "a0afb794",
   "metadata": {},
   "source": [
    "Python is interpreted language, which means the source code of a Python program is converted to bytecode that is then executed by the python virtual machine."
   ]
  },
  {
   "cell_type": "markdown",
   "id": "7a55e68c",
   "metadata": {},
   "source": [
    "## Q6. Name a few block of code used to define in Python language ?"
   ]
  },
  {
   "cell_type": "markdown",
   "id": "2e7c70d7",
   "metadata": {},
   "source": [
    "In Python, blocks of code are defined using indentation.Here are few example of blocks of code in Python: function definition, conditional statements, loops,class definition"
   ]
  },
  {
   "cell_type": "markdown",
   "id": "01f7f692",
   "metadata": {},
   "source": [
    "## Q7. State the character used to give single line comments in python ?"
   ]
  },
  {
   "cell_type": "markdown",
   "id": "09c3730a",
   "metadata": {},
   "source": [
    "_# is used to write single line comment in python."
   ]
  },
  {
   "cell_type": "markdown",
   "id": "534e8a4b",
   "metadata": {},
   "source": [
    "## Q8. Mention functions which can help us find the version of python that we are currently working on ?"
   ]
  },
  {
   "cell_type": "code",
   "execution_count": 1,
   "id": "002c54f3",
   "metadata": {},
   "outputs": [
    {
     "name": "stdout",
     "output_type": "stream",
     "text": [
      "3.9.16 (main, May 17 2023, 17:49:16) [MSC v.1916 64 bit (AMD64)]\n"
     ]
    }
   ],
   "source": [
    "import sys\n",
    "print(sys.version)"
   ]
  },
  {
   "cell_type": "code",
   "execution_count": 2,
   "id": "6496f71e",
   "metadata": {},
   "outputs": [
    {
     "name": "stdout",
     "output_type": "stream",
     "text": [
      "3.9.16\n"
     ]
    }
   ],
   "source": [
    "import platform\n",
    "print(platform.python_version())"
   ]
  },
  {
   "cell_type": "code",
   "execution_count": 3,
   "id": "89f5f954",
   "metadata": {},
   "outputs": [
    {
     "name": "stdout",
     "output_type": "stream",
     "text": [
      "3.9\n"
     ]
    }
   ],
   "source": [
    "import sysconfig\n",
    "print(sysconfig.get_python_version())"
   ]
  },
  {
   "cell_type": "markdown",
   "id": "e188225d",
   "metadata": {},
   "source": [
    "## Q9. Python supports the creation of anonymous functions at runtime using construct called ?"
   ]
  },
  {
   "cell_type": "markdown",
   "id": "78f82a67",
   "metadata": {},
   "source": [
    "Python supports the creation of anonymous functions at runtime using a construct called \"lambda\""
   ]
  },
  {
   "cell_type": "markdown",
   "id": "1431fa5b",
   "metadata": {},
   "source": [
    "## Q10. What does pip stand for in python ?"
   ]
  },
  {
   "cell_type": "markdown",
   "id": "2b6facbe",
   "metadata": {},
   "source": [
    "Pip stands for: preferred installer program."
   ]
  },
  {
   "cell_type": "markdown",
   "id": "a11276bb",
   "metadata": {},
   "source": [
    "## Q11. Mention a few built in functions in python ?"
   ]
  },
  {
   "cell_type": "markdown",
   "id": "ac0ffd33",
   "metadata": {},
   "source": [
    "Here are a few commonly used built-in functions in Python:\n",
    "print(): Prints output to the console.\n",
    "len(): Returns the length of an object, such as a string, list, or tuple.\n",
    "input(): Reads input from the user via the console.\n",
    "type(): Returns the type of an object.\n",
    "int(), float(), str(): Converts a value to an integer, float, or string, respectively.\n",
    "range(): Generates a sequence of numbers."
   ]
  },
  {
   "cell_type": "markdown",
   "id": "da60c915",
   "metadata": {},
   "source": [
    "## Q12. What is maximum possible length of an identifier in python ?"
   ]
  },
  {
   "cell_type": "markdown",
   "id": "756e8cb7",
   "metadata": {},
   "source": [
    "An identifier can have a maximum length of 79 characters in Python."
   ]
  },
  {
   "cell_type": "markdown",
   "id": "2bebfae2",
   "metadata": {},
   "source": [
    "## Q13. What are benefits of using python ?"
   ]
  },
  {
   "cell_type": "markdown",
   "id": "e0247fe3",
   "metadata": {},
   "source": [
    "Using Python as a programming language offers several benefits:\n",
    "\n",
    "Readability and Simplicity: Python emphasizes code readability and uses a clean and expressive syntax, making it easy to understand and write. Its simplicity reduces the learning curve for new programmers and promotes maintainable code.\n",
    "\n",
    "Large and Active Community: Python has a large and active community of developers, which means abundant resources, libraries, and frameworks are available. The community contributes to the growth and support of Python, providing solutions, tutorials, and updates.\n",
    "\n",
    "Extensive Standard Library: Python comes with a comprehensive standard library that provides a wide range of modules and functions for various tasks, from file handling and network communication to data manipulation and web development. The standard library reduces the need for external dependencies.\n",
    "\n",
    "Cross-Platform Compatibility: Python runs on multiple platforms, including Windows, macOS, Linux, and various UNIX systems. This cross-platform compatibility allows developers to write code on one platform and easily run it on other platforms without major modifications.\n",
    "\n",
    "Integration and Interoperability: Python seamlessly integrates with other programming languages like C, C++, Java, and more. It supports various integration mechanisms, such as APIs, bindings, and modules, making it suitable for building applications that require interoperability with existing codebases or systems.\n",
    "\n",
    "Rapid Development: Python's simplicity and high-level abstractions enable rapid prototyping and development. Its extensive set of libraries and frameworks, such as Django and Flask for web development, accelerate the development process by providing ready-to-use components and tools.\n",
    "\n",
    "Data Science and Machine Learning: Python has become a popular language for data science and machine learning. Libraries like NumPy, Pandas, and scikit-learn provide powerful tools for data manipulation, analysis, and modeling. Frameworks such as TensorFlow and PyTorch are widely used for deep learning and artificial intelligence tasks.\n",
    "\n",
    "Scalability and Performance: Although Python is an interpreted language, it offers various techniques to optimize performance. Python's flexibility allows critical sections to be written in lower-level languages like C or C++, combining the ease of Python development with performance gains.\n",
    "\n",
    "Testing and Debugging: Python has built-in support for unit testing and debugging. Frameworks like pytest and tools like pdb facilitate efficient testing and debugging processes, ensuring code quality and reliability.\n",
    "\n",
    "Versatility and Application Areas: Python finds applications in a wide range of domains, including web development, scientific computing, data analysis, artificial intelligence, automation, network programming, game development, and more. Its versatility allows developers to work on diverse projects using a single language."
   ]
  },
  {
   "cell_type": "markdown",
   "id": "1138df52",
   "metadata": {},
   "source": [
    "## Q14. How is memory managed in python ?"
   ]
  },
  {
   "cell_type": "markdown",
   "id": "3038ad2f",
   "metadata": {},
   "source": [
    "Memory management in Python is handled automatically through a combination of techniques, including reference counting, garbage collection, and memory pooling. The Python interpreter takes care of memory allocation and deallocation, relieving developers from manual memory management tasks."
   ]
  },
  {
   "cell_type": "markdown",
   "id": "3175d289",
   "metadata": {},
   "source": [
    "## Q15. How to install python on windows and set path variable ?"
   ]
  },
  {
   "cell_type": "markdown",
   "id": "d23cb3ef",
   "metadata": {},
   "source": [
    "Installing Python: Go to website https://www.python.org/downloads/ and complete the setup\n",
    "\n",
    "To set the path variable, you can use one of two methods:\n",
    "_Open the Run command by pressing Windows + R and type sysdm.cpl and hit enter. \n",
    "_Click on the Advanced tab and Click on Environment Variables.\n",
    "_Under System Variables, click on Path and choose Edit.\n",
    "_Under Edit Environment Variable, click on New and add the python path2.\n",
    "\n",
    "The second method is to use Python Exe file. Download the latest version of the Python exe file and open the exe file. Now you’ll get the Python Setup Wizard, Check Add Python to the path."
   ]
  },
  {
   "cell_type": "markdown",
   "id": "f4a3524b",
   "metadata": {},
   "source": [
    "## Q16- Is indentation required in python ?"
   ]
  },
  {
   "cell_type": "markdown",
   "id": "5d623303",
   "metadata": {},
   "source": [
    "Yes, indentation is required in Python. It is used to define the blocks of code."
   ]
  },
  {
   "cell_type": "code",
   "execution_count": null,
   "id": "2b78be97",
   "metadata": {},
   "outputs": [],
   "source": []
  }
 ],
 "metadata": {
  "kernelspec": {
   "display_name": "Python 3 (ipykernel)",
   "language": "python",
   "name": "python3"
  },
  "language_info": {
   "codemirror_mode": {
    "name": "ipython",
    "version": 3
   },
   "file_extension": ".py",
   "mimetype": "text/x-python",
   "name": "python",
   "nbconvert_exporter": "python",
   "pygments_lexer": "ipython3",
   "version": "3.9.16"
  }
 },
 "nbformat": 4,
 "nbformat_minor": 5
}
