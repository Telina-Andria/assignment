{
 "cells": [
  {
   "cell_type": "markdown",
   "id": "2ce08da6",
   "metadata": {},
   "source": [
    "## Q1. Create a function which will take a list as an argument and return the product of all the numbers after creating a flat list.\n",
    "\n",
    "Use the below-given list as an argument for your function.\n",
    "\n",
    "list1 = [1,2,3,4, [44,55,66, True], False, (34,56,78,89,34), {1,2,3,3,2,1}, {1:34, \"key2\": [55, 67, 78, 89], 4: (45,\n",
    "22, 61, 34)}, [56, 'data science'], 'Machine Learning']\n",
    "\n",
    "\n",
    "Note: you must extract numeric keys and values of the dictionary also."
   ]
  },
  {
   "cell_type": "code",
   "execution_count": 194,
   "id": "c76c3d3d",
   "metadata": {},
   "outputs": [],
   "source": [
    "from functools import reduce"
   ]
  },
  {
   "cell_type": "code",
   "execution_count": 195,
   "id": "50f36877",
   "metadata": {},
   "outputs": [],
   "source": [
    "def product_number(List):\n",
    "    \"\"\"This function will take a list as input and return the product of all numbers\"\"\"\n",
    "    #first we group all int number inside a flat list\n",
    "    l=[]\n",
    "    for i in List:\n",
    "        if type(i)==int:\n",
    "            l.append(i)\n",
    "        elif type(i)==list or type(i)==tuple or type(i)==set:\n",
    "            for j in i:\n",
    "                if type(j)==int:\n",
    "                    l.append(j)\n",
    "        elif type(i)==dict:\n",
    "            for key,val in i.items():\n",
    "                if type(key)==int :\n",
    "                    l.append(key)\n",
    "                if type(val)==int:\n",
    "                    l.append(val)\n",
    "                elif type(val)==list or type(val)==tuple or type(val)==set:\n",
    "                    for k in val:\n",
    "                        if type(k)==int:\n",
    "                            l.append(k)\n",
    "            \n",
    "    print(l)\n",
    "    #then we perform product off all number\n",
    "    return reduce(lambda x,y: x*y, l)"
   ]
  },
  {
   "cell_type": "code",
   "execution_count": 196,
   "id": "40b6c344",
   "metadata": {},
   "outputs": [
    {
     "name": "stdout",
     "output_type": "stream",
     "text": [
      "[1, 2, 3, 4, 44, 55, 66, 34, 56, 78, 89, 34, 1, 2, 3, 1, 34, 55, 67, 78, 89, 4, 45, 22, 61, 34, 56]\n"
     ]
    },
    {
     "data": {
      "text/plain": [
       "4134711838987085478833841242112000"
      ]
     },
     "execution_count": 196,
     "metadata": {},
     "output_type": "execute_result"
    }
   ],
   "source": [
    "list1 = [1,2,3,4, [44,55,66, True], False, (34,56,78,89,34), {1,2,3,3,2,1}, {1:34, \"key2\": [55, 67, 78, 89], 4: (45,\n",
    "22, 61, 34)}, [56, 'data science'], 'Machine Learning']\n",
    "product_number(list1)"
   ]
  },
  {
   "cell_type": "markdown",
   "id": "6281b63d",
   "metadata": {},
   "source": [
    "## Q2. Write a python program for encrypting a message sent to you by your friend. The logic of encryption should be such that, for a the output should be z. For b, the output should be y. For c, the output should be x respectively. Also, the whitespace should be replaced with a dollar sign. Keep the punctuation marks unchanged.\n",
    "\n",
    "Input Sentence: I want to become a Data Scientist.\n",
    "\n",
    "\n",
    "Encrypt the above input sentence using the program you just created.\n",
    "\n",
    "\n",
    "Note: Convert the given input sentence into lowercase before encrypting. The final output should be\n",
    "lowercase."
   ]
  },
  {
   "cell_type": "code",
   "execution_count": 197,
   "id": "7ea68939",
   "metadata": {},
   "outputs": [],
   "source": [
    "def enc_alpha():\n",
    "    \"\"\"This function encrypt a to z ,b to y ,c to x and so on. It return a dictionary\"\"\"\n",
    "    dico = {} \n",
    "    j = 0\n",
    "    for i in range(ord(\"a\"),ord(\"z\")+1):\n",
    "        dico[chr(i)] = chr(ord(\"z\")-j)\n",
    "        j+=1\n",
    "\n",
    "    return dico"
   ]
  },
  {
   "cell_type": "code",
   "execution_count": 198,
   "id": "50504375",
   "metadata": {},
   "outputs": [
    {
     "name": "stdout",
     "output_type": "stream",
     "text": [
      "a:z\n",
      "b:y\n",
      "c:x\n",
      "d:w\n",
      "e:v\n",
      "f:u\n",
      "g:t\n",
      "h:s\n",
      "i:r\n",
      "j:q\n",
      "k:p\n",
      "l:o\n",
      "m:n\n",
      "n:m\n",
      "o:l\n",
      "p:k\n",
      "q:j\n",
      "r:i\n",
      "s:h\n",
      "t:g\n",
      "u:f\n",
      "v:e\n",
      "w:d\n",
      "x:c\n",
      "y:b\n",
      "z:a\n"
     ]
    }
   ],
   "source": [
    "for key,val in enc_alpha().items():\n",
    "    print(key,val,sep=\":\")"
   ]
  },
  {
   "cell_type": "code",
   "execution_count": 199,
   "id": "6d2951b1",
   "metadata": {},
   "outputs": [],
   "source": [
    "def encryption(sentence):\n",
    "    \"\"\"This function take a string as input and return the encrypted message such that for a the output should be z.\n",
    "    For b, the output should be y. For c, the output should be x respectively. Also, the whitespace should be replaced\n",
    "    with a dollar sign. Keep the punctuation marks unchanged.\"\"\"\n",
    "    \n",
    "    encrypted=\"\"\n",
    "    #encrypt alphabetic number\n",
    "    for char in sentence:\n",
    "        if char.isalpha():\n",
    "            if char.islower():\n",
    "                encrypted += enc_alpha()[char] \n",
    "            else:\n",
    "                encrypted += enc_alpha()[char.lower()].upper()\n",
    "                \n",
    "        #whitespace replaced with dollar sign    \n",
    "        elif char ==\" \":\n",
    "            encrypted += \"$\"\n",
    "        #punctuation marks unchanged    \n",
    "        else:\n",
    "            encrypted += char\n",
    "    #encrypt space\n",
    "    #encrypted = encrypted.replace(\" \",\"$\")\n",
    "    \n",
    "    return encrypted "
   ]
  },
  {
   "cell_type": "code",
   "execution_count": 200,
   "id": "1d594740",
   "metadata": {},
   "outputs": [
    {
     "name": "stdout",
     "output_type": "stream",
     "text": [
      "R$dzmg$gl$yvxlnv$z$Wzgz$Hxrvmgrhg.\n"
     ]
    }
   ],
   "source": [
    "print( encryption(\"I want to become a Data Scientist.\") )"
   ]
  },
  {
   "cell_type": "code",
   "execution_count": null,
   "id": "46437c1b",
   "metadata": {},
   "outputs": [],
   "source": []
  }
 ],
 "metadata": {
  "kernelspec": {
   "display_name": "Python 3 (ipykernel)",
   "language": "python",
   "name": "python3"
  },
  "language_info": {
   "codemirror_mode": {
    "name": "ipython",
    "version": 3
   },
   "file_extension": ".py",
   "mimetype": "text/x-python",
   "name": "python",
   "nbconvert_exporter": "python",
   "pygments_lexer": "ipython3",
   "version": "3.9.16"
  }
 },
 "nbformat": 4,
 "nbformat_minor": 5
}
