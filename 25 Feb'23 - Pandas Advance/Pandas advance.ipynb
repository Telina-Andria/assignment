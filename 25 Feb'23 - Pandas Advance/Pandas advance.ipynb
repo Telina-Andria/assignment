{
 "cells": [
  {
   "cell_type": "code",
   "execution_count": 1,
   "id": "58112108",
   "metadata": {},
   "outputs": [
    {
     "data": {
      "text/html": [
       "<div>\n",
       "<style scoped>\n",
       "    .dataframe tbody tr th:only-of-type {\n",
       "        vertical-align: middle;\n",
       "    }\n",
       "\n",
       "    .dataframe tbody tr th {\n",
       "        vertical-align: top;\n",
       "    }\n",
       "\n",
       "    .dataframe thead th {\n",
       "        text-align: right;\n",
       "    }\n",
       "</style>\n",
       "<table border=\"1\" class=\"dataframe\">\n",
       "  <thead>\n",
       "    <tr style=\"text-align: right;\">\n",
       "      <th></th>\n",
       "      <th>course_name</th>\n",
       "      <th>duration</th>\n",
       "    </tr>\n",
       "  </thead>\n",
       "  <tbody>\n",
       "    <tr>\n",
       "      <th>0</th>\n",
       "      <td>Data Science</td>\n",
       "      <td>2</td>\n",
       "    </tr>\n",
       "    <tr>\n",
       "      <th>1</th>\n",
       "      <td>Machine Learning</td>\n",
       "      <td>3</td>\n",
       "    </tr>\n",
       "    <tr>\n",
       "      <th>2</th>\n",
       "      <td>Big Data</td>\n",
       "      <td>6</td>\n",
       "    </tr>\n",
       "    <tr>\n",
       "      <th>3</th>\n",
       "      <td>Data Engineer</td>\n",
       "      <td>4</td>\n",
       "    </tr>\n",
       "  </tbody>\n",
       "</table>\n",
       "</div>"
      ],
      "text/plain": [
       "        course_name  duration\n",
       "0      Data Science         2\n",
       "1  Machine Learning         3\n",
       "2          Big Data         6\n",
       "3     Data Engineer         4"
      ]
     },
     "execution_count": 1,
     "metadata": {},
     "output_type": "execute_result"
    }
   ],
   "source": [
    "import pandas as pd\n",
    "\n",
    "course_name = [\"Data Science\", \"Machine Learning\", \"Big Data\", \"Data Engineer\"]\n",
    "\n",
    "duration =  [2,3,6,4]\n",
    "\n",
    "df = pd.DataFrame(data = {\"course_name\" : course_name, \"duration\" : duration})\n",
    "df"
   ]
  },
  {
   "cell_type": "markdown",
   "id": "86ccf391",
   "metadata": {},
   "source": [
    "## Q1. Write a code to print the data present in the second row of the dataframe, df.\n"
   ]
  },
  {
   "cell_type": "code",
   "execution_count": 2,
   "id": "0eccb556",
   "metadata": {},
   "outputs": [
    {
     "data": {
      "text/plain": [
       "course_name    Machine Learning\n",
       "duration                      3\n",
       "Name: 1, dtype: object"
      ]
     },
     "execution_count": 2,
     "metadata": {},
     "output_type": "execute_result"
    }
   ],
   "source": [
    "df.iloc[1]"
   ]
  },
  {
   "cell_type": "markdown",
   "id": "77cd1972",
   "metadata": {},
   "source": [
    "## Q2. What is the difference between the functions loc and iloc in pandas.DataFrame?\n"
   ]
  },
  {
   "cell_type": "markdown",
   "id": "4b969d56",
   "metadata": {},
   "source": [
    "The iloc method is used to access data by their index position, while the loc method is used to access data by their index label"
   ]
  },
  {
   "cell_type": "markdown",
   "id": "d80f429c",
   "metadata": {},
   "source": [
    "## Q3. Reindex the given dataframe using a variable, reindex = [3,0,1,2] and store it in the variable, new_df then find the output for both new_df.loc[2] and new_df.iloc[2].\n",
    "\n",
    "Did you observe any difference in both the outputs? If so then explain it.\n",
    "\n",
    "Consider the below code to answer further questions:\n",
    "import pandas as pd\n",
    "\n",
    "import numpy as np\n",
    "\n",
    "columns = ['column_1', 'column_2', 'column_3', 'column_4', 'column_5', 'column_6']\n",
    "\n",
    "indices = [1,2,3,4,5,6]\n",
    "\n",
    "#Creating a dataframe:\n",
    "\n",
    "df1 = pd.DataFrame(np.random.rand(6,6), columns = columns, index = indices)"
   ]
  },
  {
   "cell_type": "code",
   "execution_count": 3,
   "id": "3627d51f",
   "metadata": {},
   "outputs": [],
   "source": [
    "import numpy as np\n",
    "\n",
    "columns = ['column_1', 'column_2', 'column_3', 'column_4', 'column_5', 'column_6']\n",
    "\n",
    "indices = [1,2,3,4,5,6]\n",
    "\n",
    "#Creating a dataframe:\n",
    "\n",
    "df1 = pd.DataFrame(np.random.rand(6,6), columns = columns, index = indices)"
   ]
  },
  {
   "cell_type": "code",
   "execution_count": 4,
   "id": "3639995d",
   "metadata": {},
   "outputs": [
    {
     "data": {
      "text/html": [
       "<div>\n",
       "<style scoped>\n",
       "    .dataframe tbody tr th:only-of-type {\n",
       "        vertical-align: middle;\n",
       "    }\n",
       "\n",
       "    .dataframe tbody tr th {\n",
       "        vertical-align: top;\n",
       "    }\n",
       "\n",
       "    .dataframe thead th {\n",
       "        text-align: right;\n",
       "    }\n",
       "</style>\n",
       "<table border=\"1\" class=\"dataframe\">\n",
       "  <thead>\n",
       "    <tr style=\"text-align: right;\">\n",
       "      <th></th>\n",
       "      <th>column_1</th>\n",
       "      <th>column_2</th>\n",
       "      <th>column_3</th>\n",
       "      <th>column_4</th>\n",
       "      <th>column_5</th>\n",
       "      <th>column_6</th>\n",
       "    </tr>\n",
       "  </thead>\n",
       "  <tbody>\n",
       "    <tr>\n",
       "      <th>3</th>\n",
       "      <td>0.622509</td>\n",
       "      <td>0.730850</td>\n",
       "      <td>0.897537</td>\n",
       "      <td>0.725129</td>\n",
       "      <td>0.450030</td>\n",
       "      <td>0.535763</td>\n",
       "    </tr>\n",
       "    <tr>\n",
       "      <th>0</th>\n",
       "      <td>NaN</td>\n",
       "      <td>NaN</td>\n",
       "      <td>NaN</td>\n",
       "      <td>NaN</td>\n",
       "      <td>NaN</td>\n",
       "      <td>NaN</td>\n",
       "    </tr>\n",
       "    <tr>\n",
       "      <th>1</th>\n",
       "      <td>0.962530</td>\n",
       "      <td>0.509837</td>\n",
       "      <td>0.522298</td>\n",
       "      <td>0.561263</td>\n",
       "      <td>0.513398</td>\n",
       "      <td>0.248945</td>\n",
       "    </tr>\n",
       "    <tr>\n",
       "      <th>2</th>\n",
       "      <td>0.406367</td>\n",
       "      <td>0.562927</td>\n",
       "      <td>0.625506</td>\n",
       "      <td>0.464491</td>\n",
       "      <td>0.164801</td>\n",
       "      <td>0.550263</td>\n",
       "    </tr>\n",
       "  </tbody>\n",
       "</table>\n",
       "</div>"
      ],
      "text/plain": [
       "   column_1  column_2  column_3  column_4  column_5  column_6\n",
       "3  0.622509  0.730850  0.897537  0.725129  0.450030  0.535763\n",
       "0       NaN       NaN       NaN       NaN       NaN       NaN\n",
       "1  0.962530  0.509837  0.522298  0.561263  0.513398  0.248945\n",
       "2  0.406367  0.562927  0.625506  0.464491  0.164801  0.550263"
      ]
     },
     "execution_count": 4,
     "metadata": {},
     "output_type": "execute_result"
    }
   ],
   "source": [
    "new_df = df1.reindex( [3,0,1,2] )\n",
    "new_df"
   ]
  },
  {
   "cell_type": "code",
   "execution_count": 5,
   "id": "61823262",
   "metadata": {},
   "outputs": [
    {
     "data": {
      "text/plain": [
       "column_1    0.406367\n",
       "column_2    0.562927\n",
       "column_3    0.625506\n",
       "column_4    0.464491\n",
       "column_5    0.164801\n",
       "column_6    0.550263\n",
       "Name: 2, dtype: float64"
      ]
     },
     "execution_count": 5,
     "metadata": {},
     "output_type": "execute_result"
    }
   ],
   "source": [
    "new_df.loc[2]"
   ]
  },
  {
   "cell_type": "code",
   "execution_count": 6,
   "id": "18baa180",
   "metadata": {},
   "outputs": [
    {
     "data": {
      "text/plain": [
       "column_1    0.962530\n",
       "column_2    0.509837\n",
       "column_3    0.522298\n",
       "column_4    0.561263\n",
       "column_5    0.513398\n",
       "column_6    0.248945\n",
       "Name: 1, dtype: float64"
      ]
     },
     "execution_count": 6,
     "metadata": {},
     "output_type": "execute_result"
    }
   ],
   "source": [
    "new_df.iloc[2]"
   ]
  },
  {
   "cell_type": "markdown",
   "id": "8e01825c",
   "metadata": {},
   "source": [
    "## Q4. Write a code to find the following statistical measurements for the above dataframe df1:\n",
    "\n",
    "(i) \tmean of each and every column present in the dataframe.\n",
    "\n",
    "(ii) standard deviation of column, ‘column_2’\n",
    "\n"
   ]
  },
  {
   "cell_type": "code",
   "execution_count": 7,
   "id": "651a72c2",
   "metadata": {},
   "outputs": [
    {
     "data": {
      "text/html": [
       "<div>\n",
       "<style scoped>\n",
       "    .dataframe tbody tr th:only-of-type {\n",
       "        vertical-align: middle;\n",
       "    }\n",
       "\n",
       "    .dataframe tbody tr th {\n",
       "        vertical-align: top;\n",
       "    }\n",
       "\n",
       "    .dataframe thead th {\n",
       "        text-align: right;\n",
       "    }\n",
       "</style>\n",
       "<table border=\"1\" class=\"dataframe\">\n",
       "  <thead>\n",
       "    <tr style=\"text-align: right;\">\n",
       "      <th></th>\n",
       "      <th>column_1</th>\n",
       "      <th>column_2</th>\n",
       "      <th>column_3</th>\n",
       "      <th>column_4</th>\n",
       "      <th>column_5</th>\n",
       "      <th>column_6</th>\n",
       "    </tr>\n",
       "  </thead>\n",
       "  <tbody>\n",
       "    <tr>\n",
       "      <th>1</th>\n",
       "      <td>0.962530</td>\n",
       "      <td>0.509837</td>\n",
       "      <td>0.522298</td>\n",
       "      <td>0.561263</td>\n",
       "      <td>0.513398</td>\n",
       "      <td>0.248945</td>\n",
       "    </tr>\n",
       "    <tr>\n",
       "      <th>2</th>\n",
       "      <td>0.406367</td>\n",
       "      <td>0.562927</td>\n",
       "      <td>0.625506</td>\n",
       "      <td>0.464491</td>\n",
       "      <td>0.164801</td>\n",
       "      <td>0.550263</td>\n",
       "    </tr>\n",
       "    <tr>\n",
       "      <th>3</th>\n",
       "      <td>0.622509</td>\n",
       "      <td>0.730850</td>\n",
       "      <td>0.897537</td>\n",
       "      <td>0.725129</td>\n",
       "      <td>0.450030</td>\n",
       "      <td>0.535763</td>\n",
       "    </tr>\n",
       "    <tr>\n",
       "      <th>4</th>\n",
       "      <td>0.000941</td>\n",
       "      <td>0.927363</td>\n",
       "      <td>0.493558</td>\n",
       "      <td>0.351068</td>\n",
       "      <td>0.545333</td>\n",
       "      <td>0.567125</td>\n",
       "    </tr>\n",
       "    <tr>\n",
       "      <th>5</th>\n",
       "      <td>0.341808</td>\n",
       "      <td>0.969557</td>\n",
       "      <td>0.053139</td>\n",
       "      <td>0.666461</td>\n",
       "      <td>0.343866</td>\n",
       "      <td>0.394093</td>\n",
       "    </tr>\n",
       "    <tr>\n",
       "      <th>6</th>\n",
       "      <td>0.485194</td>\n",
       "      <td>0.288558</td>\n",
       "      <td>0.263965</td>\n",
       "      <td>0.533274</td>\n",
       "      <td>0.308093</td>\n",
       "      <td>0.063058</td>\n",
       "    </tr>\n",
       "  </tbody>\n",
       "</table>\n",
       "</div>"
      ],
      "text/plain": [
       "   column_1  column_2  column_3  column_4  column_5  column_6\n",
       "1  0.962530  0.509837  0.522298  0.561263  0.513398  0.248945\n",
       "2  0.406367  0.562927  0.625506  0.464491  0.164801  0.550263\n",
       "3  0.622509  0.730850  0.897537  0.725129  0.450030  0.535763\n",
       "4  0.000941  0.927363  0.493558  0.351068  0.545333  0.567125\n",
       "5  0.341808  0.969557  0.053139  0.666461  0.343866  0.394093\n",
       "6  0.485194  0.288558  0.263965  0.533274  0.308093  0.063058"
      ]
     },
     "execution_count": 7,
     "metadata": {},
     "output_type": "execute_result"
    }
   ],
   "source": [
    "df1"
   ]
  },
  {
   "cell_type": "markdown",
   "id": "8c974b67",
   "metadata": {},
   "source": [
    "First method"
   ]
  },
  {
   "cell_type": "code",
   "execution_count": 8,
   "id": "9a7bb571",
   "metadata": {},
   "outputs": [
    {
     "name": "stdout",
     "output_type": "stream",
     "text": [
      "mean of each columns\n",
      "column_1 : 0.46989132823965923\n",
      "column_2 : 0.6648486821548198\n",
      "column_3 : 0.4760004929396417\n",
      "column_4 : 0.5502810960733671\n",
      "column_5 : 0.3875868643580951\n",
      "column_6 : 0.39320772088580935\n"
     ]
    }
   ],
   "source": [
    "print(\"mean of each columns\")\n",
    "for i in df1.columns:\n",
    "    print(i ,\":\",df1[i].mean() )"
   ]
  },
  {
   "cell_type": "markdown",
   "id": "fe872f65",
   "metadata": {},
   "source": [
    "Second method"
   ]
  },
  {
   "cell_type": "code",
   "execution_count": 9,
   "id": "e5c81a29",
   "metadata": {},
   "outputs": [
    {
     "data": {
      "text/plain": [
       "column_1    0.469891\n",
       "column_2    0.664849\n",
       "column_3    0.476000\n",
       "column_4    0.550281\n",
       "column_5    0.387587\n",
       "column_6    0.393208\n",
       "Name: mean, dtype: float64"
      ]
     },
     "execution_count": 9,
     "metadata": {},
     "output_type": "execute_result"
    }
   ],
   "source": [
    "df1.describe().T[\"mean\"]"
   ]
  },
  {
   "cell_type": "code",
   "execution_count": 10,
   "id": "2347fb13",
   "metadata": {},
   "outputs": [
    {
     "name": "stdout",
     "output_type": "stream",
     "text": [
      "standard deviation of column_2: 0.26158311228250786\n"
     ]
    }
   ],
   "source": [
    "print( \"standard deviation of column_2:\", df1[\"column_2\"].std() )"
   ]
  },
  {
   "cell_type": "markdown",
   "id": "7ca0e456",
   "metadata": {},
   "source": [
    "## Q5. Replace the data present in the second row of column, ‘column_2’ by a string variable then find the mean of column, column_2.\n",
    "\n",
    "If you are getting errors in executing it then explain why.\n",
    "\n",
    "[Hint: To replace the data use df1.loc[] and equate this to string data of your choice.]\n",
    "\n"
   ]
  },
  {
   "cell_type": "code",
   "execution_count": 11,
   "id": "3950c6d9",
   "metadata": {},
   "outputs": [
    {
     "data": {
      "text/html": [
       "<div>\n",
       "<style scoped>\n",
       "    .dataframe tbody tr th:only-of-type {\n",
       "        vertical-align: middle;\n",
       "    }\n",
       "\n",
       "    .dataframe tbody tr th {\n",
       "        vertical-align: top;\n",
       "    }\n",
       "\n",
       "    .dataframe thead th {\n",
       "        text-align: right;\n",
       "    }\n",
       "</style>\n",
       "<table border=\"1\" class=\"dataframe\">\n",
       "  <thead>\n",
       "    <tr style=\"text-align: right;\">\n",
       "      <th></th>\n",
       "      <th>column_1</th>\n",
       "      <th>column_2</th>\n",
       "      <th>column_3</th>\n",
       "      <th>column_4</th>\n",
       "      <th>column_5</th>\n",
       "      <th>column_6</th>\n",
       "    </tr>\n",
       "  </thead>\n",
       "  <tbody>\n",
       "    <tr>\n",
       "      <th>1</th>\n",
       "      <td>0.962530</td>\n",
       "      <td>0.509837</td>\n",
       "      <td>0.522298</td>\n",
       "      <td>0.561263</td>\n",
       "      <td>0.513398</td>\n",
       "      <td>0.248945</td>\n",
       "    </tr>\n",
       "    <tr>\n",
       "      <th>2</th>\n",
       "      <td>0.406367</td>\n",
       "      <td>0.562927</td>\n",
       "      <td>0.625506</td>\n",
       "      <td>0.464491</td>\n",
       "      <td>0.164801</td>\n",
       "      <td>0.550263</td>\n",
       "    </tr>\n",
       "    <tr>\n",
       "      <th>3</th>\n",
       "      <td>0.622509</td>\n",
       "      <td>0.730850</td>\n",
       "      <td>0.897537</td>\n",
       "      <td>0.725129</td>\n",
       "      <td>0.450030</td>\n",
       "      <td>0.535763</td>\n",
       "    </tr>\n",
       "    <tr>\n",
       "      <th>4</th>\n",
       "      <td>0.000941</td>\n",
       "      <td>0.927363</td>\n",
       "      <td>0.493558</td>\n",
       "      <td>0.351068</td>\n",
       "      <td>0.545333</td>\n",
       "      <td>0.567125</td>\n",
       "    </tr>\n",
       "    <tr>\n",
       "      <th>5</th>\n",
       "      <td>0.341808</td>\n",
       "      <td>0.969557</td>\n",
       "      <td>0.053139</td>\n",
       "      <td>0.666461</td>\n",
       "      <td>0.343866</td>\n",
       "      <td>0.394093</td>\n",
       "    </tr>\n",
       "    <tr>\n",
       "      <th>6</th>\n",
       "      <td>0.485194</td>\n",
       "      <td>0.288558</td>\n",
       "      <td>0.263965</td>\n",
       "      <td>0.533274</td>\n",
       "      <td>0.308093</td>\n",
       "      <td>0.063058</td>\n",
       "    </tr>\n",
       "  </tbody>\n",
       "</table>\n",
       "</div>"
      ],
      "text/plain": [
       "   column_1  column_2  column_3  column_4  column_5  column_6\n",
       "1  0.962530  0.509837  0.522298  0.561263  0.513398  0.248945\n",
       "2  0.406367  0.562927  0.625506  0.464491  0.164801  0.550263\n",
       "3  0.622509  0.730850  0.897537  0.725129  0.450030  0.535763\n",
       "4  0.000941  0.927363  0.493558  0.351068  0.545333  0.567125\n",
       "5  0.341808  0.969557  0.053139  0.666461  0.343866  0.394093\n",
       "6  0.485194  0.288558  0.263965  0.533274  0.308093  0.063058"
      ]
     },
     "execution_count": 11,
     "metadata": {},
     "output_type": "execute_result"
    }
   ],
   "source": [
    "df1"
   ]
  },
  {
   "cell_type": "code",
   "execution_count": 12,
   "id": "931b58d0",
   "metadata": {},
   "outputs": [
    {
     "data": {
      "text/html": [
       "<div>\n",
       "<style scoped>\n",
       "    .dataframe tbody tr th:only-of-type {\n",
       "        vertical-align: middle;\n",
       "    }\n",
       "\n",
       "    .dataframe tbody tr th {\n",
       "        vertical-align: top;\n",
       "    }\n",
       "\n",
       "    .dataframe thead th {\n",
       "        text-align: right;\n",
       "    }\n",
       "</style>\n",
       "<table border=\"1\" class=\"dataframe\">\n",
       "  <thead>\n",
       "    <tr style=\"text-align: right;\">\n",
       "      <th></th>\n",
       "      <th>column_1</th>\n",
       "      <th>column_2</th>\n",
       "      <th>column_3</th>\n",
       "      <th>column_4</th>\n",
       "      <th>column_5</th>\n",
       "      <th>column_6</th>\n",
       "    </tr>\n",
       "  </thead>\n",
       "  <tbody>\n",
       "    <tr>\n",
       "      <th>1</th>\n",
       "      <td>0.962530</td>\n",
       "      <td>0.509837</td>\n",
       "      <td>0.522298</td>\n",
       "      <td>0.561263</td>\n",
       "      <td>0.513398</td>\n",
       "      <td>0.248945</td>\n",
       "    </tr>\n",
       "    <tr>\n",
       "      <th>2</th>\n",
       "      <td>0.406367</td>\n",
       "      <td>hello</td>\n",
       "      <td>0.625506</td>\n",
       "      <td>0.464491</td>\n",
       "      <td>0.164801</td>\n",
       "      <td>0.550263</td>\n",
       "    </tr>\n",
       "    <tr>\n",
       "      <th>3</th>\n",
       "      <td>0.622509</td>\n",
       "      <td>0.73085</td>\n",
       "      <td>0.897537</td>\n",
       "      <td>0.725129</td>\n",
       "      <td>0.450030</td>\n",
       "      <td>0.535763</td>\n",
       "    </tr>\n",
       "    <tr>\n",
       "      <th>4</th>\n",
       "      <td>0.000941</td>\n",
       "      <td>0.927363</td>\n",
       "      <td>0.493558</td>\n",
       "      <td>0.351068</td>\n",
       "      <td>0.545333</td>\n",
       "      <td>0.567125</td>\n",
       "    </tr>\n",
       "    <tr>\n",
       "      <th>5</th>\n",
       "      <td>0.341808</td>\n",
       "      <td>0.969557</td>\n",
       "      <td>0.053139</td>\n",
       "      <td>0.666461</td>\n",
       "      <td>0.343866</td>\n",
       "      <td>0.394093</td>\n",
       "    </tr>\n",
       "    <tr>\n",
       "      <th>6</th>\n",
       "      <td>0.485194</td>\n",
       "      <td>0.288558</td>\n",
       "      <td>0.263965</td>\n",
       "      <td>0.533274</td>\n",
       "      <td>0.308093</td>\n",
       "      <td>0.063058</td>\n",
       "    </tr>\n",
       "  </tbody>\n",
       "</table>\n",
       "</div>"
      ],
      "text/plain": [
       "   column_1  column_2  column_3  column_4  column_5  column_6\n",
       "1  0.962530  0.509837  0.522298  0.561263  0.513398  0.248945\n",
       "2  0.406367     hello  0.625506  0.464491  0.164801  0.550263\n",
       "3  0.622509   0.73085  0.897537  0.725129  0.450030  0.535763\n",
       "4  0.000941  0.927363  0.493558  0.351068  0.545333  0.567125\n",
       "5  0.341808  0.969557  0.053139  0.666461  0.343866  0.394093\n",
       "6  0.485194  0.288558  0.263965  0.533274  0.308093  0.063058"
      ]
     },
     "execution_count": 12,
     "metadata": {},
     "output_type": "execute_result"
    }
   ],
   "source": [
    "df1.loc[2, \"column_2\"] = \"hello\"\n",
    "df1"
   ]
  },
  {
   "cell_type": "code",
   "execution_count": 13,
   "id": "0032acce",
   "metadata": {},
   "outputs": [
    {
     "name": "stdout",
     "output_type": "stream",
     "text": [
      "unsupported operand type(s) for +: 'float' and 'str'\n"
     ]
    }
   ],
   "source": [
    "try:\n",
    "    print(df1[\"column_2\"].mean())\n",
    "except Exception as e:\n",
    "    print(e)"
   ]
  },
  {
   "cell_type": "markdown",
   "id": "eb8e10e1",
   "metadata": {},
   "source": [
    "There is an error because we are trying to do calculation between string and numeric datatype."
   ]
  },
  {
   "cell_type": "markdown",
   "id": "a80e277b",
   "metadata": {},
   "source": [
    "## Q6. What do you understand about the windows function in pandas and list the types of windows functions?\n",
    "\n"
   ]
  },
  {
   "cell_type": "markdown",
   "id": "4d9acc64",
   "metadata": {},
   "source": [
    "The rolling function in Pandas is used to create a rolling window object that can be used to perform calculations on a sliding window of data. The types of window functions available in Pandas include mean, sum, std, var, min, max, and apply."
   ]
  },
  {
   "cell_type": "markdown",
   "id": "9a60024c",
   "metadata": {},
   "source": [
    "## Q7. Write a code to print only the current month and year at the time of answering this question.\n",
    "\n",
    "[Hint: Use pandas.datetime function]\n",
    "\n"
   ]
  },
  {
   "cell_type": "code",
   "execution_count": 14,
   "id": "8987d89c",
   "metadata": {},
   "outputs": [],
   "source": [
    "import datetime"
   ]
  },
  {
   "cell_type": "code",
   "execution_count": 15,
   "id": "78505f46",
   "metadata": {},
   "outputs": [],
   "source": [
    "today = datetime.datetime.now()"
   ]
  },
  {
   "cell_type": "code",
   "execution_count": 16,
   "id": "cdf6adf2",
   "metadata": {},
   "outputs": [
    {
     "name": "stdout",
     "output_type": "stream",
     "text": [
      "Current date: 2023 - 7\n"
     ]
    }
   ],
   "source": [
    "print( \"Current date:\", today.year,\"-\",today.month )"
   ]
  },
  {
   "cell_type": "markdown",
   "id": "e867b5eb",
   "metadata": {},
   "source": [
    "## Q8. Write a Python program that takes in two dates as input (in the format YYYY-MM-DD) and calculates the difference between them in days, hours, and minutes using Pandas time delta. The program should prompt the user to enter the dates and display the result."
   ]
  },
  {
   "cell_type": "code",
   "execution_count": 17,
   "id": "92ec2575",
   "metadata": {},
   "outputs": [
    {
     "name": "stdout",
     "output_type": "stream",
     "text": [
      "Format should YYYY-MM-DD[-HH-MM-SS]\n",
      "Enter date 1 :2023-01-12 12:25\n",
      "Enter date 2 :2023-01-15 14:00\n",
      "Differrence is 3 days 01:35:00\n"
     ]
    }
   ],
   "source": [
    "try:\n",
    "    print(\"Format should YYYY-MM-DD[-HH-MM-SS]\")\n",
    "    date1 = pd.to_datetime(input(\"Enter date 1 :\"))\n",
    "    date2 = pd.to_datetime(input(\"Enter date 2 :\"))\n",
    "    date3 = date2 - date1\n",
    "    print(\"Differrence is\",date3)\n",
    "except ValueError as e:\n",
    "    print(e)\n",
    "\n"
   ]
  },
  {
   "cell_type": "markdown",
   "id": "7ce5fd2d",
   "metadata": {},
   "source": [
    "## Q9. Write a Python program that reads a CSV file containing categorical data and converts a specified column to a categorical data type. The program should prompt the user to enter the file path, column name, and category order, and then display the sorted data."
   ]
  },
  {
   "cell_type": "code",
   "execution_count": 18,
   "id": "06f8acb8",
   "metadata": {},
   "outputs": [],
   "source": [
    "df2 = pd.read_csv(\"https://raw.githubusercontent.com/pycaret/pycaret/master/datasets/diamond.csv\")"
   ]
  },
  {
   "cell_type": "code",
   "execution_count": 19,
   "id": "276d9ee9",
   "metadata": {},
   "outputs": [
    {
     "data": {
      "text/plain": [
       "array(['Ideal', 'Very Good', 'Fair', 'Good', 'Signature-Ideal'],\n",
       "      dtype=object)"
      ]
     },
     "execution_count": 19,
     "metadata": {},
     "output_type": "execute_result"
    }
   ],
   "source": [
    "df2[\"Cut\"].unique()"
   ]
  },
  {
   "cell_type": "markdown",
   "id": "257d3dc6",
   "metadata": {},
   "source": [
    "### Answer"
   ]
  },
  {
   "cell_type": "code",
   "execution_count": 20,
   "id": "adfaa3ae",
   "metadata": {},
   "outputs": [
    {
     "name": "stdout",
     "output_type": "stream",
     "text": [
      "Enter path to your dataset: https://raw.githubusercontent.com/pycaret/pycaret/master/datasets/diamond.csv\n",
      "Enter column name that contain categorical data: Cut\n",
      "Here are unique value in Cut ['Ideal' 'Very Good' 'Fair' 'Good' 'Signature-Ideal']\n",
      "Enter order in this categorical data: \n",
      "order0: Ideal\n",
      "order1: Very Good\n",
      "order2: Fair\n",
      "order3: Good\n",
      "order4: Signature-Ideal\n",
      "Here is the sorted data according to the order\n",
      "\n",
      "      Carat Weight              Cut Color Clarity Polish Symmetry Report  \\\n",
      "0             1.10            Ideal     H     SI1     VG       EX    GIA   \n",
      "3145          1.03            Ideal     D     VS1     EX       EX    GIA   \n",
      "3149          1.03            Ideal     D     SI1     ID       ID   AGSL   \n",
      "3151          1.20            Ideal     G     SI1     EX       EX    GIA   \n",
      "3153          0.78            Ideal     D     VS2     EX       EX    GIA   \n",
      "...            ...              ...   ...     ...    ...      ...    ...   \n",
      "306           1.50  Signature-Ideal     G    VVS2     ID       ID   AGSL   \n",
      "792           1.63  Signature-Ideal     H     SI1     ID       ID   AGSL   \n",
      "5283          2.05  Signature-Ideal     D    VVS2     ID       ID   AGSL   \n",
      "2361          1.28  Signature-Ideal     D     SI1     ID       ID   AGSL   \n",
      "1758          1.13  Signature-Ideal     H     VS2     EX       EX    GIA   \n",
      "\n",
      "      Price  \n",
      "0      5169  \n",
      "3145   8612  \n",
      "3149   6460  \n",
      "3151   7372  \n",
      "3153   4183  \n",
      "...     ...  \n",
      "306   17176  \n",
      "792   12910  \n",
      "5283  53956  \n",
      "2361  10598  \n",
      "1758   7464  \n",
      "\n",
      "[6000 rows x 8 columns]\n"
     ]
    }
   ],
   "source": [
    "try:\n",
    "    path = input( \"Enter path to your dataset: \" )\n",
    "    cat_column = input( \"Enter column name that contain categorical data: \" )\n",
    "    order = []\n",
    "    df = pd.read_csv(path)\n",
    "    print(f\"Here are unique value in {cat_column}\",df[cat_column].unique() )\n",
    "    print(\"Enter order in this categorical data: \")\n",
    "    for i in range(len(df[cat_column].unique())):\n",
    "        order.append( input(f\"order{i}: \"))\n",
    "    print(\"Here is the sorted data according to the order\\n\")\n",
    "    \n",
    "    df[cat_column] = pd.Categorical(df[cat_column], categories = order, ordered = True )\n",
    "    print( df.sort_values(cat_column ) )\n",
    "                     \n",
    "except ImportError as i:\n",
    "    print(\"Path cannot be found\")\n",
    "except Exception as e:\n",
    "    print(e)"
   ]
  },
  {
   "cell_type": "markdown",
   "id": "c12e2184",
   "metadata": {},
   "source": [
    "## Q10. Write a Python program that reads a CSV file containing sales data for different products and visualizes the data using a stacked bar chart to show the sales of each product category over time. The program should prompt the user to enter the file path and display the chart"
   ]
  },
  {
   "cell_type": "code",
   "execution_count": 21,
   "id": "4e577fd6",
   "metadata": {},
   "outputs": [
    {
     "name": "stdout",
     "output_type": "stream",
     "text": [
      "Enter path to your csv file: 100 Sales Records.csv\n"
     ]
    },
    {
     "data": {
      "image/png": "[encoded data removed]",
      "text/plain": [
       "<Figure size 640x480 with 1 Axes>"
      ]
     },
     "metadata": {},
     "output_type": "display_data"
    }
   ],
   "source": [
    "try:\n",
    "    path = input(\"Enter path to your csv file: \")\n",
    "    df = pd.read_csv(path)\n",
    "    df.groupby(\"Item Type\")[\"Units Sold\"].sum().plot(kind= \"bar\" ,rot = 45, ylabel = \"Unit sold\" ,title =\" sales of each product category over time\")\n",
    "except Exception as e:\n",
    "    print(e)"
   ]
  },
  {
   "cell_type": "markdown",
   "id": "db15423f",
   "metadata": {},
   "source": [
    "## Q11. You are given a CSV file containing student data that includes the student ID and their test score. Write a Python program that reads the CSV file , calculates the mean, median, and mode of the test scores , and display the results in a table. \n",
    "\n",
    "The program should do the following :\n",
    ". prompt the user to enter the file path of the csv file containing the student dat\n",
    ". read the csv file into a pandas dataframe\n",
    ". calculate the mean , median and mode of the test scores using pandas tools\n",
    ". display mean, median, and mode in a table."
   ]
  },
  {
   "cell_type": "code",
   "execution_count": 22,
   "id": "d3fad77a",
   "metadata": {},
   "outputs": [
    {
     "name": "stdout",
     "output_type": "stream",
     "text": [
      "Enter path of the csv file: student_scores.csv\n",
      "+--------------+----------------+\n",
      "| Statistic     |Value           |\n",
      "---------------------------------\n",
      "|Mean          | 51.48           |\n",
      "|Median        | 47.0            |\n",
      "|Mode          | 0    30\n",
      "Name: Scores, dtype: int64                 |\n",
      "+----------------+--------------  +\n"
     ]
    }
   ],
   "source": [
    "try:\n",
    "    path = input(\"Enter path of the csv file: \")\n",
    "    df = pd.read_csv(path)\n",
    "    mean = df[\"Scores\"].mean()\n",
    "    median = df[\"Scores\"].median()\n",
    "    mode = df[\"Scores\"].mode()\n",
    "\n",
    "    print(\"+--------------+----------------+\")\n",
    "    print(\"| Statistic     |Value           |\")\n",
    "    print(\"---------------------------------\")\n",
    "    print(f\"|Mean          | {mean}           |\")\n",
    "    print(f\"|Median        | {median}            |\")\n",
    "    print(f\"|Mode          | {mode}                 |\")\n",
    "    print(\"+----------------+--------------  +\")\n",
    "\n",
    "except FileNotFoundError as f:\n",
    "    print(f)"
   ]
  }
 ],
 "metadata": {
  "kernelspec": {
   "display_name": "Python 3 (ipykernel)",
   "language": "python",
   "name": "python3"
  },
  "language_info": {
   "codemirror_mode": {
    "name": "ipython",
    "version": 3
   },
   "file_extension": ".py",
   "mimetype": "text/x-python",
   "name": "python",
   "nbconvert_exporter": "python",
   "pygments_lexer": "ipython3",
   "version": "3.9.16"
  }
 },
 "nbformat": 4,
 "nbformat_minor": 5
}
