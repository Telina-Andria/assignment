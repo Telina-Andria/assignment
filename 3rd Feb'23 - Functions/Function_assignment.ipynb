{
 "cells": [
  {
   "cell_type": "markdown",
   "id": "e8879c29-ccdf-416e-8755-bcf745ca1703",
   "metadata": {},
   "source": [
    "## Q1. Which keyword is used to create a function? Create a function to return a list of odd numbers in the range of 1 to 25"
   ]
  },
  {
   "cell_type": "markdown",
   "id": "7f89f368-10f5-431f-9a0f-5ab199005f61",
   "metadata": {},
   "source": [
    "def keyword is used to create a function."
   ]
  },
  {
   "cell_type": "code",
   "execution_count": null,
   "id": "9d1e6054-a0ec-48b3-bf38-1c8d43c7c402",
   "metadata": {},
   "outputs": [],
   "source": [
    "def oddNumber():\n",
    "    \"\"\"This function return a list of odd numbers in the range of 1 to 25\"\"\"\n",
    "    \n",
    "    l=[]\n",
    "    for i in range(1,25):\n",
    "        if i%2 == 1:\n",
    "            l.append(i)\n",
    "    return l\n",
    "            "
   ]
  },
  {
   "cell_type": "markdown",
   "id": "55ee78a3-9388-41c6-8657-a4bda0545707",
   "metadata": {},
   "source": [
    "## Q2. Why *args and **kwargs is used in some functions? Create a function each for *args and **kwargs to demonstrate their use."
   ]
  },
  {
   "cell_type": "markdown",
   "id": "96ad6cf2-6152-472f-9a5e-cc2197f3427d",
   "metadata": {},
   "source": [
    "*args and **kwargs are used to pass a variable number of arguments to a function. The *args parameter allows a function to accept a variable number of positional arguments and **kwargs parameter allows a function to accept a variable number of keyword arguments (key-value pairs). With *args the arguments are collected into a tuple."
   ]
  },
  {
   "cell_type": "code",
   "execution_count": 2,
   "id": "abdfb85a-f335-4a15-954b-b691182c37d5",
   "metadata": {},
   "outputs": [
    {
     "name": "stdout",
     "output_type": "stream",
     "text": [
      "10\n"
     ]
    }
   ],
   "source": [
    "def sum_numbers(*args):\n",
    "    total = sum(args)\n",
    "    return total\n",
    "print(sum_numbers(1,2,3,4))"
   ]
  },
  {
   "cell_type": "code",
   "execution_count": 2,
   "id": "087224bb-db44-42e2-a556-addf855f6631",
   "metadata": {},
   "outputs": [
    {
     "name": "stdout",
     "output_type": "stream",
     "text": [
      "name : Messi\n",
      "age : 35\n",
      "city : miami\n"
     ]
    }
   ],
   "source": [
    "def func1(**kwargs):\n",
    "    for key,value in kwargs.items():\n",
    "        print(str(key) +\" : \"+ str(value))\n",
    "\n",
    "func1(name=\"Messi\" , age=35 , city=\"miami\") "
   ]
  },
  {
   "cell_type": "markdown",
   "id": "d5bd9a23",
   "metadata": {},
   "source": [
    "## Q3. What is an iterator in python? Name the method used to initialise the iterator object and the method used for iteration. Use these methods to print the first five elements of the given list [2, 4, 6, 8, 10, 12, 14, 16,18, 20]."
   ]
  },
  {
   "cell_type": "markdown",
   "id": "e7be89f5",
   "metadata": {},
   "source": [
    "In Python, an iterator is an *object that implements the iterator protocol*, which consists of two methods: __iter__() and __next__().\n",
    "\n",
    "__iter__(): This method is used to initialize an iterator object. It is called when an iterator is created or reset. It should return the iterator object itself.\n",
    "\n",
    "__next__(): This method is used for iteration. It returns the next element from the iterator. If there are no more elements, it raises the StopIteration exception."
   ]
  },
  {
   "cell_type": "code",
   "execution_count": 13,
   "id": "0540f376",
   "metadata": {},
   "outputs": [
    {
     "name": "stdout",
     "output_type": "stream",
     "text": [
      "2\n",
      "4\n",
      "6\n",
      "8\n",
      "10\n"
     ]
    }
   ],
   "source": [
    "l =  [2, 4, 6, 8, 10, 12, 14, 16,18, 20]\n",
    "iteratorL = iter(l)\n",
    "def print_5_elements(l):\n",
    "    for i in range(5):\n",
    "        print(next(iteratorL))\n",
    "print_5_elements(l)"
   ]
  },
  {
   "cell_type": "markdown",
   "id": "979999c6",
   "metadata": {},
   "source": [
    "## Q4. What is a generator function in python? Why yield keyword is used? Give an example of a generator function."
   ]
  },
  {
   "cell_type": "markdown",
   "id": "00d84c4d",
   "metadata": {},
   "source": [
    "Generator is a function that returns an iterator. It uses \"yield\" keyword to define the sequence of value to be generated. It allow you to generate a series of values on-the-fly,saving memory and improving performance."
   ]
  },
  {
   "cell_type": "code",
   "execution_count": 15,
   "id": "8fcacdd9",
   "metadata": {},
   "outputs": [],
   "source": [
    "def even_number():\n",
    "    \"\"\"This is a generator function that return an iterator object of even number in the range of 1 to 1000000\"\"\"\n",
    "    for i in range(1,20):\n",
    "        if i%2 == 0 :\n",
    "            yield i"
   ]
  },
  {
   "cell_type": "code",
   "execution_count": 17,
   "id": "af3a2098",
   "metadata": {},
   "outputs": [
    {
     "data": {
      "text/plain": [
       "<generator object even_number at 0x000002F9FB0DFDD0>"
      ]
     },
     "execution_count": 17,
     "metadata": {},
     "output_type": "execute_result"
    }
   ],
   "source": [
    "even_number()"
   ]
  },
  {
   "cell_type": "code",
   "execution_count": 16,
   "id": "5e421f20",
   "metadata": {},
   "outputs": [
    {
     "name": "stdout",
     "output_type": "stream",
     "text": [
      "2\n",
      "4\n",
      "6\n",
      "8\n",
      "10\n",
      "12\n",
      "14\n",
      "16\n",
      "18\n"
     ]
    }
   ],
   "source": [
    "for i in even_number():\n",
    "    print(i)"
   ]
  },
  {
   "cell_type": "markdown",
   "id": "6a7a8440",
   "metadata": {},
   "source": [
    "## Q5. Create a generator function for prime numbers less than 1000. Use the next() method to print the first 20 prime numbers."
   ]
  },
  {
   "cell_type": "code",
   "execution_count": 14,
   "id": "1153ef4c",
   "metadata": {},
   "outputs": [],
   "source": [
    "def prime_number():\n",
    "    \"\"\"This function generate prime number that are less than 1000\"\"\"\n",
    "    for i in range(2,1000):\n",
    "        for j in range(2,i):\n",
    "            if i%j == 0:\n",
    "                break\n",
    "        else:\n",
    "            yield i"
   ]
  },
  {
   "cell_type": "code",
   "execution_count": 17,
   "id": "2b08b40a",
   "metadata": {},
   "outputs": [
    {
     "name": "stdout",
     "output_type": "stream",
     "text": [
      "2\n",
      "3\n",
      "5\n",
      "7\n",
      "11\n",
      "13\n",
      "17\n",
      "19\n",
      "23\n",
      "29\n",
      "31\n",
      "37\n",
      "41\n",
      "43\n",
      "47\n",
      "53\n",
      "59\n",
      "61\n",
      "67\n",
      "71\n"
     ]
    }
   ],
   "source": [
    "it = prime_number()\n",
    "for i in range(20):\n",
    "    print(next(it))"
   ]
  },
  {
   "cell_type": "code",
   "execution_count": null,
   "id": "fc1d16ba",
   "metadata": {},
   "outputs": [],
   "source": []
  },
  {
   "cell_type": "code",
   "execution_count": null,
   "id": "36b007d3",
   "metadata": {},
   "outputs": [],
   "source": []
  },
  {
   "cell_type": "code",
   "execution_count": null,
   "id": "9a1d1157",
   "metadata": {},
   "outputs": [],
   "source": []
  },
  {
   "cell_type": "code",
   "execution_count": null,
   "id": "63e8d32f",
   "metadata": {},
   "outputs": [],
   "source": []
  }
 ],
 "metadata": {
  "kernelspec": {
   "display_name": "Python 3 (ipykernel)",
   "language": "python",
   "name": "python3"
  },
  "language_info": {
   "codemirror_mode": {
    "name": "ipython",
    "version": 3
   },
   "file_extension": ".py",
   "mimetype": "text/x-python",
   "name": "python",
   "nbconvert_exporter": "python",
   "pygments_lexer": "ipython3",
   "version": "3.9.16"
  }
 },
 "nbformat": 4,
 "nbformat_minor": 5
}
