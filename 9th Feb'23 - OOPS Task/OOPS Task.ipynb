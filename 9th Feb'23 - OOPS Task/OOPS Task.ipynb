{
 "cells": [
  {
   "cell_type": "markdown",
   "id": "c0b22a8a",
   "metadata": {},
   "source": [
    "## Q1, Create a vehicle class with an init method having instance variables as name_of_vehicle, max_speed and average_of_vehicle."
   ]
  },
  {
   "cell_type": "code",
   "execution_count": 26,
   "id": "ddc4e94f",
   "metadata": {},
   "outputs": [],
   "source": [
    "class Vehicule:\n",
    "    def __init__(self,name,max_speed,average_of_vehicule):\n",
    "        self.__name_of_vehicule = name\n",
    "        self.__max_speed = max_speed\n",
    "        self.__average_of_vehicule = average_of_vehicule\n",
    "    \n",
    "    #getter\n",
    "    def get_name(self):\n",
    "        return self.__name_of_vehicule\n",
    "    def get_max_speed(self):\n",
    "        return self.__max_speed\n",
    "    def get_average_vehicule(self):\n",
    "        return self.__average_of_vehicule\n",
    "    \n",
    "    #setter\n",
    "    def set_name(self, name):\n",
    "        self.__name_of_vehicule = name\n",
    "    def set_max_speed(self, max_speed ):\n",
    "        self.__max_speed = max_speed\n",
    "    def set_average(self, average_vehicule):\n",
    "        self.__average_of_vehicule = average_vehicule\n",
    "        \n",
    "    #display info\n",
    "    def display_info(self):\n",
    "        print( \"Name: {}\\nMax Speed: {}\\nAverage of Vehicule: {}\".format(self.__name_of_vehicule,self.__max_speed,\n",
    "                                                                        self.__average_of_vehicule) )"
   ]
  },
  {
   "cell_type": "code",
   "execution_count": 27,
   "id": "e4c478ff",
   "metadata": {},
   "outputs": [
    {
     "name": "stdout",
     "output_type": "stream",
     "text": [
      "Name: Bmw\n",
      "Max Speed: 350\n",
      "Average of Vehicule: 120\n"
     ]
    }
   ],
   "source": [
    "my_car = Vehicule(\"Bmw\" ,350 , 120)\n",
    "my_car.display_info()"
   ]
  },
  {
   "cell_type": "markdown",
   "id": "31051f0f",
   "metadata": {},
   "source": [
    "## Q2. Create a child class car from the vehicle class created in Que 1, which will inherit the vehicle class. Create a method named seating_capacity which takes capacity as an argument and returns the name of the vehicle and its seating capacity."
   ]
  },
  {
   "cell_type": "code",
   "execution_count": 60,
   "id": "9af6d3cc",
   "metadata": {},
   "outputs": [],
   "source": [
    "class Child_vehicule(Vehicule):\n",
    "    def __init__(self,*args):\n",
    "        super(Child_vehicule,self).__init__(*args)\n",
    "    \n",
    "    def seating_capacity(self, capacity):\n",
    "        self.__seating_capacity = capacity\n",
    "        return self.get_name() ,self.__seating_capacity"
   ]
  },
  {
   "cell_type": "code",
   "execution_count": 62,
   "id": "2c55426f",
   "metadata": {},
   "outputs": [
    {
     "data": {
      "text/plain": [
       "('Toyota', 9)"
      ]
     },
     "execution_count": 62,
     "metadata": {},
     "output_type": "execute_result"
    }
   ],
   "source": [
    "car2 = Child_vehicule(\"Toyota\" ,250,100)\n",
    "car2.seating_capacity(9)"
   ]
  },
  {
   "cell_type": "markdown",
   "id": "3019ea4b",
   "metadata": {},
   "source": [
    "## Q3. What is multiple inheritance? Write a python code to demonstrate multiple inheritance."
   ]
  },
  {
   "cell_type": "markdown",
   "id": "9fdd81d0",
   "metadata": {},
   "source": [
    "Multiple inheritance is when a child class inherits from two or more parent classes. Here is an example:"
   ]
  },
  {
   "cell_type": "code",
   "execution_count": 52,
   "id": "cd057674",
   "metadata": {},
   "outputs": [],
   "source": [
    "class A():\n",
    "    def displayA(self):\n",
    "        print(\"this is class A\")\n",
    "\n",
    "class B():\n",
    "    def displayB(self):\n",
    "        print(\"this is class B\")\n",
    "\n",
    "class C(A,B):\n",
    "    def displayC(self):\n",
    "        print(\"this is class C\")"
   ]
  },
  {
   "cell_type": "code",
   "execution_count": 53,
   "id": "b89f5d63",
   "metadata": {},
   "outputs": [
    {
     "name": "stdout",
     "output_type": "stream",
     "text": [
      "this is class A\n",
      "this is class B\n",
      "this is class C\n"
     ]
    }
   ],
   "source": [
    "obj_c = C()\n",
    "obj_c.displayA()\n",
    "obj_c.displayB()\n",
    "obj_c.displayC()"
   ]
  },
  {
   "cell_type": "markdown",
   "id": "347cab13",
   "metadata": {},
   "source": [
    "## Q4. What are getter and setter in python? Create a class and create a getter and a setter method in this class."
   ]
  },
  {
   "cell_type": "markdown",
   "id": "b555ca91",
   "metadata": {},
   "source": [
    "Getters and setters are public methods in a Python class that allow access to and modification of private attributes"
   ]
  },
  {
   "cell_type": "code",
   "execution_count": 56,
   "id": "9418814a",
   "metadata": {},
   "outputs": [],
   "source": [
    "class A():\n",
    "    def __init__(self,parA):\n",
    "        self.__parA = parA\n",
    "    def get_parA(self):\n",
    "        return self.__parA\n",
    "    def set_parA(self,parA):\n",
    "        self.__parA = parA"
   ]
  },
  {
   "cell_type": "code",
   "execution_count": 57,
   "id": "86a0098c",
   "metadata": {},
   "outputs": [
    {
     "data": {
      "text/plain": [
       "2"
      ]
     },
     "execution_count": 57,
     "metadata": {},
     "output_type": "execute_result"
    }
   ],
   "source": [
    "obj_a = A(2)\n",
    "obj_a.get_parA()"
   ]
  },
  {
   "cell_type": "code",
   "execution_count": 58,
   "id": "bf16befa",
   "metadata": {},
   "outputs": [
    {
     "data": {
      "text/plain": [
       "3"
      ]
     },
     "execution_count": 58,
     "metadata": {},
     "output_type": "execute_result"
    }
   ],
   "source": [
    "obj_a.set_parA(3)\n",
    "obj_a.get_parA()"
   ]
  },
  {
   "cell_type": "markdown",
   "id": "7967ff87",
   "metadata": {},
   "source": [
    "## Q5.What is method overriding in python? Write a python code to demonstrate method overriding."
   ]
  },
  {
   "cell_type": "markdown",
   "id": "3b9f588e",
   "metadata": {},
   "source": [
    "Method overriding is a concept that allows a child class to provide its own implementation of a method that is already defined in its parent class. "
   ]
  },
  {
   "cell_type": "code",
   "execution_count": 63,
   "id": "f67ab11f",
   "metadata": {},
   "outputs": [
    {
     "name": "stdout",
     "output_type": "stream",
     "text": [
      "Child's method\n"
     ]
    }
   ],
   "source": [
    "class Parent:\n",
    "    def my_method(self):\n",
    "        print(\"Parent's method\")\n",
    "        \n",
    "class Child(Parent):\n",
    "    def my_method(self):\n",
    "        print(\"Child's method\")\n",
    "        \n",
    "obj = Child()\n",
    "obj.my_method()\n"
   ]
  }
 ],
 "metadata": {
  "kernelspec": {
   "display_name": "Python 3 (ipykernel)",
   "language": "python",
   "name": "python3"
  },
  "language_info": {
   "codemirror_mode": {
    "name": "ipython",
    "version": 3
   },
   "file_extension": ".py",
   "mimetype": "text/x-python",
   "name": "python",
   "nbconvert_exporter": "python",
   "pygments_lexer": "ipython3",
   "version": "3.9.16"
  }
 },
 "nbformat": 4,
 "nbformat_minor": 5
}
