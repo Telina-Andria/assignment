{
 "cells": [
  {
   "cell_type": "markdown",
   "id": "6a9ea4d9",
   "metadata": {},
   "source": [
    "## Q1. What is an Exception in Python? Write the difference between Exceptions and Syntax errors."
   ]
  },
  {
   "cell_type": "markdown",
   "id": "a99b80f2",
   "metadata": {},
   "source": [
    "An exception is used to handle errors without stopping the execution of the program. Exceptions allow you to handle errors and continue with the program's execution, while syntax errors require you to fix the error before the program can run again."
   ]
  },
  {
   "cell_type": "markdown",
   "id": "dd3c367c",
   "metadata": {},
   "source": [
    "## Q2. What happens when an exception is not handled? Explain with an example."
   ]
  },
  {
   "cell_type": "markdown",
   "id": "10c2deba",
   "metadata": {},
   "source": [
    "When an exception is not handled, you might get type error or missing variable in the future of your program."
   ]
  },
  {
   "cell_type": "code",
   "execution_count": 1,
   "id": "9f381b1a",
   "metadata": {},
   "outputs": [
    {
     "name": "stdout",
     "output_type": "stream",
     "text": [
      "Enter your age: sudh\n",
      "Your age is : sudh\n"
     ]
    }
   ],
   "source": [
    "try:\n",
    "    age = input(\"Enter your age: \")\n",
    "finally:\n",
    "    print(\"Your age is : {}\".format(age))"
   ]
  },
  {
   "cell_type": "markdown",
   "id": "a8584085",
   "metadata": {},
   "source": [
    "## Q3. Which Python statements are used to catch and handle exceptions ? Explain with an example."
   ]
  },
  {
   "cell_type": "markdown",
   "id": "9fb326d4",
   "metadata": {},
   "source": [
    "In Python Exception is used to catch and handle exceptions."
   ]
  },
  {
   "cell_type": "code",
   "execution_count": 2,
   "id": "a7b14215",
   "metadata": {},
   "outputs": [
    {
     "name": "stdout",
     "output_type": "stream",
     "text": [
      "[Errno 2] No such file or directory: 'test.txt'\n"
     ]
    }
   ],
   "source": [
    "try:\n",
    "    f = open(\"test.txt\",\"r\")\n",
    "    f.read()\n",
    "except Exception as e:\n",
    "    print(e)"
   ]
  },
  {
   "cell_type": "markdown",
   "id": "337f2ee3",
   "metadata": {},
   "source": [
    "## Q4. Explain with an example: a) try and else , b) finally , c) raise"
   ]
  },
  {
   "cell_type": "code",
   "execution_count": 3,
   "id": "effea645",
   "metadata": {},
   "outputs": [
    {
     "name": "stdout",
     "output_type": "stream",
     "text": [
      "# try and else : the program enter in else bloc only if there is no error in try bloc\n",
      "\n",
      "No problem in try block\n"
     ]
    }
   ],
   "source": [
    "# try and else : the program enter in else block only if there is no error in try block\n",
    "try:\n",
    "    with open(\"abc.txt\" ,\"r\") as f:\n",
    "        print(f.read())\n",
    "except Exception as e:\n",
    "    print(e)\n",
    "else:\n",
    "    print(\"No problem in try block\")\n"
   ]
  },
  {
   "cell_type": "code",
   "execution_count": 4,
   "id": "84998541",
   "metadata": {},
   "outputs": [
    {
     "name": "stdout",
     "output_type": "stream",
     "text": [
      "[Errno 2] No such file or directory: 'test.txt'\n",
      "Finally block always executed\n"
     ]
    }
   ],
   "source": [
    "# finally : the program enter in the finally block whenever there is error or not in try block\n",
    "try:\n",
    "    with open(\"test.txt\",\"r\"):\n",
    "        f.read()\n",
    "except Exception as e:\n",
    "    print(e)\n",
    "finally:\n",
    "    print(\"Finally block always executed\")"
   ]
  },
  {
   "cell_type": "code",
   "execution_count": 5,
   "id": "115905d0",
   "metadata": {},
   "outputs": [],
   "source": [
    "# raise :  it is a reserved keyword that call a custom exception class. This is an example that raise error \n",
    "# if the number entered is not an integer\n",
    "class CustomException(Exception):\n",
    "    def __init__(self,msg):\n",
    "        self.msg = msg"
   ]
  },
  {
   "cell_type": "code",
   "execution_count": 6,
   "id": "57c0d73b",
   "metadata": {},
   "outputs": [],
   "source": [
    "def take_int(n):\n",
    "    \"\"\"This function is used to raise error if the value enter is not integer\"\"\"\n",
    "    if n.isalpha():\n",
    "        raise CustomException(\"You should enter int\")\n",
    "    else:\n",
    "        return int(n)"
   ]
  },
  {
   "cell_type": "code",
   "execution_count": 7,
   "id": "79ddf19b",
   "metadata": {},
   "outputs": [
    {
     "name": "stdout",
     "output_type": "stream",
     "text": [
      "Enter a int: sudh\n",
      "You should enter int\n"
     ]
    }
   ],
   "source": [
    "try:\n",
    "    n = input(\"Enter a int: \")\n",
    "    n = take_int(n)\n",
    "except Exception as e:\n",
    "    print(e)\n",
    "else:\n",
    "    print(\"Your number is : {}\".format(n))"
   ]
  },
  {
   "cell_type": "markdown",
   "id": "0fc13ec8",
   "metadata": {},
   "source": [
    "## Q5. What are custom exceptions in python ? Why do we need custom exceptions ? Explain with an example"
   ]
  },
  {
   "cell_type": "markdown",
   "id": "1b2eb649",
   "metadata": {},
   "source": [
    "Custom exceptions are child class that inherit from the Exception class. It is used to raise your own error. For example :"
   ]
  },
  {
   "cell_type": "code",
   "execution_count": 8,
   "id": "45ef8cef",
   "metadata": {},
   "outputs": [],
   "source": [
    "class InvalidInput(Exception):\n",
    "    \"\"\"Exception raised for invalid input values.\"\"\"\n",
    "    def __init__(self, value):\n",
    "        self.value = value\n",
    "    def __str__(self):\n",
    "        return f\"Invalid input: {self.value}\""
   ]
  },
  {
   "cell_type": "code",
   "execution_count": 9,
   "id": "fc6b4e65",
   "metadata": {},
   "outputs": [
    {
     "name": "stdout",
     "output_type": "stream",
     "text": [
      "Invalid input: -2\n"
     ]
    }
   ],
   "source": [
    "def square(number):\n",
    "    \"\"\"This function is used to check if the number is negative. If the number is negative, it will raise an error. \n",
    "    If the number is positive, the function will return the square of the number\"\"\"\n",
    "    if number < 0:\n",
    "        raise InvalidInput(number)\n",
    "    return number ** 0.5\n",
    "\n",
    "\n",
    "try:\n",
    "    result = square(-2)\n",
    "    print(\"Square root:\", result)\n",
    "except InvalidInput as e:\n",
    "    print(e)\n"
   ]
  },
  {
   "cell_type": "markdown",
   "id": "4fd02fbc",
   "metadata": {},
   "source": [
    "## Q6. Create a custom exception class. Use this class to handle an exception"
   ]
  },
  {
   "cell_type": "code",
   "execution_count": 10,
   "id": "707e2b9f",
   "metadata": {},
   "outputs": [],
   "source": [
    "class CustomException(Exception):\n",
    "    def __init__(self,msg):\n",
    "        self.msg = msg"
   ]
  },
  {
   "cell_type": "code",
   "execution_count": 11,
   "id": "8fd39b76",
   "metadata": {},
   "outputs": [],
   "source": [
    "def validate_delta(a,b,c):\n",
    "    \"\"\"This function is used to raise error if the delta is negative\"\"\"\n",
    "    if  pow(b,2)-4*a*c < 0:\n",
    "        raise customException(\"Delta is negative\")\n",
    "    else :\n",
    "        print(\"The program can continue\")"
   ]
  },
  {
   "cell_type": "code",
   "execution_count": 12,
   "id": "20afd7d0",
   "metadata": {},
   "outputs": [
    {
     "name": "stdout",
     "output_type": "stream",
     "text": [
      "Solving this equation: ax^2+bx+c=0\n",
      "Enter a: 2\n",
      "Enter b: 3\n",
      "Enter c: 1\n",
      "The program can continue\n"
     ]
    }
   ],
   "source": [
    "try:\n",
    "    print(\"Solving this equation: ax^2+bx+c=0\")\n",
    "    a= input(\"Enter a: \")\n",
    "    a= take_int(a)\n",
    "    b= input(\"Enter b: \")\n",
    "    b= take_int(b)\n",
    "    c= input(\"Enter c: \")\n",
    "    c= take_int(c)\n",
    "    \n",
    "    delta = validate_delta(a,b,c)\n",
    "    \n",
    "except customException as e:\n",
    "    print(e)\n",
    "\n",
    "    "
   ]
  }
 ],
 "metadata": {
  "kernelspec": {
   "display_name": "Python 3 (ipykernel)",
   "language": "python",
   "name": "python3"
  },
  "language_info": {
   "codemirror_mode": {
    "name": "ipython",
    "version": 3
   },
   "file_extension": ".py",
   "mimetype": "text/x-python",
   "name": "python",
   "nbconvert_exporter": "python",
   "pygments_lexer": "ipython3",
   "version": "3.9.16"
  }
 },
 "nbformat": 4,
 "nbformat_minor": 5
}
