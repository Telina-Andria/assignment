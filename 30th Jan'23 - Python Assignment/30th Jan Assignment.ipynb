{
 "cells": [
  {
   "cell_type": "markdown",
   "id": "5c3ac344",
   "metadata": {},
   "source": [
    "## Q1. Write a program to accept percentage from the user and display the grade according to the following criteria:"
   ]
  },
  {
   "cell_type": "code",
   "execution_count": 73,
   "id": "a51cfeca",
   "metadata": {},
   "outputs": [
    {
     "name": "stdout",
     "output_type": "stream",
     "text": [
      "Enter your Mark: 95\n",
      "Your grade is A\n"
     ]
    }
   ],
   "source": [
    "try: \n",
    "    perc = abs(int(input(\"Enter your Mark: \")))\n",
    "    \n",
    "    if perc > 90 : \n",
    "        grad = \"A\"\n",
    "    elif perc >80 and perc <= 90 :\n",
    "        grad = \"B\"\n",
    "    elif perc >= 60 and perc <= 80 :\n",
    "        grad = \"C\"\n",
    "    elif perc < 60:\n",
    "        grad = \"D\"\n",
    "    print(\"Your grade is \"+grad )\n",
    "    \n",
    "except Exception as e :\n",
    "    print(e)"
   ]
  },
  {
   "cell_type": "markdown",
   "id": "3a5cd64f",
   "metadata": {},
   "source": [
    "## Q2. Write a program to accept the cost price of a bike and display the road tax to be paid according to the following criteria"
   ]
  },
  {
   "cell_type": "code",
   "execution_count": 76,
   "id": "e47f7ea9",
   "metadata": {},
   "outputs": [
    {
     "name": "stdout",
     "output_type": "stream",
     "text": [
      "Enter the cost price of the bike: 125000\n",
      "Your tax is 15% = 18750.0\n"
     ]
    }
   ],
   "source": [
    "try:\n",
    "    cost = abs(int(input(\"Enter the cost price of the bike: \")))\n",
    "    if cost > 100000:\n",
    "        tax = \"15%\"\n",
    "    elif cost >50000 and cost <= 100000 :\n",
    "        tax = \"10%\"\n",
    "    elif cost <= 50000:\n",
    "        tax = \"5%\"\n",
    "\n",
    "    print(\"Your tax is \"+tax +\" = \"+ str(int(tax.replace(\"%\" ,\"\"))*cost/100 ))\n",
    "except Exception as e:\n",
    "    print(e)"
   ]
  },
  {
   "cell_type": "markdown",
   "id": "670e4d07",
   "metadata": {},
   "source": [
    "## Q3. Accept any city from the user and display monuments of that city."
   ]
  },
  {
   "cell_type": "code",
   "execution_count": 81,
   "id": "587eb54a",
   "metadata": {},
   "outputs": [
    {
     "name": "stdout",
     "output_type": "stream",
     "text": [
      "Enter your city(Delhi , Agra, Jaipur) : AGar\n",
      "No Monument inside your city\n"
     ]
    }
   ],
   "source": [
    "city = input(\"Enter your city(Delhi , Agra, Jaipur) : \")\n",
    "if city.lower() == \"delhi\":\n",
    "    print(\"Monument is Red Fort\")\n",
    "elif city.lower() == \"agra\":\n",
    "    print(\"Monument is Taj Mahal\")\n",
    "elif city.lower() == \"jaipur\":\n",
    "    print(\"Monument is Jal Mahal\")\n",
    "else:\n",
    "    print(\"No Monument inside your city\")\n"
   ]
  },
  {
   "cell_type": "markdown",
   "id": "a45d629f",
   "metadata": {},
   "source": [
    "## Q4. Check how many times a given number can be divided by 3 before it is less than or equal to 10."
   ]
  },
  {
   "cell_type": "code",
   "execution_count": 55,
   "id": "b0a9f95f",
   "metadata": {},
   "outputs": [
    {
     "name": "stdout",
     "output_type": "stream",
     "text": [
      "Enter your number: 300\n",
      "You can divide it by 3, 4 times to get a number less than or equal to 10\n"
     ]
    }
   ],
   "source": [
    "number = abs(float(input(\"Enter your number: \")))\n",
    "count = 0\n",
    "if number <= 10 :\n",
    "    print(\"The number is already less than or equal to 10\")\n",
    "else:\n",
    "    while True :\n",
    "        number /= 3\n",
    "        count +=1\n",
    "        if number <= 10 :\n",
    "            break\n",
    "    print(\"You can divide it by 3, \"+str(count)+\" times to get a number less than or equal to 10\")"
   ]
  },
  {
   "cell_type": "markdown",
   "id": "53a527b1",
   "metadata": {},
   "source": [
    "## Q5. Why  and when to use while loop in python give a detailled description with example"
   ]
  },
  {
   "cell_type": "markdown",
   "id": "568bb66c",
   "metadata": {},
   "source": [
    "The while loop in Python is used to repeatedly execute a block of code as long as a specified condition remains true. It is suitable for situations where you want to continue executing code until a certain condition is met or until a specific termination condition is encountered."
   ]
  },
  {
   "cell_type": "code",
   "execution_count": 58,
   "id": "1882398e",
   "metadata": {},
   "outputs": [
    {
     "name": "stdout",
     "output_type": "stream",
     "text": [
      "Count: 0\n",
      "Count: 1\n",
      "Count: 2\n",
      "Count: 3\n",
      "Count: 4\n"
     ]
    }
   ],
   "source": [
    "count = 0\n",
    "while count < 5:\n",
    "    print(\"Count:\", count)\n",
    "    count += 1"
   ]
  },
  {
   "cell_type": "markdown",
   "id": "7c5d6dbd",
   "metadata": {},
   "source": [
    "## Q6. Use nested while loop to print 3 different pattern"
   ]
  },
  {
   "cell_type": "code",
   "execution_count": 59,
   "id": "f413c94d",
   "metadata": {},
   "outputs": [
    {
     "name": "stdout",
     "output_type": "stream",
     "text": [
      "* * * * * \n",
      "* * * * * \n",
      "* * * * * \n",
      "* * * * * \n",
      "* * * * * \n"
     ]
    }
   ],
   "source": [
    "# square pattern\n",
    "n = 5\n",
    "i = 1\n",
    "while i <= n:\n",
    "    j = 1\n",
    "    while j <= n:\n",
    "        print(\"*\", end=\" \")\n",
    "        j += 1\n",
    "    print()\n",
    "    i += 1"
   ]
  },
  {
   "cell_type": "code",
   "execution_count": 60,
   "id": "96eb9786",
   "metadata": {},
   "outputs": [
    {
     "name": "stdout",
     "output_type": "stream",
     "text": [
      "* \n",
      "* * \n",
      "* * * \n",
      "* * * * \n",
      "* * * * * \n"
     ]
    }
   ],
   "source": [
    "# right triangle pattern \n",
    "\n",
    "n = 5\n",
    "i = 1\n",
    "while i <= n:\n",
    "    j = 1\n",
    "    while j <= i:\n",
    "        print(\"*\", end=\" \")\n",
    "        j += 1\n",
    "    print()\n",
    "    i += 1"
   ]
  },
  {
   "cell_type": "code",
   "execution_count": 62,
   "id": "85fe7a9e",
   "metadata": {},
   "outputs": [
    {
     "name": "stdout",
     "output_type": "stream",
     "text": [
      "    *\n",
      "   ***\n",
      "  *****\n",
      " *******\n",
      "*********\n"
     ]
    }
   ],
   "source": [
    "# pyramid triangle\n",
    "\n",
    "n = 5\n",
    "i = 1\n",
    "while i <= n:\n",
    "    j = 1\n",
    "    while j <= n - i:\n",
    "        print(\" \", end=\"\")\n",
    "        j += 1\n",
    "\n",
    "    j = 1\n",
    "    while j <= 2 * i - 1:\n",
    "        print(\"*\", end=\"\")\n",
    "        j += 1\n",
    "\n",
    "    print()\n",
    "    i += 1"
   ]
  },
  {
   "cell_type": "markdown",
   "id": "49fa02b2",
   "metadata": {},
   "source": [
    "## Q7.Reverse a while loop to display number from 10 to 1"
   ]
  },
  {
   "cell_type": "code",
   "execution_count": 67,
   "id": "79fb510f",
   "metadata": {},
   "outputs": [
    {
     "name": "stdout",
     "output_type": "stream",
     "text": [
      "10\n",
      "9\n",
      "8\n",
      "7\n",
      "6\n",
      "5\n",
      "4\n",
      "3\n",
      "2\n",
      "1\n"
     ]
    }
   ],
   "source": [
    "i = 10\n",
    "while i != 0 :\n",
    "    print(i)\n",
    "    i -= 1"
   ]
  }
 ],
 "metadata": {
  "kernelspec": {
   "display_name": "Python 3 (ipykernel)",
   "language": "python",
   "name": "python3"
  },
  "language_info": {
   "codemirror_mode": {
    "name": "ipython",
    "version": 3
   },
   "file_extension": ".py",
   "mimetype": "text/x-python",
   "name": "python",
   "nbconvert_exporter": "python",
   "pygments_lexer": "ipython3",
   "version": "3.9.16"
  }
 },
 "nbformat": 4,
 "nbformat_minor": 5
}
