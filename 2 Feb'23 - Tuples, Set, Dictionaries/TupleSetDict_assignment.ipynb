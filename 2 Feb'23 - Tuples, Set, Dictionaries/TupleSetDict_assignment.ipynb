{
 "cells": [
  {
   "attachments": {},
   "cell_type": "markdown",
   "id": "25001568",
   "metadata": {},
   "source": [
    "## Q1. What are the characteristics of the tuples? Is tuple immutable?\n"
   ]
  },
  {
   "attachments": {},
   "cell_type": "markdown",
   "id": "40b64e04",
   "metadata": {},
   "source": [
    "Tuples are collection datatype that have the following characteristics:\n",
    "_Tuples are enclosed in brackets\n",
    "_Tuples can hold elements of different datatype\n",
    "_You can acces elements using indexing and slicing\n",
    "_Tuples are immutable which means that you cannot modify their elements once they are created"
   ]
  },
  {
   "attachments": {},
   "cell_type": "markdown",
   "id": "5aaa95b6",
   "metadata": {},
   "source": [
    "## Q2. What are the two tuple methods in python? Give an example of each method. Give a reason why tuples have only two in-built methods as compared to Lists."
   ]
  },
  {
   "attachments": {},
   "cell_type": "markdown",
   "id": "95bf3292",
   "metadata": {},
   "source": [
    "There are only two methods for tuple: .count() and .index()"
   ]
  },
  {
   "cell_type": "code",
   "execution_count": 1,
   "id": "14253f5b",
   "metadata": {},
   "outputs": [],
   "source": [
    "t1 = (1,2,1,2,5,8,3,4)"
   ]
  },
  {
   "cell_type": "code",
   "execution_count": 2,
   "id": "2ae42fe9",
   "metadata": {},
   "outputs": [
    {
     "data": {
      "text/plain": [
       "2"
      ]
     },
     "execution_count": 2,
     "metadata": {},
     "output_type": "execute_result"
    }
   ],
   "source": [
    "t1.count(1)"
   ]
  },
  {
   "cell_type": "code",
   "execution_count": 3,
   "id": "cb08d65b",
   "metadata": {},
   "outputs": [
    {
     "data": {
      "text/plain": [
       "5"
      ]
     },
     "execution_count": 3,
     "metadata": {},
     "output_type": "execute_result"
    }
   ],
   "source": [
    "t1.index(8)"
   ]
  },
  {
   "attachments": {},
   "cell_type": "markdown",
   "id": "05df8dfa",
   "metadata": {},
   "source": [
    "Tuples are immutable which means that you cannot modify their elements once they are created.  Because of this, there are no methods in Python to modify tuples, such as append(), pop(), clear(), and so on"
   ]
  },
  {
   "attachments": {},
   "cell_type": "markdown",
   "id": "270977b8",
   "metadata": {},
   "source": [
    "## Q3. Which collection datatypes in python do not allow duplicate items? Write a code using a set to remove duplicates from the given list\n"
   ]
  },
  {
   "attachments": {},
   "cell_type": "markdown",
   "id": "cb5d7039",
   "metadata": {},
   "source": [
    "In python set is a collection of unique values that contain elements of different data types. For example using this list :"
   ]
  },
  {
   "cell_type": "code",
   "execution_count": 6,
   "id": "42e78191",
   "metadata": {},
   "outputs": [],
   "source": [
    "List = [1, 1, 1, 2, 1, 3, 1, 4, 2, 1, 2, 2, 2, 3, 2, 4, 3, 1, 3, 2, 3, 3, 3, 4, 4, 1, 4, 2, 4, 3, 4, 4]"
   ]
  },
  {
   "attachments": {},
   "cell_type": "markdown",
   "id": "b73c2e97",
   "metadata": {},
   "source": [
    "We can extract only unique value inside it by casting it into set datatype"
   ]
  },
  {
   "cell_type": "code",
   "execution_count": 8,
   "id": "695ffd2f",
   "metadata": {},
   "outputs": [
    {
     "data": {
      "text/plain": [
       "{1, 2, 3, 4}"
      ]
     },
     "execution_count": 8,
     "metadata": {},
     "output_type": "execute_result"
    }
   ],
   "source": [
    "s1 = set(List)\n",
    "s1"
   ]
  },
  {
   "attachments": {},
   "cell_type": "markdown",
   "id": "39099b64",
   "metadata": {},
   "source": [
    "## Q4 Explain the difference between the union() and update() methods for a set. Give an example of each method.\n"
   ]
  },
  {
   "attachments": {},
   "cell_type": "markdown",
   "id": "05aa66f7",
   "metadata": {},
   "source": [
    "The union() method returns a new set that contains all the unique elements from the original set as well as another set(s). In contrast, the update() method updates the original set by appending all the elements from another set(s)"
   ]
  },
  {
   "cell_type": "code",
   "execution_count": 32,
   "id": "fbe3a0b7",
   "metadata": {},
   "outputs": [],
   "source": [
    "s1 = {1,1,2,3,5}\n",
    "s2 = {3,3,4,6}"
   ]
  },
  {
   "cell_type": "code",
   "execution_count": 33,
   "id": "7890c667",
   "metadata": {},
   "outputs": [
    {
     "data": {
      "text/plain": [
       "{1, 2, 3, 4, 5, 6}"
      ]
     },
     "execution_count": 33,
     "metadata": {},
     "output_type": "execute_result"
    }
   ],
   "source": [
    "s1.union(s2)"
   ]
  },
  {
   "cell_type": "code",
   "execution_count": 34,
   "id": "f6dc3f47",
   "metadata": {},
   "outputs": [
    {
     "data": {
      "text/plain": [
       "{1, 2, 3, 5}"
      ]
     },
     "execution_count": 34,
     "metadata": {},
     "output_type": "execute_result"
    }
   ],
   "source": [
    "s1"
   ]
  },
  {
   "cell_type": "code",
   "execution_count": 30,
   "id": "d0862fd4",
   "metadata": {},
   "outputs": [],
   "source": [
    "s1.update(s2)"
   ]
  },
  {
   "cell_type": "code",
   "execution_count": 31,
   "id": "76c0d744",
   "metadata": {},
   "outputs": [
    {
     "data": {
      "text/plain": [
       "{1, 2, 3, 4, 5, 6}"
      ]
     },
     "execution_count": 31,
     "metadata": {},
     "output_type": "execute_result"
    }
   ],
   "source": [
    "s1"
   ]
  },
  {
   "attachments": {},
   "cell_type": "markdown",
   "id": "b32797bb",
   "metadata": {},
   "source": [
    "To summarize, the union() method returns a new set without modifying the original set, while the update() method modifies the original set by adding elements from another set(s)."
   ]
  },
  {
   "attachments": {},
   "cell_type": "markdown",
   "id": "b69fffc0",
   "metadata": {},
   "source": [
    "## Q5. What is a dictionary? Give an example. Also, state whether a dictionary is ordered or unordered"
   ]
  },
  {
   "attachments": {},
   "cell_type": "markdown",
   "id": "3430f43f",
   "metadata": {},
   "source": [
    "A dictionary is a collection of key-value pairs where each key is associated with a value. Each key must be unique. This means that you cannot have two or more keys with the same name in the same dictionary."
   ]
  },
  {
   "cell_type": "code",
   "execution_count": 35,
   "id": "00385801",
   "metadata": {},
   "outputs": [],
   "source": [
    "grade = {\"Messi\" : 100 , \"De Paul\" : 90 , \"Mbappe\": 95 ,\"Neymar\" : 95 ,\"De Paul\" :92 }"
   ]
  },
  {
   "cell_type": "code",
   "execution_count": 36,
   "id": "780e0cae",
   "metadata": {},
   "outputs": [
    {
     "data": {
      "text/plain": [
       "{'Messi': 100, 'De Paul': 92, 'Mbappe': 95, 'Neymar': 95}"
      ]
     },
     "execution_count": 36,
     "metadata": {},
     "output_type": "execute_result"
    }
   ],
   "source": [
    "grade"
   ]
  },
  {
   "attachments": {},
   "cell_type": "markdown",
   "id": "802a4167",
   "metadata": {},
   "source": [
    "Dictionaries in Python are unordered, meaning that the order of the key-value pairs is not guaranteed to be the same as the order in which they were added to the dictionary."
   ]
  },
  {
   "attachments": {},
   "cell_type": "markdown",
   "id": "228f75fc",
   "metadata": {},
   "source": [
    "## Q6. Can we create a nested dictionary? If so, please give an example by creating a simple one-level nested dictionary."
   ]
  },
  {
   "attachments": {},
   "cell_type": "markdown",
   "id": "7673d80a",
   "metadata": {},
   "source": [
    "A nested dictionary can be created by using a dictionary as a value. However, it is not possible to use a dictionary as a key because keys must be immutable objects. For example:"
   ]
  },
  {
   "cell_type": "code",
   "execution_count": 37,
   "id": "73ee6d61",
   "metadata": {},
   "outputs": [],
   "source": [
    "grade = { \"Mbappe\" : 95 , \"Fc Barcelone\" : {\"Pedri\" : 93 ,\"Gavi\" : 88 }  }"
   ]
  },
  {
   "cell_type": "code",
   "execution_count": 38,
   "id": "b6f59c18",
   "metadata": {},
   "outputs": [
    {
     "data": {
      "text/plain": [
       "{'Mbappe': 95, 'Fc Barcelone': {'Pedri': 93, 'Gavi': 88}}"
      ]
     },
     "execution_count": 38,
     "metadata": {},
     "output_type": "execute_result"
    }
   ],
   "source": [
    "grade"
   ]
  },
  {
   "attachments": {},
   "cell_type": "markdown",
   "id": "2d7c2624",
   "metadata": {},
   "source": [
    "## Q7. Using setdefault() method, create key named topics in the given dictionary and also add the value of the key as this list ['Python', 'Machine Learning’, 'Deep Learning']\n",
    "\n"
   ]
  },
  {
   "cell_type": "code",
   "execution_count": 39,
   "id": "ab732d5e",
   "metadata": {},
   "outputs": [
    {
     "data": {
      "text/plain": [
       "['Python', 'Machine Learning', 'Deep Learning']"
      ]
     },
     "execution_count": 39,
     "metadata": {},
     "output_type": "execute_result"
    }
   ],
   "source": [
    "dictionary = {}\n",
    "dictionary.setdefault(\"topics\" ,['Python', 'Machine Learning', 'Deep Learning'])"
   ]
  },
  {
   "attachments": {},
   "cell_type": "markdown",
   "id": "72cd6a35",
   "metadata": {},
   "source": [
    " If the key \"topics\" already exists in the dictionary, setdefault() will not modify its value"
   ]
  },
  {
   "attachments": {},
   "cell_type": "markdown",
   "id": "dd4455f8",
   "metadata": {},
   "source": [
    "## Q8. What are the three view objects in dictionaries? Use the three in-built methods in python to display these three view objects for the given dictionary.\n",
    "\n",
    "#### dict1 = {'Sport': 'Cricket' , 'Teams': ['India', 'Australia', 'England', 'South Africa', 'Sri Lanka', 'New Zealand']}"
   ]
  },
  {
   "attachments": {},
   "cell_type": "markdown",
   "id": "b0736e32",
   "metadata": {},
   "source": [
    "There are three view objects that allow you to access the dictionary's data .They are used to  \"views\" the keys, values, or key-value pairs in the dictionary without creating new lists or dictionaries. The three view objects in dictionaries are: dict.keys() ,dict.values() , dict.items()"
   ]
  },
  {
   "cell_type": "code",
   "execution_count": 40,
   "id": "59330f8a",
   "metadata": {},
   "outputs": [],
   "source": [
    "dict1 = {'Sport': 'Cricket' , 'Teams': ['India', 'Australia', 'England', 'South Africa', 'Sri Lanka', 'New Zealand']}"
   ]
  },
  {
   "cell_type": "code",
   "execution_count": 42,
   "id": "84cd7a3f",
   "metadata": {},
   "outputs": [
    {
     "data": {
      "text/plain": [
       "dict_keys(['Sport', 'Teams'])"
      ]
     },
     "execution_count": 42,
     "metadata": {},
     "output_type": "execute_result"
    }
   ],
   "source": [
    "dict1.keys()"
   ]
  },
  {
   "cell_type": "code",
   "execution_count": 43,
   "id": "4949b972",
   "metadata": {},
   "outputs": [
    {
     "data": {
      "text/plain": [
       "dict_values(['Cricket', ['India', 'Australia', 'England', 'South Africa', 'Sri Lanka', 'New Zealand']])"
      ]
     },
     "execution_count": 43,
     "metadata": {},
     "output_type": "execute_result"
    }
   ],
   "source": [
    "dict1.values()"
   ]
  },
  {
   "cell_type": "code",
   "execution_count": 44,
   "id": "541d1dec",
   "metadata": {},
   "outputs": [
    {
     "data": {
      "text/plain": [
       "dict_items([('Sport', 'Cricket'), ('Teams', ['India', 'Australia', 'England', 'South Africa', 'Sri Lanka', 'New Zealand'])])"
      ]
     },
     "execution_count": 44,
     "metadata": {},
     "output_type": "execute_result"
    }
   ],
   "source": [
    "dict1.items()"
   ]
  },
  {
   "cell_type": "code",
   "execution_count": null,
   "id": "4fdfdeb1",
   "metadata": {},
   "outputs": [],
   "source": []
  }
 ],
 "metadata": {
  "kernelspec": {
   "display_name": "Python 3 (ipykernel)",
   "language": "python",
   "name": "python3"
  },
  "language_info": {
   "codemirror_mode": {
    "name": "ipython",
    "version": 3
   },
   "file_extension": ".py",
   "mimetype": "text/x-python",
   "name": "python",
   "nbconvert_exporter": "python",
   "pygments_lexer": "ipython3",
   "version": "3.9.16"
  }
 },
 "nbformat": 4,
 "nbformat_minor": 5
}
