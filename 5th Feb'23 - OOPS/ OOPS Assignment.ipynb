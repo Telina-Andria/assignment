{
 "cells": [
  {
   "cell_type": "markdown",
   "id": "952f80e7",
   "metadata": {},
   "source": [
    "## Q1. Explain Class and Object with respect to Object-Oriented Programming. Give a suitable example."
   ]
  },
  {
   "cell_type": "markdown",
   "id": "ddaea7c1",
   "metadata": {},
   "source": [
    "Class is a fundamental concept in object-oriented programming that classify real-world entities. It defines the structure and behavior that objects of that class will have. An object, on the other hand, is an instance or a specific occurrence of a class. It represents a particular real-world entity that belongs to that class. To illustrate, a car can be viewed as a class, and we can create our own object by defining its attributes and methods."
   ]
  },
  {
   "cell_type": "code",
   "execution_count": 7,
   "id": "9ed926e6",
   "metadata": {},
   "outputs": [],
   "source": [
    "class Car:\n",
    "    def __init__(self, color,brand,model):\n",
    "        self.color = color\n",
    "        self.brand = brand\n",
    "        self.model = model\n",
    "    def display_info(self):\n",
    "        print(self.color, self.brand,self.model)"
   ]
  },
  {
   "cell_type": "code",
   "execution_count": 8,
   "id": "aa7649ce",
   "metadata": {},
   "outputs": [
    {
     "name": "stdout",
     "output_type": "stream",
     "text": [
      "grey Toyota RAV4\n"
     ]
    }
   ],
   "source": [
    "my_car = Car(\"grey\" , \"Toyota\" ,\"RAV4\")\n",
    "my_car.display_info()"
   ]
  },
  {
   "cell_type": "markdown",
   "id": "4d36ad28",
   "metadata": {},
   "source": [
    "## Q2. Name the four pillars of OOPs."
   ]
  },
  {
   "cell_type": "markdown",
   "id": "3e2e94c8",
   "metadata": {},
   "source": [
    "The four pillars of object-oriented programming (OOP) are:\n",
    "_Inheritance\n",
    "_Encapsulation\n",
    "_Polymorphism\n",
    "_Abstraction"
   ]
  },
  {
   "cell_type": "markdown",
   "id": "53585826",
   "metadata": {},
   "source": [
    "## Q3. Explain why the __init__() function is used. Give a suitable example."
   ]
  },
  {
   "cell_type": "markdown",
   "id": "5686476d",
   "metadata": {},
   "source": [
    "__init__() is a constructor. It is used to initialise the attributes of the object.\n"
   ]
  },
  {
   "cell_type": "code",
   "execution_count": 11,
   "id": "066d3019",
   "metadata": {},
   "outputs": [],
   "source": [
    "class Animal:\n",
    "    def __init__(self, name,age,specie):\n",
    "        self.name = name\n",
    "        self.age = age\n",
    "        self.specie = specie\n",
    "    def display_info(self):\n",
    "        print(self.name, self.age, self.specie)"
   ]
  },
  {
   "cell_type": "code",
   "execution_count": 12,
   "id": "33173174",
   "metadata": {},
   "outputs": [
    {
     "name": "stdout",
     "output_type": "stream",
     "text": [
      "snoopie 10 Dog\n"
     ]
    }
   ],
   "source": [
    "a1 = Animal(\"snoopie\" ,10 , \"Dog\")\n",
    "a1.display_info()"
   ]
  },
  {
   "cell_type": "markdown",
   "id": "174a77f5",
   "metadata": {},
   "source": [
    "## Q4. Why self is used in OOPs?"
   ]
  },
  {
   "cell_type": "markdown",
   "id": "fc7de5e6",
   "metadata": {},
   "source": [
    "In OOPS self is a pointers to the instance of the class.It's also a convention (but not a keyword) for the first parameter of every method in a class. When a method is called on an object, self refers to that specific instance of the class. It provides a way for the method to refer to and operate on the object's own data. By using self, methods can access the object's attributes and call other methods defined in the class."
   ]
  },
  {
   "cell_type": "markdown",
   "id": "899ce9b9",
   "metadata": {},
   "source": [
    "## Q5. What is inheritance? Give an example for each type of inheritance."
   ]
  },
  {
   "cell_type": "markdown",
   "id": "a7032063",
   "metadata": {},
   "source": [
    "Inheritance is among the four pillars of OOPS concept that allow class to inherit attributes from another class. The class being inherited from is called \"parent class\" or \"base class\" and the class that inherits is called the \"derived clas\" or \"child class\". There are three types of inheritance: "
   ]
  },
  {
   "cell_type": "code",
   "execution_count": 13,
   "id": "b6254b3e",
   "metadata": {},
   "outputs": [
    {
     "name": "stdout",
     "output_type": "stream",
     "text": [
      "Animal is eating.\n",
      "Dog is barking.\n"
     ]
    }
   ],
   "source": [
    "# single inheritance\n",
    "class Animal:\n",
    "    def eat(self):\n",
    "        print(\"Animal is eating.\")\n",
    "\n",
    "class Dog(Animal):\n",
    "    def bark(self):\n",
    "        print(\"Dog is barking.\")\n",
    "\n",
    "# Creating an object of the Dog class and calling methods\n",
    "my_dog = Dog()\n",
    "my_dog.eat()  \n",
    "my_dog.bark() "
   ]
  },
  {
   "cell_type": "code",
   "execution_count": 14,
   "id": "6bf88e3b",
   "metadata": {},
   "outputs": [
    {
     "name": "stdout",
     "output_type": "stream",
     "text": [
      "Car has started.\n",
      "Electric vehicle is charging.\n",
      "Hybrid car is driving.\n"
     ]
    }
   ],
   "source": [
    "# Multiple inheritance\n",
    "class Car:\n",
    "    def start(self):\n",
    "        print(\"Car has started.\")\n",
    "\n",
    "class ElectricVehicle:\n",
    "    def charge(self):\n",
    "        print(\"Electric vehicle is charging.\")\n",
    "\n",
    "class HybridCar(Car, ElectricVehicle):\n",
    "    def drive(self):\n",
    "        print(\"Hybrid car is driving.\")\n",
    "\n",
    "# Creating an object of the HybridCar class and calling methods\n",
    "my_hybrid_car = HybridCar()\n",
    "my_hybrid_car.start()  \n",
    "my_hybrid_car.charge()  \n",
    "my_hybrid_car.drive()  "
   ]
  },
  {
   "cell_type": "code",
   "execution_count": 15,
   "id": "2209ae4e",
   "metadata": {},
   "outputs": [
    {
     "name": "stdout",
     "output_type": "stream",
     "text": [
      "Animal is eating.\n",
      "Dog is barking.\n",
      "Bulldog is guarding.\n"
     ]
    }
   ],
   "source": [
    "# Multilevel inheritance\n",
    "class Animal:\n",
    "    def eat(self):\n",
    "        print(\"Animal is eating.\")\n",
    "\n",
    "class Dog(Animal):\n",
    "    def bark(self):\n",
    "        print(\"Dog is barking.\")\n",
    "\n",
    "class Bulldog(Dog):\n",
    "    def guard(self):\n",
    "        print(\"Bulldog is guarding.\")\n",
    "\n",
    "# Creating an object of the Bulldog class and calling methods\n",
    "my_bulldog = Bulldog()\n",
    "my_bulldog.eat() \n",
    "my_bulldog.bark()  \n",
    "my_bulldog.guard() \n"
   ]
  }
 ],
 "metadata": {
  "kernelspec": {
   "display_name": "Python 3 (ipykernel)",
   "language": "python",
   "name": "python3"
  },
  "language_info": {
   "codemirror_mode": {
    "name": "ipython",
    "version": 3
   },
   "file_extension": ".py",
   "mimetype": "text/x-python",
   "name": "python",
   "nbconvert_exporter": "python",
   "pygments_lexer": "ipython3",
   "version": "3.9.16"
  }
 },
 "nbformat": 4,
 "nbformat_minor": 5
}
