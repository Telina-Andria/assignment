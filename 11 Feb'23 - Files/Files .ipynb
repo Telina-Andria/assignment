{
 "cells": [
  {
   "cell_type": "markdown",
   "id": "55f5883b",
   "metadata": {},
   "source": [
    "## Q1. Which function is used to open a file? What are the different modes of opening a file? Explain each mode of file opening.\n"
   ]
  },
  {
   "cell_type": "markdown",
   "id": "b0ab5408",
   "metadata": {},
   "source": [
    "The fuction used to open a file is called open().There are two way to open a file."
   ]
  },
  {
   "cell_type": "code",
   "execution_count": 1,
   "id": "cf09bbc8",
   "metadata": {},
   "outputs": [
    {
     "data": {
      "text/plain": [
       "'Data Science Masters course is highly curated and uniquely designed according to the latest industry standards.\\n'"
      ]
     },
     "execution_count": 1,
     "metadata": {},
     "output_type": "execute_result"
    }
   ],
   "source": [
    "#1)\n",
    "f = open(\"test.txt\", \"r\")\n",
    "f.read()"
   ]
  },
  {
   "cell_type": "code",
   "execution_count": 2,
   "id": "fd1a8fb3",
   "metadata": {},
   "outputs": [
    {
     "name": "stdout",
     "output_type": "stream",
     "text": [
      "Data Science Masters course is highly curated and uniquely designed according to the latest industry standards.\n",
      "\n"
     ]
    }
   ],
   "source": [
    "#2)\n",
    "with open(\"test.txt\",\"r\") as f:\n",
    "    print(f.read())"
   ]
  },
  {
   "cell_type": "markdown",
   "id": "1c25c6ca",
   "metadata": {},
   "source": [
    "Here are the different modes of opening a file: \n",
    "\"r\": This mode allows you to read the contents of the file.\n",
    "\"w\": This mode is used to open a file for writing.\n",
    "\"a\": This mode is used to open a file for appending data.\n",
    "\"b\": This mode is used in conjunction with the above modes ('r', 'w', or 'a') to open a file in binary mode.\n",
    "\"r+\" or \"w+\": These modes allow you to open a file for both reading and writing. 'r+' opens the file for reading and writing, while preserving the existing data.\n",
    "\"a+\" : This mode allows you to open a file for both reading and appending. "
   ]
  },
  {
   "cell_type": "markdown",
   "id": "d7f78173",
   "metadata": {},
   "source": [
    "## Q2. Why close() function is used? Why is it important to close a file?\n"
   ]
  },
  {
   "cell_type": "markdown",
   "id": "68a172b4",
   "metadata": {},
   "source": [
    "close() function is used to properly close the file. It ensures that any changes you made are saved."
   ]
  },
  {
   "cell_type": "markdown",
   "id": "570d3b2a",
   "metadata": {},
   "source": [
    "## Q3. Write a python program to create a text file. Write ‘I want to become a Data Scientist’ in that file. Then close the file. Open this file and read the content of the file.  \n"
   ]
  },
  {
   "cell_type": "code",
   "execution_count": 3,
   "id": "f5dd91da",
   "metadata": {},
   "outputs": [],
   "source": [
    "with open(\"test1.txt\",\"w\") as f:\n",
    "    f.write(\"I want to become a Data Scientist\")\n"
   ]
  },
  {
   "cell_type": "code",
   "execution_count": 4,
   "id": "48f69f05",
   "metadata": {},
   "outputs": [
    {
     "name": "stdout",
     "output_type": "stream",
     "text": [
      "I want to become a Data Scientist\n"
     ]
    }
   ],
   "source": [
    "with open(\"test1.txt\",\"r\") as f:\n",
    "    print(f.read())\n"
   ]
  },
  {
   "cell_type": "markdown",
   "id": "117b4d15",
   "metadata": {},
   "source": [
    "## Q4. Explain the following with python code: read(), readline() and readlines()"
   ]
  },
  {
   "cell_type": "code",
   "execution_count": 5,
   "id": "0240ff60",
   "metadata": {},
   "outputs": [
    {
     "name": "stdout",
     "output_type": "stream",
     "text": [
      "Data Science Masters course is highly curated and uniquely designed according to the latest industry standards.\n",
      "This program instills students the skills essential to knowledge discovery efforts to identify standard, novel, and truly differentiated solutions and decision-making, including skills in managing, querying, analyzing, visualizing, and extracting meaning from extremely large data sets.\n",
      " This trending program provides students with the statistical, mathematical and computational skills needed to meet the large-scale data science challenges of today's professional world. \n"
     ]
    }
   ],
   "source": [
    "# read() is used to read the entire content of a file\n",
    "with open(\"test2.txt\",\"r\" )as f:\n",
    "    print(f.read())"
   ]
  },
  {
   "cell_type": "code",
   "execution_count": 6,
   "id": "42e0165b",
   "metadata": {},
   "outputs": [
    {
     "name": "stdout",
     "output_type": "stream",
     "text": [
      "Data Science Masters course is highly curated and uniquely designed according to the latest industry standards.\n",
      "\n"
     ]
    }
   ],
   "source": [
    "# readline() is used to read one line in the file\n",
    "with open(\"test2.txt\", \"r\") as f:\n",
    "    print(f.readline())"
   ]
  },
  {
   "cell_type": "code",
   "execution_count": 7,
   "id": "c23344d3",
   "metadata": {},
   "outputs": [
    {
     "name": "stdout",
     "output_type": "stream",
     "text": [
      "['Data Science Masters course is highly curated and uniquely designed according to the latest industry standards.\\n', 'This program instills students the skills essential to knowledge discovery efforts to identify standard, novel, and truly differentiated solutions and decision-making, including skills in managing, querying, analyzing, visualizing, and extracting meaning from extremely large data sets.\\n', \" This trending program provides students with the statistical, mathematical and computational skills needed to meet the large-scale data science challenges of today's professional world. \"]\n"
     ]
    }
   ],
   "source": [
    "# readlines() is used to read all lines and returns them as a list of strings.\n",
    "with open(\"test2.txt\", \"r\") as f:\n",
    "    print(f.readlines())"
   ]
  },
  {
   "cell_type": "markdown",
   "id": "b371eb26",
   "metadata": {},
   "source": [
    "## Q5. Explain why with statement is used with open(). What is the advantage of using with statement and open() together?\n"
   ]
  },
  {
   "cell_type": "markdown",
   "id": "5aca3941",
   "metadata": {},
   "source": [
    "The with statement is used with open() in Python to ensure that the file is properly closed after you are done with it. Also,if an exception occurs within it, it will automatically close the file. This helps avoid resource leaks and potential data corruption."
   ]
  },
  {
   "cell_type": "markdown",
   "id": "f125b261",
   "metadata": {},
   "source": [
    "## Q6. Explain the write() and writelines() functions. Give a suitable example"
   ]
  },
  {
   "cell_type": "markdown",
   "id": "b8a29f53",
   "metadata": {},
   "source": [
    "write() is used to write a single string to a file."
   ]
  },
  {
   "cell_type": "code",
   "execution_count": 8,
   "id": "6b740a43",
   "metadata": {},
   "outputs": [],
   "source": [
    "with open(\"test3.txt\",\"w\") as f:\n",
    "    f.write(\"Data Science Masters course is highly curated and uniquely designed according to the latest industry\")"
   ]
  },
  {
   "cell_type": "markdown",
   "id": "c6766492",
   "metadata": {},
   "source": [
    "writelines() is used to write a list of string to a file. It takes a sequence of string as input and writes each string to the file."
   ]
  },
  {
   "cell_type": "code",
   "execution_count": 9,
   "id": "7afdc29c",
   "metadata": {},
   "outputs": [],
   "source": [
    " l = \"Data Science Masters course is highly curated and uniquely designed according to the latest industry\".split()"
   ]
  },
  {
   "cell_type": "code",
   "execution_count": 10,
   "id": "0a215bfb",
   "metadata": {},
   "outputs": [
    {
     "data": {
      "text/plain": [
       "['Data',\n",
       " 'Science',\n",
       " 'Masters',\n",
       " 'course',\n",
       " 'is',\n",
       " 'highly',\n",
       " 'curated',\n",
       " 'and',\n",
       " 'uniquely',\n",
       " 'designed',\n",
       " 'according',\n",
       " 'to',\n",
       " 'the',\n",
       " 'latest',\n",
       " 'industry']"
      ]
     },
     "execution_count": 10,
     "metadata": {},
     "output_type": "execute_result"
    }
   ],
   "source": [
    "l"
   ]
  },
  {
   "cell_type": "code",
   "execution_count": 11,
   "id": "59218990",
   "metadata": {},
   "outputs": [],
   "source": [
    "with open(\"test4.txt\",\"w\") as f:\n",
    "    f.writelines(l)"
   ]
  },
  {
   "cell_type": "code",
   "execution_count": 12,
   "id": "c919fc85",
   "metadata": {},
   "outputs": [
    {
     "name": "stdout",
     "output_type": "stream",
     "text": [
      "DataScienceMasterscourseishighlycuratedanduniquelydesignedaccordingtothelatestindustry\n"
     ]
    }
   ],
   "source": [
    "with open(\"test4.txt\",\"r\") as g:\n",
    "    print(g.read())"
   ]
  }
 ],
 "metadata": {
  "kernelspec": {
   "display_name": "Python 3 (ipykernel)",
   "language": "python",
   "name": "python3"
  },
  "language_info": {
   "codemirror_mode": {
    "name": "ipython",
    "version": 3
   },
   "file_extension": ".py",
   "mimetype": "text/x-python",
   "name": "python",
   "nbconvert_exporter": "python",
   "pygments_lexer": "ipython3",
   "version": "3.9.16"
  }
 },
 "nbformat": 4,
 "nbformat_minor": 5
}
