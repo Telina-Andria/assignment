{
 "cells": [
  {
   "cell_type": "markdown",
   "id": "7882a8e0",
   "metadata": {},
   "source": [
    "# Q1: What is the difference between a t-test and a z-test? Provide an example scenario where you would use each type of test.\n"
   ]
  },
  {
   "cell_type": "markdown",
   "id": "9110015f",
   "metadata": {},
   "source": [
    "Both t-tests and z-tests are statistical tests used to compare two means. However, they differ in some ways:\n",
    "1. A t-test is used when the standard deviation of the dataset is unknown, whereas a z-test is used when the standard deviation is known.\n",
    "2. A t-test is used when the sample size is small (less than 30), whereas a z-test is used when the sample size is large (more than 30).\n",
    " \n",
    "_Here's an example scenario where a t-test would be used:\n",
    "\n",
    "Suppose you want to test whether there is a significant difference in the average weight of two breeds of dogs, Labrador Retrievers and Golden Retrievers. You randomly select 10 dogs from each breed and weigh them. You find that the mean weight of Labrador Retrievers is 70 pounds with a standard deviation of 5 pounds, and the mean weight of Golden Retrievers is 75 pounds with a standard deviation of 8 pounds.\n",
    "\n",
    "Since the sample size is small (n = 10), and the standard deviation of the population is unknown, you would use a t-test to determine whether the difference in means is statistically significant. \n",
    " \n",
    "_Here's an example scenario where a z-test would be used :\n",
    "\n",
    "Suppose you want to test whether a new drug is effective in reducing blood pressure. You randomly select 500 patients with high blood pressure and divide them into two groups: a treatment group and a control group. The treatment group receives the new drug, while the control group receives a placebo. After a month, you measure the blood pressure of each patient and calculate the mean blood pressure for each group.\n",
    "\n",
    "Assume that the standard deviation of the population is known to be 10 mmHg. Since the sample size is large (n = 250 for each group), you can use a z-test to determine whether the difference in means is statistically significant. "
   ]
  },
  {
   "cell_type": "markdown",
   "id": "32440b33",
   "metadata": {},
   "source": [
    "# Q2: Differentiate between one-tailed and two-tailed tests.\n"
   ]
  },
  {
   "cell_type": "markdown",
   "id": "012a232f",
   "metadata": {},
   "source": [
    "In hypotheses testing we are trying to reject a null hypotheses by doing analysis on our dataset.  This test involves formulating an alternative hypothesis to replace the null hypothesis. This alternative hypothesis may be different, less than, or greater than the null hypothesis.\n",
    "\n",
    "A one-tailed test may be either left-tailed or right-tailed.A left-tailed test is used when the alternative hypothesis states that the true value of the parameter specified in the null hypothesis is less than the null hypothesis claims.A right-tailed test is used when the alternative hypothesis states that the true value of the parameter specified in the null hypothesis is greater than the null hypothesis claims\n",
    "\n",
    "A two-tailed test is a statistical test used to determine whether the mean of a sample is significantly different from a hypothesized value. In a two-tailed test, the alternative hypothesis states that the true value of the parameter specified in the null hypothesis is not equal to the null hypothesis claims."
   ]
  },
  {
   "cell_type": "markdown",
   "id": "2aab4491",
   "metadata": {},
   "source": [
    "# Q3: Explain the concept of Type 1 and Type 2 errors in hypothesis testing. Provide an example scenario for each type of error.\n"
   ]
  },
  {
   "cell_type": "markdown",
   "id": "b9b6f25a",
   "metadata": {},
   "source": [
    "In statistics, a Type I error occurs when we reject a null hypothesis that is actually true and a Type II error occurs when we fail to reject a null hypothesis that is actually false. \n",
    "\n",
    "For example :\n",
    "You decide to get tested for COVID-19 based on mild symptoms. There are two errors that could potentially occur:\n",
    "\n",
    "Type I error (false positive): the test result says you have coronavirus, but you actually don’t.\n",
    "\n",
    "Type II error (false negative): the test result says you don’t have coronavirus, but you actually do."
   ]
  },
  {
   "cell_type": "markdown",
   "id": "6876a60d",
   "metadata": {},
   "source": [
    "# Q4:  Explain Bayes's theorem with an example.\n"
   ]
  },
  {
   "cell_type": "markdown",
   "id": "754fc7dc",
   "metadata": {},
   "source": [
    "Bayes's theorem is a fundamental concept in probability theory and statistics that describes how to update the probability of a hypothesis (an event or proposition) based on new evidence or information.\n",
    "\n",
    "\\begin{align*}\n",
    "P(A|B) &= \\frac{P(B|A) \\cdot P(A)}{P(B)}\n",
    "\\end{align*}\n",
    "\n",
    "Where:\n",
    "* P(A|B) is the probability of hypothesis A given evidence B\n",
    "* P(B|A) is the probability of hypothesis B given  evidence A\n",
    "* P(A) is the prior probability of hypothesis A\n",
    "* P(B) is the prior probability of hypothesis B\n",
    "\n",
    "\n",
    "##### Bayes's Theorem Example: Medical Test for a Rare Disease\n",
    "\n",
    "Suppose there's a rare disease that affects 1\\% of the population. You go to a doctor for a test that can detect the disease with 95\\% accuracy. If you test positive, what is the probability that you actually have the disease?\n",
    "\n",
    "Let's define the events:\n",
    "\\begin{align*}\n",
    "A & : \\text{You have the disease.} \\\\\n",
    "B & : \\text{You test positive for the disease.}\n",
    "\\end{align*}\n",
    "\n",
    "Given information:\n",
    "\\begin{align*}\n",
    "P(A) &= 0.01 \\quad \\text{(1\\% chance of having the disease)} \\\\\n",
    "P(B|A) &= 0.95 \\quad \\text{(95\\% accuracy of the test when you have the disease)} \\\\\n",
    "P(B|\\neg A) &= 0.05 \\quad \\text{(5\\% false positive rate of the test)}\n",
    "\\end{align*}\n",
    "\n",
    "We want to calculate $P(A|B)$, the probability of having the disease given that you tested positive.\n",
    "\n",
    "Using Bayes's theorem:\n",
    "\\begin{align*}\n",
    "P(A|B) &= \\frac{P(B|A) \\cdot P(A)}{P(B)}\n",
    "\\end{align*}\n",
    "\n",
    "The denominator $P(B)$ can be calculated using the law of total probability:\n",
    "\\begin{align*}\n",
    "P(B) &= P(B|A) \\cdot P(A) + P(B|\\neg A) \\cdot P(\\neg A) \\\\\n",
    "&= (0.95 \\cdot 0.01) + (0.05 \\cdot 0.99) \\\\\n",
    "&\\approx 0.0595\n",
    "\\end{align*}\n",
    "\n",
    "Now, plug in the values into Bayes's theorem:\n",
    "\\begin{align*}\n",
    "P(A|B) &= \\frac{0.95 \\cdot 0.01}{0.0595} \\\\\n",
    "&\\approx 0.1597\n",
    "\\end{align*}\n",
    "\n",
    "So, even if you test positive for the disease, the probability that you actually have the disease is only about 16\\%. This demonstrates how the prior probability (prevalence of the disease) and the accuracy of the test affect the final probability.\n",
    "\n",
    "Bayes's theorem allows us to update our beliefs in a systematic way based on new evidence, making it a powerful tool in decision-making under uncertainty.\n"
   ]
  },
  {
   "cell_type": "markdown",
   "id": "92db08b0",
   "metadata": {},
   "source": [
    "# Q5: What is a confidence interval? How to calculate the confidence interval, explain with an example.\n",
    "\n"
   ]
  },
  {
   "cell_type": "markdown",
   "id": "f87730bd",
   "metadata": {},
   "source": [
    "When we do estimation on a parameter, there may be chance that this estimation are incorrect due to the randomness of the sample. So to deal with randomnes, we are using interval with degree of confidence.\n",
    "\n",
    "To calculate Confidence we use this formula:\n",
    "\n",
    "* lower bound = sample_estimation - margin error \n",
    " \n",
    "* upper bound = sample_estimation + margin error\n",
    "\n",
    "Where margin error for a two tailed test is :\n",
    "\n",
    "##### Z-test\n",
    "\n",
    "$\n",
    "\\text{Margin of Error} = Z(1-alpha/2) \\times \\frac{\\sigma}{\\sqrt{n}}\n",
    "$\n",
    "\n",
    "Where:\n",
    "\n",
    "1. Z is the z-score corresponding to the desired confidence level.\n",
    "2. σ is the population standard deviation.\n",
    "3. n is the sample size.\n",
    "\n",
    "\n",
    "##### T-test \n",
    "$\n",
    "\\text{Margin of Error} = T(1-alpha/2) \\times \\frac{\\sigma}{\\sqrt{n}}\n",
    "$\n",
    "\n",
    "1. T is the corresponding t-table for the confidence level\n",
    "2. σ is the sample standard deviation.\n",
    "3. n is the sample size.\n"
   ]
  },
  {
   "cell_type": "markdown",
   "id": "d629015c",
   "metadata": {},
   "source": [
    "# Q6. Use Bayes' Theorem to calculate the probability of an event occurring given prior knowledge of the event's probability and new evidence. Provide a sample problem and solution.\n",
    "\n"
   ]
  },
  {
   "cell_type": "markdown",
   "id": "18583223",
   "metadata": {},
   "source": [
    "* P(Fire) dangerous fires are rare (1%)\n",
    "* P(Smoke) smoke is fairly common (10%)\n",
    "* P(Smoke|Fire) 90% of dangerous fires make smoke"
   ]
  },
  {
   "cell_type": "code",
   "execution_count": 1,
   "id": "00632cce",
   "metadata": {},
   "outputs": [
    {
     "name": "stdout",
     "output_type": "stream",
     "text": [
      "Probability of dangerous Fire when there is Smoke: 0.09000000000000001\n"
     ]
    }
   ],
   "source": [
    "# P(Fire) = p1\n",
    "p1 = 0.01\n",
    "# P(Smoke) = p2\n",
    "p2 = 0.1\n",
    "# P(Smoke|Fire) = p3\n",
    "p3 = 0.9\n",
    "# P(Fire|Smoke) = p4\n",
    "p4 = p1*p3/p2\n",
    "  \n",
    "print(f\"Probability of dangerous Fire when there is Smoke: {p4}\")"
   ]
  },
  {
   "cell_type": "markdown",
   "id": "3add6db0",
   "metadata": {},
   "source": [
    "# Q7. Calculate the 95% confidence interval for a sample of data with a mean of 50 and a standard deviation of 5. Interpret the results.\n"
   ]
  },
  {
   "cell_type": "code",
   "execution_count": 2,
   "id": "8b2fc076",
   "metadata": {},
   "outputs": [],
   "source": [
    "import math\n",
    "from scipy.stats import t"
   ]
  },
  {
   "cell_type": "code",
   "execution_count": 3,
   "id": "08cee2c1",
   "metadata": {},
   "outputs": [],
   "source": [
    "def interval_estimate( sample_mean, sample_std, sample_size ):\n",
    "    \"\"\"This function estimate the interval estimate of population mean using the sample mean, standard deviation ,and sample size.\"\"\"\n",
    "    alpha = 0.05\n",
    "    \n",
    "    #bondary for a two tailed \n",
    "    t_crit = t.ppf(1-alpha/2, sample_size-1 )\n",
    "    \n",
    "    #standard error of the mean\n",
    "    std_error = sample_std/math.sqrt(sample_size)\n",
    "    \n",
    "    #margin error using 95% confidence interval\n",
    "    margin_error = t_crit * std_error\n",
    "    \n",
    "    #lower and upper bounds of CI\n",
    "    lower_bound = sample_mean - margin_error\n",
    "    upper_bound = sample_mean + margin_error\n",
    "    \n",
    "    #return the interval estimate\n",
    "    return (lower_bound,upper_bound)"
   ]
  },
  {
   "cell_type": "code",
   "execution_count": 4,
   "id": "7a13110a",
   "metadata": {},
   "outputs": [
    {
     "data": {
      "text/plain": [
       "(48.1329693162095, 51.8670306837905)"
      ]
     },
     "execution_count": 4,
     "metadata": {},
     "output_type": "execute_result"
    }
   ],
   "source": [
    "interval_estimate(50, 5, 30)"
   ]
  },
  {
   "cell_type": "markdown",
   "id": "ef3f4c0b",
   "metadata": {},
   "source": [
    "# Q8. What is the margin of error in a confidence interval? How does sample size affect the margin of error? Provide an example of a scenario where a larger sample size would result in a smaller margin of error.\n",
    "\n"
   ]
  },
  {
   "cell_type": "markdown",
   "id": "58925256",
   "metadata": {},
   "source": [
    "The margin of error in a confidence interval is the range of values that is likely to contain the true population parameter with a certain level of confidence. A larger sample size generally results in a smaller margin of error, as larger samples tend to better represent the population and reduce the impact of random variation.\n",
    "\n",
    "For a two tailed T-test, margin error is given b this formula. \n",
    "\n",
    "$\n",
    "\\text{Margin of Error} = T(1-alpha/2) \\times \\frac{\\sigma}{\\sqrt{n}}\n",
    "$\n",
    "\n",
    "So mathematicaly when n become larger, the margin error become more and more smaller.\n",
    "\n",
    "For example"
   ]
  },
  {
   "cell_type": "code",
   "execution_count": 5,
   "id": "0e63cc0a",
   "metadata": {},
   "outputs": [
    {
     "data": {
      "text/plain": [
       "(48.1329693162095, 51.8670306837905)"
      ]
     },
     "execution_count": 5,
     "metadata": {},
     "output_type": "execute_result"
    }
   ],
   "source": [
    "interval_estimate(50,5,30)"
   ]
  },
  {
   "cell_type": "markdown",
   "id": "9cac1953",
   "metadata": {},
   "source": [
    "Now let's increase the sample size to 1000. We can see that the range of confidence interval become smaller"
   ]
  },
  {
   "cell_type": "code",
   "execution_count": 6,
   "id": "8246f366",
   "metadata": {},
   "outputs": [
    {
     "data": {
      "text/plain": [
       "(49.00789152424566, 50.99210847575434)"
      ]
     },
     "execution_count": 6,
     "metadata": {},
     "output_type": "execute_result"
    }
   ],
   "source": [
    "interval_estimate(50,5,100)"
   ]
  },
  {
   "cell_type": "markdown",
   "id": "02cb21a1",
   "metadata": {},
   "source": [
    "# Q9. Calculate the z-score for a data point with a value of 75, a population mean of 70, and a population standard deviation of 5. Interpret the results.\n",
    "\n"
   ]
  },
  {
   "cell_type": "markdown",
   "id": "e72cbe72",
   "metadata": {},
   "source": [
    "$$z = \\frac{x - \\mu}{\\sigma}$$\n",
    "Where:\n",
    "* x is the data point\n",
    "* mu is the population mean \n",
    "* sigma is the population standard deviation"
   ]
  },
  {
   "cell_type": "code",
   "execution_count": 7,
   "id": "df329f53",
   "metadata": {},
   "outputs": [
    {
     "name": "stdout",
     "output_type": "stream",
     "text": [
      "1.0\n"
     ]
    }
   ],
   "source": [
    "z_score = (75-70)/5\n",
    "print(z_score)"
   ]
  },
  {
   "cell_type": "markdown",
   "id": "9bd55337",
   "metadata": {},
   "source": [
    "A z-score of 1 means that the data point is 1 standard deviation above the population mean. In other words, the value of 75 is relatively high compared to the rest of the population."
   ]
  },
  {
   "cell_type": "markdown",
   "id": "aa83c147",
   "metadata": {},
   "source": [
    "# Q10. In a study of the effectiveness of a new weight loss drug, a sample of 50 participants lost an average of 6 pounds with a standard deviation of 2.5 pounds. Conduct a hypothesis test to determine if the drug is significantly effective at a 95% confidence level using a t-test.\n"
   ]
  },
  {
   "cell_type": "code",
   "execution_count": 8,
   "id": "45011847",
   "metadata": {},
   "outputs": [
    {
     "name": "stdout",
     "output_type": "stream",
     "text": [
      "t_crit = 1.6765508919142629, t_stat = 16.970562748477143\n",
      "Reject Ho. The drug is effective\n"
     ]
    }
   ],
   "source": [
    "Ho = \"The drug is not significantly effective\" # population mean = 0\n",
    "Ha = \"The drug is effective\"  # population mean is not equal to 0\n",
    "\n",
    "#we assume the null hypotheses is correct at first\n",
    "µ = 0\n",
    "\n",
    "#sample mean\n",
    "s_mean = 6\n",
    "s_std = 2.5\n",
    "n = 50\n",
    "alpha = 0.05\n",
    "\n",
    "#t-statistics\n",
    "t_stat = (s_mean - µ )/(s_std/math.sqrt(n))\n",
    "\n",
    "#bondary\n",
    "t_crit = t.ppf( 1-alpha, n-1 )\n",
    "\n",
    "\n",
    "print(f\"t_crit = {t_crit}, t_stat = {t_stat}\")\n",
    "if t_stat < -t_crit or t_stat > t_crit:\n",
    "    print(\"Reject Ho.\", Ha)\n",
    "else:\n",
    "    print(\"Fail to reject Ho.\", Ho)\n",
    "\n"
   ]
  },
  {
   "cell_type": "markdown",
   "id": "74cfc4d8",
   "metadata": {},
   "source": [
    "# Q11. In a survey of 500 people, 65% reported being satisfied with their current job. Calculate the 95% confidence interval for the true proportion of people who are satisfied with their job.\n"
   ]
  },
  {
   "cell_type": "code",
   "execution_count": 9,
   "id": "00a05615",
   "metadata": {},
   "outputs": [
    {
     "ename": "NameError",
     "evalue": "name 'norm' is not defined",
     "output_type": "error",
     "traceback": [
      "\u001b[1;31m---------------------------------------------------------------------------\u001b[0m",
      "\u001b[1;31mNameError\u001b[0m                                 Traceback (most recent call last)",
      "Cell \u001b[1;32mIn[9], line 6\u001b[0m\n\u001b[0;32m      3\u001b[0m alpha \u001b[38;5;241m=\u001b[39m \u001b[38;5;241m0.05\u001b[39m\n\u001b[0;32m      5\u001b[0m \u001b[38;5;66;03m#z score\u001b[39;00m\n\u001b[1;32m----> 6\u001b[0m z_score \u001b[38;5;241m=\u001b[39m \u001b[43mnorm\u001b[49m\u001b[38;5;241m.\u001b[39mppf(alpha\u001b[38;5;241m/\u001b[39m\u001b[38;5;241m2\u001b[39m)\n\u001b[0;32m      8\u001b[0m \u001b[38;5;66;03m# Calculate standard error\u001b[39;00m\n\u001b[0;32m      9\u001b[0m standard_error \u001b[38;5;241m=\u001b[39m math\u001b[38;5;241m.\u001b[39msqrt((sample_proportion \u001b[38;5;241m*\u001b[39m (\u001b[38;5;241m1\u001b[39m \u001b[38;5;241m-\u001b[39m sample_proportion)) \u001b[38;5;241m/\u001b[39m sample_size)\n",
      "\u001b[1;31mNameError\u001b[0m: name 'norm' is not defined"
     ]
    }
   ],
   "source": [
    "sample_proportion = 0.65\n",
    "sample_size = 500\n",
    "alpha = 0.05\n",
    "\n",
    "#z score\n",
    "z_score = norm.ppf(alpha/2)\n",
    "\n",
    "# Calculate standard error\n",
    "standard_error = math.sqrt((sample_proportion * (1 - sample_proportion)) / sample_size)\n",
    "\n",
    "# Calculate margin of error\n",
    "margin_of_error = z_score * standard_error\n",
    "\n",
    "# Calculate confidence interval\n",
    "lower_bound = sample_proportion - margin_of_error\n",
    "upper_bound = sample_proportion + margin_of_error\n",
    "\n",
    "# Print the confidence interval\n",
    "print(\"95% Confidence Interval:\", (lower_bound, upper_bound))"
   ]
  },
  {
   "cell_type": "markdown",
   "id": "3b6a29ae",
   "metadata": {},
   "source": [
    "# Q12. A researcher is testing the effectiveness of two different teaching methods on student performance. Sample A has a mean score of 85 with a standard deviation of 6, while sample B has a mean score of 82 with a standard deviation of 5. Conduct a hypothesis test to determine if the two teaching methods have a significant difference in student performance using a t-test with a significance level of 0.01.\n"
   ]
  },
  {
   "cell_type": "code",
   "execution_count": null,
   "id": "3ed9c0a4",
   "metadata": {},
   "outputs": [],
   "source": [
    "Ho = \"Two teaching methods are similar in their aim to improve student performance\"\n",
    "Ha = \"Two teaching method are not similar in their aim to improve student performance \"\n",
    "\n",
    "#sample 1\n",
    "mean1 = 85\n",
    "std1 = 6\n",
    "n1 = 30\n",
    "#sample 2\n",
    "mean2 = 82\n",
    "std2 = 5\n",
    "n2 = 30\n",
    "\n",
    "alpha = 0.01\n",
    "\n",
    "#degree of freedom for 2 sample with different variance\n",
    "df = ((std1**2/n1 + std2**2/n2 )**2)/( (std1**2/n1)**2/(n1-1) + (std2**2/n2)**2/(n2-1) )\n",
    "\n",
    "#t-statistics\n",
    "t_stat = (mean1 - mean2)/math.sqrt( std1**2/n1 + std2**2/n2 )\n",
    "\n",
    "#bondary\n",
    "t_crit = t.ppf( 1-alpha/2, df)\n",
    "\n",
    "print(f\"t-stat = {t_stat}, t_crit = {t_crit}\")\n",
    "if t_stat < -t_crit or t_stat > t_crit:\n",
    "    print(\"Reject Ho.\", Ha)\n",
    "else:\n",
    "    print(\"Fail to reject Ho.\", Ho)\n",
    "\n"
   ]
  },
  {
   "cell_type": "markdown",
   "id": "249d8930",
   "metadata": {},
   "source": [
    "# Q13. A population has a mean of 60 and a standard deviation of 8. A sample of 50 observations has a mean of 65. Calculate the 90% confidence interval for the true population mean.\n"
   ]
  },
  {
   "cell_type": "code",
   "execution_count": null,
   "id": "fa65b112",
   "metadata": {},
   "outputs": [],
   "source": [
    "from scipy.stats import norm"
   ]
  },
  {
   "cell_type": "code",
   "execution_count": null,
   "id": "e8085ef2",
   "metadata": {},
   "outputs": [],
   "source": [
    "#population\n",
    "mean = 60\n",
    "std = 8\n",
    "\n",
    "#sample\n",
    "s_mean = 65\n",
    "n = 50\n",
    "\n",
    "alpha = 0.1\n",
    "\n",
    "#bondaries for a two tailed test\n",
    "z_crit = norm.ppf( 1-alpha/2 )\n",
    " \n",
    "lower_bound = mean - z_crit*std/math.sqrt(n)\n",
    "upper_bound = mean + z_crit*std/math.sqrt(n)\n",
    "\n",
    "print(f\"The 90% confidence interval for true population mean is {(lower_bound,upper_bound)}\")\n"
   ]
  },
  {
   "cell_type": "markdown",
   "id": "e8d5e2f2",
   "metadata": {},
   "source": [
    "# Q14. In a study of the effects of caffeine on reaction time, a sample of 30 participants had an average reaction time of 0.25 seconds with a standard deviation of 0.05 seconds. Conduct a hypothesis test to determine if the caffeine has a significant effect on reaction time at a 90% confidence level using a t-test."
   ]
  },
  {
   "cell_type": "markdown",
   "id": "26f67148",
   "metadata": {},
   "source": [
    "According to research the average reaction time of a person is around 250 milliseconds"
   ]
  },
  {
   "cell_type": "code",
   "execution_count": null,
   "id": "3d49e312",
   "metadata": {},
   "outputs": [],
   "source": [
    "Ho = \"The cafeine has a significant effect on reaction time\"\n",
    "Ha = \"The cafeine doesn't affect the reaction time\"\n",
    "\n",
    "#population\n",
    "µ = 0.25\n",
    "#sample\n",
    "mean = 0.25\n",
    "std = 0.05\n",
    "n = 30 \n",
    "\n",
    "alpha = 0.1\n",
    "\n",
    "# bondaries\n",
    "t_crit = t.ppf( 1-alpha/2, n-1)\n",
    "\n",
    "# t-statistics\n",
    "t_stat = (mean - µ)/(std/math.sqrt(n))\n",
    "\n",
    "print(f\"t-stat = {t_stat}, t_crit = {t_crit}\")\n",
    "if t_stat < -t_crit or t_stat > t_crit:\n",
    "    print(\"Reject Ho.\", Ha)\n",
    "else:\n",
    "    print(\"Fail to reject Ho.\", Ho)\n"
   ]
  }
 ],
 "metadata": {
  "kernelspec": {
   "display_name": "Python 3 (ipykernel)",
   "language": "python",
   "name": "python3"
  },
  "language_info": {
   "codemirror_mode": {
    "name": "ipython",
    "version": 3
   },
   "file_extension": ".py",
   "mimetype": "text/x-python",
   "name": "python",
   "nbconvert_exporter": "python",
   "pygments_lexer": "ipython3",
   "version": "3.9.16"
  }
 },
 "nbformat": 4,
 "nbformat_minor": 5
}
