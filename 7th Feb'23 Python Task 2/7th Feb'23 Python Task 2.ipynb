{
 "cells": [
  {
   "cell_type": "markdown",
   "id": "158bdb50",
   "metadata": {},
   "source": [
    "##  Q1. You are writing a code for a company. The requirement of the company is that you create a python function that will check whether the password entered by the user is correct or not. The function should take the password as input and return the string \"Valid Password\" if the entered password follows the below-given password guidelines else it should return \"Invalid Password\"\n",
    "\n",
    "Note:\n",
    "1- The password should contain at least two uppercase letters and at least two lowercase letters.\n",
    "2- The password should contain at least a number and three special characters.\n",
    "3- The length of the password should be 10 characters long."
   ]
  },
  {
   "cell_type": "code",
   "execution_count": 15,
   "id": "38c06f33",
   "metadata": {},
   "outputs": [],
   "source": [
    "def check_password(password):\n",
    "    \"\"\"This function take password as input and return Valid Password or Invalid Password depending on the criteria:\n",
    "    1- The password should contain at least two uppercase letters and at least two lowercase letters.\n",
    "    2- The password should contain at least a number and three special characters.\n",
    "    3- The length of the password should be 10 characters long.\"\"\"\n",
    "    uppercase=lowercase=number=special_char=0\n",
    "    \n",
    "    for char in password:\n",
    "        if ord(char) in range(ord(\"A\"),ord(\"Z\")+1):\n",
    "            uppercase+=1\n",
    "        elif ord(char) in range(ord(\"a\"),ord(\"z\")+1):\n",
    "            lowercase+=1\n",
    "        elif ord(char) in range(ord(\"1\") ,ord(\"9\")+1):\n",
    "            number+=1\n",
    "        elif char in \"!\\\"#$%&'()*+,-./:;<=>?@[\\]^_`{|}~\":\n",
    "            special_char+=1\n",
    "    \n",
    "    if uppercase>=2 and lowercase>2 and number>=1 and special_char>=3 and len(password)==10:\n",
    "        return \"Valid Password\"\n",
    "    else:\n",
    "        return \"Invalid Password\"\n",
    "    "
   ]
  },
  {
   "cell_type": "code",
   "execution_count": 19,
   "id": "7654da27",
   "metadata": {},
   "outputs": [
    {
     "data": {
      "text/plain": [
       "'Invalid Password'"
      ]
     },
     "execution_count": 19,
     "metadata": {},
     "output_type": "execute_result"
    }
   ],
   "source": [
    "check_password(\"AaBbCc1!2d\")"
   ]
  },
  {
   "cell_type": "code",
   "execution_count": 21,
   "id": "2c061535",
   "metadata": {},
   "outputs": [
    {
     "data": {
      "text/plain": [
       "'Valid Password'"
      ]
     },
     "execution_count": 21,
     "metadata": {},
     "output_type": "execute_result"
    }
   ],
   "source": [
    "check_password(\"AaBbCc!1&#\")"
   ]
  },
  {
   "cell_type": "markdown",
   "id": "7a4a3d25",
   "metadata": {},
   "source": [
    "## Q2. Solve the below-given questions using at least one of the following:\n",
    "1.lambda function\n",
    "2.Filter function\n",
    "3.Map function\n",
    "4.List Comprehension\n",
    "\n",
    "Check if the string starts with a particular letter, \n",
    "check if the string is numeric, \n",
    "Sort a list of tuples having fruit names and their quantity.[(\"mango\",99),(\"orange\",80),(\"grapes\",1000)], \n",
    "find the squares of numbers from 1 to 10, \n",
    "find the cube root of numbers from 1 to 10, \n",
    "check if a given number is even, \n",
    "filter odd number from the given list. [1,2,3,4,5,6,7,8,9,10], \n",
    "sort a list of integers into positive and negative integers lists. [1,2,3,4,5,6,-1,-2,-3,-4,-5,0], "
   ]
  },
  {
   "cell_type": "code",
   "execution_count": 45,
   "id": "f6af5349",
   "metadata": {},
   "outputs": [
    {
     "data": {
      "text/plain": [
       "['abc', 'aba', 'arc']"
      ]
     },
     "execution_count": 45,
     "metadata": {},
     "output_type": "execute_result"
    }
   ],
   "source": [
    "def check_start(strings, letter):\n",
    "    \"\"\"This function take list of string and a letter as input and return all string that start with the letter \n",
    "    in a list\"\"\"\n",
    "    return [string for string in strings if string.startswith(letter) ]\n",
    "        \n",
    "check_start([\"abc\" ,\"aba\" ,\"baba\" ,\"cece\", \"arc\" ,\"bo\"] , \"a\")"
   ]
  },
  {
   "cell_type": "code",
   "execution_count": 47,
   "id": "c1589b09",
   "metadata": {},
   "outputs": [
    {
     "data": {
      "text/plain": [
       "['123', '235']"
      ]
     },
     "execution_count": 47,
     "metadata": {},
     "output_type": "execute_result"
    }
   ],
   "source": [
    "def check_numeric(strings):\n",
    "    \"\"\"This functions take list of strings as input and return a list of all numeric string\"\"\"\n",
    "    return [num for num in strings if num.isnumeric() ]\n",
    "\n",
    "check_numeric([\"123\",\"aba\" ,\"12aba\",\"235\"])"
   ]
  },
  {
   "cell_type": "code",
   "execution_count": 60,
   "id": "a1d44228",
   "metadata": {},
   "outputs": [
    {
     "name": "stdout",
     "output_type": "stream",
     "text": [
      "[('orange', 80), ('mango', 99), ('grapes', 1000)]\n"
     ]
    }
   ],
   "source": [
    "# Sort a list of tuples having fruit names and their quantity\n",
    "l = [(\"mango\",99), (\"orange\",80) ,(\"grapes\",1000)]\n",
    "l.sort(key=lambda x:x[1])\n",
    "print(l)"
   ]
  },
  {
   "cell_type": "code",
   "execution_count": 70,
   "id": "76425768",
   "metadata": {},
   "outputs": [
    {
     "data": {
      "text/plain": [
       "[1, 4, 9, 16, 25, 36, 49, 64, 81, 100]"
      ]
     },
     "execution_count": 70,
     "metadata": {},
     "output_type": "execute_result"
    }
   ],
   "source": [
    "def square_10():\n",
    "    \"\"\"This functions will return the square of numbers from 1 to 10\"\"\"\n",
    "    return list(map(lambda x:x**2, range(1,11)))\n",
    "square_10()"
   ]
  },
  {
   "cell_type": "code",
   "execution_count": 71,
   "id": "14d36c66",
   "metadata": {},
   "outputs": [
    {
     "data": {
      "text/plain": [
       "[1.0,\n",
       " 1.2599210498948732,\n",
       " 1.4422495703074083,\n",
       " 1.5874010519681994,\n",
       " 1.7099759466766968,\n",
       " 1.8171205928321397,\n",
       " 1.912931182772389,\n",
       " 2.0,\n",
       " 2.080083823051904,\n",
       " 2.154434690031884]"
      ]
     },
     "execution_count": 71,
     "metadata": {},
     "output_type": "execute_result"
    }
   ],
   "source": [
    "def cube_root_10():\n",
    "    \"\"\"This functions will return the cube root of numbers from 1 to 10\"\"\"\n",
    "    return [ i**(1/3) for i in range(1,11) ]\n",
    "cube_root_10()"
   ]
  },
  {
   "cell_type": "code",
   "execution_count": 72,
   "id": "2b3590b8",
   "metadata": {},
   "outputs": [
    {
     "data": {
      "text/plain": [
       "False"
      ]
     },
     "execution_count": 72,
     "metadata": {},
     "output_type": "execute_result"
    }
   ],
   "source": [
    "#check if a given number is even.\n",
    "check_even = lambda n: n%2 == 0     \n",
    "check_even(5)"
   ]
  },
  {
   "cell_type": "code",
   "execution_count": 73,
   "id": "e27f75ad",
   "metadata": {},
   "outputs": [
    {
     "data": {
      "text/plain": [
       "[1, 3, 5, 7, 9]"
      ]
     },
     "execution_count": 73,
     "metadata": {},
     "output_type": "execute_result"
    }
   ],
   "source": [
    "#Filter odd numbers from the given list\n",
    "l = [1,2,3,4,5,6,7,8,9,10]\n",
    "l_odd = list( filter(lambda x: x%2==1 , l) )\n",
    "l_odd"
   ]
  },
  {
   "cell_type": "code",
   "execution_count": 89,
   "id": "9dd6756e",
   "metadata": {},
   "outputs": [
    {
     "name": "stdout",
     "output_type": "stream",
     "text": [
      "l pos=[0, 1, 2, 3, 4, 5, 6]\n",
      "l neg=[-5, -4, -3, -2, -1]\n"
     ]
    }
   ],
   "source": [
    "#Sort a list of integers into positive and negative integers lists\n",
    "l = [1,2,3,4,5,6,-1,-2,-3,-4,-5,0]\n",
    "l_pos = [n for n in l if n>=0 ]\n",
    "l_neg = [n for n in l if n<0]\n",
    "\n",
    "l_pos.sort()\n",
    "l_neg.sort()\n",
    "\n",
    "print(\"l pos\", l_pos, sep=\"=\")\n",
    "print(\"l neg\", l_neg, sep=\"=\")"
   ]
  }
 ],
 "metadata": {
  "kernelspec": {
   "display_name": "Python 3 (ipykernel)",
   "language": "python",
   "name": "python3"
  },
  "language_info": {
   "codemirror_mode": {
    "name": "ipython",
    "version": 3
   },
   "file_extension": ".py",
   "mimetype": "text/x-python",
   "name": "python",
   "nbconvert_exporter": "python",
   "pygments_lexer": "ipython3",
   "version": "3.9.16"
  }
 },
 "nbformat": 4,
 "nbformat_minor": 5
}
